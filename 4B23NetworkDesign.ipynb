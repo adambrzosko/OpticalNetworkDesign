{
 "cells": [
  {
   "cell_type": "code",
   "execution_count": 37,
   "id": "36523387",
   "metadata": {},
   "outputs": [],
   "source": [
    "import numpy as np\n",
    "import networkx as nx\n",
    "import itertools\n",
    "from itertools import permutations\n",
    "from itertools import product\n",
    "import matplotlib.pyplot as plt"
   ]
  },
  {
   "cell_type": "code",
   "execution_count": 11,
   "id": "fd01db74",
   "metadata": {},
   "outputs": [
    {
     "name": "stdout",
     "output_type": "stream",
     "text": [
      "{'London': {'London': 0, 'Manchester': 262, 'Birmingham': 162, 'Leeds': 272, 'Glasgow': 555}, 'Manchester': {'London': 262, 'Manchester': 0, 'Birmingham': 113, 'Leeds': 59, 'Glasgow': 295}, 'Birmingham': {'London': 162, 'Manchester': 113, 'Birmingham': 0, 'Leeds': 148, 'Glasgow': 407}, 'Leeds': {'London': 272, 'Manchester': 59, 'Birmingham': 148, 'Leeds': 0, 'Glasgow': 288}, 'Glasgow': {'London': 555, 'Manchester': 295, 'Birmingham': 407, 'Leeds': 288, 'Glasgow': 0}}\n"
     ]
    }
   ],
   "source": [
    "Cities = [\"London\", \"Manchester\", \"Birmingham\", \"Leeds\", \"Glasgow\"]\n",
    "\n",
    "distances = [[0,262,162,272,555], [262,0,113,59,295], [162,113,0,148,407], [272,59,148,0,288], [555,295,407,288,0]]\n",
    "\n",
    "# create a dictionary of cities\n",
    "cities_dict = {i : {} for i in Cities}\n",
    "\n",
    "# connect all cities with distances\n",
    "for e in Cities:  \n",
    "    cities_dict[e] = {i : distances[Cities.index(e)][Cities.index(i)] for i in Cities}\n",
    "\n",
    "print(cities_dict)"
   ]
  },
  {
   "cell_type": "code",
   "execution_count": 68,
   "id": "606a2f65",
   "metadata": {},
   "outputs": [],
   "source": [
    "# maybe better: create a full mesh then disconnect one by one in a loop\n",
    "\n",
    "G=nx.Graph()\n",
    "G.add_nodes_from(Cities)\n",
    "for i in cities_dict:\n",
    "    for j in cities_dict[i]:\n",
    "        G.add_weighted_edges_from([(i,j,cities_dict[i][j])])\n",
    "        # G.add_edges_from([(i,j,{'distance':cities_dict[i][j]})])\n",
    "\n",
    "# remove self-edges\n",
    "G.remove_edges_from(nx.selfloop_edges(G))\n",
    "\n",
    "# add atrributes\n",
    "# G.edge['London']['Manchester']['attribute'] = 'value'"
   ]
  },
  {
   "cell_type": "code",
   "execution_count": 69,
   "id": "fcd3e161",
   "metadata": {},
   "outputs": [
    {
     "data": {
      "text/plain": [
       "NodeView(('London', 'Manchester', 'Birmingham', 'Leeds', 'Glasgow'))"
      ]
     },
     "execution_count": 69,
     "metadata": {},
     "output_type": "execute_result"
    }
   ],
   "source": [
    "G.nodes()"
   ]
  },
  {
   "cell_type": "code",
   "execution_count": 86,
   "id": "9f97ff8f",
   "metadata": {},
   "outputs": [
    {
     "data": {
      "text/plain": [
       "EdgeView([('London', 'Manchester'), ('London', 'Birmingham'), ('London', 'Leeds'), ('London', 'Glasgow'), ('Manchester', 'Birmingham'), ('Manchester', 'Leeds'), ('Manchester', 'Glasgow'), ('Birmingham', 'Leeds'), ('Birmingham', 'Glasgow'), ('Leeds', 'Glasgow')])"
      ]
     },
     "execution_count": 86,
     "metadata": {},
     "output_type": "execute_result"
    }
   ],
   "source": [
    "G.edges()"
   ]
  },
  {
   "cell_type": "code",
   "execution_count": 71,
   "id": "7fc62858",
   "metadata": {},
   "outputs": [
    {
     "data": {
      "text/plain": [
       "AtlasView({'London': {'weight': 262}, 'Birmingham': {'weight': 113}, 'Leeds': {'weight': 59}, 'Glasgow': {'weight': 295}})"
      ]
     },
     "execution_count": 71,
     "metadata": {},
     "output_type": "execute_result"
    }
   ],
   "source": [
    "G['Manchester']"
   ]
  },
  {
   "cell_type": "code",
   "execution_count": 88,
   "id": "8d8409ec",
   "metadata": {},
   "outputs": [
    {
     "data": {
      "text/plain": [
       "{'London': Text(0.9999999999999999, 2.38418583364819e-08, 'London'),\n",
       " 'Manchester': Text(0.30901696042448806, 0.9510565808604344, 'Manchester'),\n",
       " 'Birmingham': Text(-0.8090170945349412, 0.587785218735669, 'Birmingham'),\n",
       " 'Leeds': Text(-0.8090169753256495, -0.5877853498658898, 'Leeds'),\n",
       " 'Glasgow': Text(0.30901710943610267, -0.9510564735720718, 'Glasgow')}"
      ]
     },
     "execution_count": 88,
     "metadata": {},
     "output_type": "execute_result"
    },
    {
     "data": {
      "image/png": "[encoded data removed]",
      "text/plain": [
       "<Figure size 432x288 with 1 Axes>"
      ]
     },
     "metadata": {},
     "output_type": "display_data"
    }
   ],
   "source": [
    "nx.draw(G, pos=nx.circular_layout(G))\n",
    "nx.draw_networkx_labels(G,pos=nx.circular_layout(G))\n",
    "# nx.draw_networkx_edge_labels(G,pos=nx.circular_layout(G)) "
   ]
  },
  {
   "cell_type": "code",
   "execution_count": 52,
   "id": "79866967",
   "metadata": {},
   "outputs": [],
   "source": [
    "# develop a method to drop them out one by one in a loop through all possibilities and then pairwise and so \n",
    "# on until 5 at a time (max)\n",
    "\n",
    "# for i in Cities:\n",
    "#     for j in G.neighbours(i):\n",
    "#         G.remove_edge(i,j)"
   ]
  },
  {
   "cell_type": "code",
   "execution_count": 87,
   "id": "f59c8bcb",
   "metadata": {},
   "outputs": [],
   "source": [
    "G.remove_edge('London','Manchester')"
   ]
  },
  {
   "cell_type": "code",
   "execution_count": 90,
   "id": "ce4a5b97",
   "metadata": {},
   "outputs": [
    {
     "name": "stdout",
     "output_type": "stream",
     "text": [
      "{'London': {'London': 0, 'Birmingham': 162, 'Leeds': 272, 'Manchester': 275, 'Glasgow': 555}, 'Manchester': {'Manchester': 0, 'Leeds': 59, 'Birmingham': 113, 'London': 275, 'Glasgow': 295}, 'Birmingham': {'Birmingham': 0, 'Manchester': 113, 'Leeds': 148, 'London': 162, 'Glasgow': 407}, 'Leeds': {'Leeds': 0, 'Manchester': 59, 'Birmingham': 148, 'London': 272, 'Glasgow': 288}, 'Glasgow': {'Glasgow': 0, 'Leeds': 288, 'Manchester': 295, 'Birmingham': 407, 'London': 555}}\n",
      "{'London': {'London': ['London'], 'Birmingham': ['London', 'Birmingham'], 'Leeds': ['London', 'Leeds'], 'Glasgow': ['London', 'Glasgow'], 'Manchester': ['London', 'Birmingham', 'Manchester']}, 'Manchester': {'Manchester': ['Manchester'], 'Birmingham': ['Manchester', 'Birmingham'], 'Leeds': ['Manchester', 'Leeds'], 'Glasgow': ['Manchester', 'Glasgow'], 'London': ['Manchester', 'Birmingham', 'London']}, 'Birmingham': {'Birmingham': ['Birmingham'], 'London': ['Birmingham', 'London'], 'Manchester': ['Birmingham', 'Manchester'], 'Leeds': ['Birmingham', 'Leeds'], 'Glasgow': ['Birmingham', 'Glasgow']}, 'Leeds': {'Leeds': ['Leeds'], 'London': ['Leeds', 'London'], 'Manchester': ['Leeds', 'Manchester'], 'Birmingham': ['Leeds', 'Birmingham'], 'Glasgow': ['Leeds', 'Glasgow']}, 'Glasgow': {'Glasgow': ['Glasgow'], 'London': ['Glasgow', 'London'], 'Manchester': ['Glasgow', 'Manchester'], 'Birmingham': ['Glasgow', 'Birmingham'], 'Leeds': ['Glasgow', 'Leeds']}}\n",
      "2 1\n"
     ]
    }
   ],
   "source": [
    "# calculate values:\n",
    "\n",
    "# 1) shortest path between any two nodes\n",
    "path_lengths = nx.all_pairs_dijkstra_path_length(G)\n",
    "print(dict(path_lengths))\n",
    "paths = nx.all_pairs_dijkstra_path(G)\n",
    "print(dict(paths))\n",
    "# 2) decide amplifier locations - these should be roughly equally spaced, calc mean and longest paths\n",
    "# above a certain loss value (?) so length need an amplifier, above another - two amplifiers\n",
    "print(nx.diameter(G), nx.radius(G))\n"
   ]
  },
  {
   "cell_type": "code",
   "execution_count": null,
   "id": "39cd1e54",
   "metadata": {},
   "outputs": [],
   "source": []
  },
  {
   "cell_type": "code",
   "execution_count": 3,
   "id": "0b8888a4",
   "metadata": {},
   "outputs": [
    {
     "name": "stdout",
     "output_type": "stream",
     "text": [
      "[['London', 'London'], ['Manchester', 'Manchester'], ['Birmingham', 'Birmingham'], ['Leeds', 'Leeds'], ['Glasgow', 'Glasgow']]\n"
     ]
    }
   ],
   "source": [
    "#now create all possible networks with nodes of degree >= 2 - how many possibilities?\n",
    "\n",
    "# connected_list = []\n",
    "# for i in Cities:\n",
    "#     for j in Cities:\n",
    "#         if j!=i:\n",
    "#             connected_list.append([i,j])\n",
    "\n",
    "repeated_list = [[a,b] for a,b in zip(Cities,Cities)]\n",
    "print(repeated_list)"
   ]
  },
  {
   "cell_type": "code",
   "execution_count": 4,
   "id": "8d2dfaf4",
   "metadata": {},
   "outputs": [
    {
     "name": "stdout",
     "output_type": "stream",
     "text": [
      "[[('Manchester', 'London'), ('London', 'Manchester'), ('Leeds', 'Birmingham'), ('Glasgow', 'Leeds'), ('Birmingham', 'Glasgow')], [('Manchester', 'London'), ('London', 'Manchester'), ('Glasgow', 'Birmingham'), ('Birmingham', 'Leeds'), ('Leeds', 'Glasgow')], [('Manchester', 'London'), ('Birmingham', 'Manchester'), ('London', 'Birmingham'), ('Glasgow', 'Leeds'), ('Leeds', 'Glasgow')], [('Manchester', 'London'), ('Birmingham', 'Manchester'), ('Leeds', 'Birmingham'), ('Glasgow', 'Leeds'), ('London', 'Glasgow')], [('Manchester', 'London'), ('Birmingham', 'Manchester'), ('Glasgow', 'Birmingham'), ('London', 'Leeds'), ('Leeds', 'Glasgow')], [('Manchester', 'London'), ('Leeds', 'Manchester'), ('London', 'Birmingham'), ('Glasgow', 'Leeds'), ('Birmingham', 'Glasgow')], [('Manchester', 'London'), ('Leeds', 'Manchester'), ('Glasgow', 'Birmingham'), ('London', 'Leeds'), ('Birmingham', 'Glasgow')], [('Manchester', 'London'), ('Leeds', 'Manchester'), ('Glasgow', 'Birmingham'), ('Birmingham', 'Leeds'), ('London', 'Glasgow')], [('Manchester', 'London'), ('Glasgow', 'Manchester'), ('London', 'Birmingham'), ('Birmingham', 'Leeds'), ('Leeds', 'Glasgow')], [('Manchester', 'London'), ('Glasgow', 'Manchester'), ('Leeds', 'Birmingham'), ('London', 'Leeds'), ('Birmingham', 'Glasgow')], [('Manchester', 'London'), ('Glasgow', 'Manchester'), ('Leeds', 'Birmingham'), ('Birmingham', 'Leeds'), ('London', 'Glasgow')], [('Birmingham', 'London'), ('London', 'Manchester'), ('Manchester', 'Birmingham'), ('Glasgow', 'Leeds'), ('Leeds', 'Glasgow')], [('Birmingham', 'London'), ('London', 'Manchester'), ('Leeds', 'Birmingham'), ('Glasgow', 'Leeds'), ('Manchester', 'Glasgow')], [('Birmingham', 'London'), ('London', 'Manchester'), ('Glasgow', 'Birmingham'), ('Manchester', 'Leeds'), ('Leeds', 'Glasgow')], [('Birmingham', 'London'), ('Leeds', 'Manchester'), ('London', 'Birmingham'), ('Glasgow', 'Leeds'), ('Manchester', 'Glasgow')], [('Birmingham', 'London'), ('Leeds', 'Manchester'), ('Manchester', 'Birmingham'), ('Glasgow', 'Leeds'), ('London', 'Glasgow')], [('Birmingham', 'London'), ('Leeds', 'Manchester'), ('Glasgow', 'Birmingham'), ('London', 'Leeds'), ('Manchester', 'Glasgow')], [('Birmingham', 'London'), ('Leeds', 'Manchester'), ('Glasgow', 'Birmingham'), ('Manchester', 'Leeds'), ('London', 'Glasgow')], [('Birmingham', 'London'), ('Glasgow', 'Manchester'), ('London', 'Birmingham'), ('Manchester', 'Leeds'), ('Leeds', 'Glasgow')], [('Birmingham', 'London'), ('Glasgow', 'Manchester'), ('Manchester', 'Birmingham'), ('London', 'Leeds'), ('Leeds', 'Glasgow')], [('Birmingham', 'London'), ('Glasgow', 'Manchester'), ('Leeds', 'Birmingham'), ('London', 'Leeds'), ('Manchester', 'Glasgow')], [('Birmingham', 'London'), ('Glasgow', 'Manchester'), ('Leeds', 'Birmingham'), ('Manchester', 'Leeds'), ('London', 'Glasgow')], [('Leeds', 'London'), ('London', 'Manchester'), ('Manchester', 'Birmingham'), ('Glasgow', 'Leeds'), ('Birmingham', 'Glasgow')], [('Leeds', 'London'), ('London', 'Manchester'), ('Glasgow', 'Birmingham'), ('Manchester', 'Leeds'), ('Birmingham', 'Glasgow')], [('Leeds', 'London'), ('London', 'Manchester'), ('Glasgow', 'Birmingham'), ('Birmingham', 'Leeds'), ('Manchester', 'Glasgow')], [('Leeds', 'London'), ('Birmingham', 'Manchester'), ('London', 'Birmingham'), ('Glasgow', 'Leeds'), ('Manchester', 'Glasgow')], [('Leeds', 'London'), ('Birmingham', 'Manchester'), ('Manchester', 'Birmingham'), ('Glasgow', 'Leeds'), ('London', 'Glasgow')], [('Leeds', 'London'), ('Birmingham', 'Manchester'), ('Glasgow', 'Birmingham'), ('London', 'Leeds'), ('Manchester', 'Glasgow')], [('Leeds', 'London'), ('Birmingham', 'Manchester'), ('Glasgow', 'Birmingham'), ('Manchester', 'Leeds'), ('London', 'Glasgow')], [('Leeds', 'London'), ('Glasgow', 'Manchester'), ('London', 'Birmingham'), ('Manchester', 'Leeds'), ('Birmingham', 'Glasgow')], [('Leeds', 'London'), ('Glasgow', 'Manchester'), ('London', 'Birmingham'), ('Birmingham', 'Leeds'), ('Manchester', 'Glasgow')], [('Leeds', 'London'), ('Glasgow', 'Manchester'), ('Manchester', 'Birmingham'), ('London', 'Leeds'), ('Birmingham', 'Glasgow')], [('Leeds', 'London'), ('Glasgow', 'Manchester'), ('Manchester', 'Birmingham'), ('Birmingham', 'Leeds'), ('London', 'Glasgow')], [('Glasgow', 'London'), ('London', 'Manchester'), ('Manchester', 'Birmingham'), ('Birmingham', 'Leeds'), ('Leeds', 'Glasgow')], [('Glasgow', 'London'), ('London', 'Manchester'), ('Leeds', 'Birmingham'), ('Manchester', 'Leeds'), ('Birmingham', 'Glasgow')], [('Glasgow', 'London'), ('London', 'Manchester'), ('Leeds', 'Birmingham'), ('Birmingham', 'Leeds'), ('Manchester', 'Glasgow')], [('Glasgow', 'London'), ('Birmingham', 'Manchester'), ('London', 'Birmingham'), ('Manchester', 'Leeds'), ('Leeds', 'Glasgow')], [('Glasgow', 'London'), ('Birmingham', 'Manchester'), ('Manchester', 'Birmingham'), ('London', 'Leeds'), ('Leeds', 'Glasgow')], [('Glasgow', 'London'), ('Birmingham', 'Manchester'), ('Leeds', 'Birmingham'), ('London', 'Leeds'), ('Manchester', 'Glasgow')], [('Glasgow', 'London'), ('Birmingham', 'Manchester'), ('Leeds', 'Birmingham'), ('Manchester', 'Leeds'), ('London', 'Glasgow')], [('Glasgow', 'London'), ('Leeds', 'Manchester'), ('London', 'Birmingham'), ('Manchester', 'Leeds'), ('Birmingham', 'Glasgow')], [('Glasgow', 'London'), ('Leeds', 'Manchester'), ('London', 'Birmingham'), ('Birmingham', 'Leeds'), ('Manchester', 'Glasgow')], [('Glasgow', 'London'), ('Leeds', 'Manchester'), ('Manchester', 'Birmingham'), ('London', 'Leeds'), ('Birmingham', 'Glasgow')], [('Glasgow', 'London'), ('Leeds', 'Manchester'), ('Manchester', 'Birmingham'), ('Birmingham', 'Leeds'), ('London', 'Glasgow')]]\n",
      "[('Manchester', 'London'), ('London', 'Manchester'), ('Leeds', 'Birmingham'), ('Glasgow', 'Leeds'), ('Birmingham', 'Glasgow')]\n",
      "[('Manchester', 'London'), ('Birmingham', 'Manchester'), ('London', 'Birmingham'), ('Glasgow', 'Leeds'), ('Leeds', 'Glasgow')]\n",
      "[('Manchester', 'London'), ('Leeds', 'Manchester'), ('Glasgow', 'Birmingham'), ('London', 'Leeds'), ('Birmingham', 'Glasgow')]\n",
      "[('Manchester', 'London'), ('Glasgow', 'Manchester'), ('Leeds', 'Birmingham'), ('Birmingham', 'Leeds'), ('London', 'Glasgow')]\n",
      "[('Birmingham', 'London'), ('Leeds', 'Manchester'), ('London', 'Birmingham'), ('Glasgow', 'Leeds'), ('Manchester', 'Glasgow')]\n",
      "[('Birmingham', 'London'), ('Leeds', 'Manchester'), ('Glasgow', 'Birmingham'), ('Manchester', 'Leeds'), ('London', 'Glasgow')]\n",
      "[('Birmingham', 'London'), ('Glasgow', 'Manchester'), ('Leeds', 'Birmingham'), ('London', 'Leeds'), ('Manchester', 'Glasgow')]\n",
      "[('Leeds', 'London'), ('London', 'Manchester'), ('Glasgow', 'Birmingham'), ('Manchester', 'Leeds'), ('Birmingham', 'Glasgow')]\n",
      "[('Leeds', 'London'), ('Birmingham', 'Manchester'), ('Manchester', 'Birmingham'), ('Glasgow', 'Leeds'), ('London', 'Glasgow')]\n",
      "[('Leeds', 'London'), ('Glasgow', 'Manchester'), ('London', 'Birmingham'), ('Birmingham', 'Leeds'), ('Manchester', 'Glasgow')]\n",
      "[('Glasgow', 'London'), ('London', 'Manchester'), ('Leeds', 'Birmingham'), ('Birmingham', 'Leeds'), ('Manchester', 'Glasgow')]\n",
      "[('Glasgow', 'London'), ('Birmingham', 'Manchester'), ('Manchester', 'Birmingham'), ('London', 'Leeds'), ('Leeds', 'Glasgow')]\n",
      "[('Glasgow', 'London'), ('Birmingham', 'Manchester'), ('Leeds', 'Birmingham'), ('Manchester', 'Leeds'), ('London', 'Glasgow')]\n",
      "[('Glasgow', 'London'), ('Leeds', 'Manchester'), ('Manchester', 'Birmingham'), ('Birmingham', 'Leeds'), ('London', 'Glasgow')]\n",
      "[[('Manchester', 'London'), ('London', 'Manchester'), ('Glasgow', 'Birmingham'), ('Birmingham', 'Leeds'), ('Leeds', 'Glasgow')], [('Manchester', 'London'), ('Birmingham', 'Manchester'), ('Leeds', 'Birmingham'), ('Glasgow', 'Leeds'), ('London', 'Glasgow')], [('Manchester', 'London'), ('Birmingham', 'Manchester'), ('Glasgow', 'Birmingham'), ('London', 'Leeds'), ('Leeds', 'Glasgow')], [('Manchester', 'London'), ('Leeds', 'Manchester'), ('London', 'Birmingham'), ('Glasgow', 'Leeds'), ('Birmingham', 'Glasgow')], [('Manchester', 'London'), ('Leeds', 'Manchester'), ('Glasgow', 'Birmingham'), ('Birmingham', 'Leeds'), ('London', 'Glasgow')], [('Manchester', 'London'), ('Glasgow', 'Manchester'), ('London', 'Birmingham'), ('Birmingham', 'Leeds'), ('Leeds', 'Glasgow')], [('Manchester', 'London'), ('Glasgow', 'Manchester'), ('Leeds', 'Birmingham'), ('London', 'Leeds'), ('Birmingham', 'Glasgow')], [('Birmingham', 'London'), ('London', 'Manchester'), ('Manchester', 'Birmingham'), ('Glasgow', 'Leeds'), ('Leeds', 'Glasgow')], [('Birmingham', 'London'), ('London', 'Manchester'), ('Leeds', 'Birmingham'), ('Glasgow', 'Leeds'), ('Manchester', 'Glasgow')], [('Birmingham', 'London'), ('London', 'Manchester'), ('Glasgow', 'Birmingham'), ('Manchester', 'Leeds'), ('Leeds', 'Glasgow')], [('Birmingham', 'London'), ('Leeds', 'Manchester'), ('Manchester', 'Birmingham'), ('Glasgow', 'Leeds'), ('London', 'Glasgow')], [('Birmingham', 'London'), ('Leeds', 'Manchester'), ('Glasgow', 'Birmingham'), ('London', 'Leeds'), ('Manchester', 'Glasgow')], [('Birmingham', 'London'), ('Glasgow', 'Manchester'), ('London', 'Birmingham'), ('Manchester', 'Leeds'), ('Leeds', 'Glasgow')], [('Birmingham', 'London'), ('Glasgow', 'Manchester'), ('Manchester', 'Birmingham'), ('London', 'Leeds'), ('Leeds', 'Glasgow')], [('Birmingham', 'London'), ('Glasgow', 'Manchester'), ('Leeds', 'Birmingham'), ('Manchester', 'Leeds'), ('London', 'Glasgow')], [('Leeds', 'London'), ('London', 'Manchester'), ('Manchester', 'Birmingham'), ('Glasgow', 'Leeds'), ('Birmingham', 'Glasgow')], [('Leeds', 'London'), ('London', 'Manchester'), ('Glasgow', 'Birmingham'), ('Birmingham', 'Leeds'), ('Manchester', 'Glasgow')], [('Leeds', 'London'), ('Birmingham', 'Manchester'), ('London', 'Birmingham'), ('Glasgow', 'Leeds'), ('Manchester', 'Glasgow')], [('Leeds', 'London'), ('Birmingham', 'Manchester'), ('Glasgow', 'Birmingham'), ('London', 'Leeds'), ('Manchester', 'Glasgow')], [('Leeds', 'London'), ('Birmingham', 'Manchester'), ('Glasgow', 'Birmingham'), ('Manchester', 'Leeds'), ('London', 'Glasgow')], [('Leeds', 'London'), ('Glasgow', 'Manchester'), ('London', 'Birmingham'), ('Manchester', 'Leeds'), ('Birmingham', 'Glasgow')], [('Leeds', 'London'), ('Glasgow', 'Manchester'), ('Manchester', 'Birmingham'), ('London', 'Leeds'), ('Birmingham', 'Glasgow')], [('Leeds', 'London'), ('Glasgow', 'Manchester'), ('Manchester', 'Birmingham'), ('Birmingham', 'Leeds'), ('London', 'Glasgow')], [('Glasgow', 'London'), ('London', 'Manchester'), ('Manchester', 'Birmingham'), ('Birmingham', 'Leeds'), ('Leeds', 'Glasgow')], [('Glasgow', 'London'), ('London', 'Manchester'), ('Leeds', 'Birmingham'), ('Manchester', 'Leeds'), ('Birmingham', 'Glasgow')], [('Glasgow', 'London'), ('Birmingham', 'Manchester'), ('London', 'Birmingham'), ('Manchester', 'Leeds'), ('Leeds', 'Glasgow')], [('Glasgow', 'London'), ('Birmingham', 'Manchester'), ('Leeds', 'Birmingham'), ('London', 'Leeds'), ('Manchester', 'Glasgow')], [('Glasgow', 'London'), ('Leeds', 'Manchester'), ('London', 'Birmingham'), ('Manchester', 'Leeds'), ('Birmingham', 'Glasgow')], [('Glasgow', 'London'), ('Leeds', 'Manchester'), ('London', 'Birmingham'), ('Birmingham', 'Leeds'), ('Manchester', 'Glasgow')], [('Glasgow', 'London'), ('Leeds', 'Manchester'), ('Manchester', 'Birmingham'), ('London', 'Leeds'), ('Birmingham', 'Glasgow')]]\n"
     ]
    }
   ],
   "source": [
    "connection_list = []\n",
    "permut = itertools.permutations(Cities, len(Cities))\n",
    "\n",
    "for comb in permut:\n",
    "    zipped = zip(comb, Cities)\n",
    "    connection_list.append(list(zipped))\n",
    "\n",
    "#filter out 1to1 connections\n",
    "\n",
    "remove = []\n",
    "\n",
    "for i in connection_list:\n",
    "    for j in i:\n",
    "        if j[0] == j[1]:\n",
    "            if i not in remove:\n",
    "                remove.append(i)\n",
    "                \n",
    "for i in remove:\n",
    "    connection_list.remove(i)\n",
    "\n",
    "print(connection_list)\n",
    "\n",
    "for i in connection_list:\n",
    "    seen = set()\n",
    "    result = []\n",
    "    for d in i:\n",
    "        if frozenset(d) not in seen:\n",
    "            result.append(d)\n",
    "            seen.add(frozenset(d))\n",
    "    if result != i:\n",
    "        print(i)\n",
    "        connection_list.remove(i)\n",
    "        \n",
    "print(connection_list)"
   ]
  }
 ],
 "metadata": {
  "kernelspec": {
   "display_name": "Python 3 (ipykernel)",
   "language": "python",
   "name": "python3"
  },
  "language_info": {
   "codemirror_mode": {
    "name": "ipython",
    "version": 3
   },
   "file_extension": ".py",
   "mimetype": "text/x-python",
   "name": "python",
   "nbconvert_exporter": "python",
   "pygments_lexer": "ipython3",
   "version": "3.10.6"
  }
 },
 "nbformat": 4,
 "nbformat_minor": 5
}
