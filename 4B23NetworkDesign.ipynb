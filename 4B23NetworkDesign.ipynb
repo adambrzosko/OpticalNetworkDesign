{
 "cells": [
  {
   "cell_type": "code",
   "execution_count": 112,
   "id": "36523387",
   "metadata": {
    "tags": []
   },
   "outputs": [],
   "source": [
    "import numpy as np\n",
    "import networkx as nx\n",
    "import itertools\n",
    "from itertools import permutations\n",
    "from itertools import product\n",
    "import matplotlib.pyplot as plt\n",
    "import scipy.constants as scp\n",
    "import pandas as pd"
   ]
  },
  {
   "cell_type": "code",
   "execution_count": 58,
   "id": "fd01db74",
   "metadata": {
    "tags": []
   },
   "outputs": [
    {
     "name": "stdout",
     "output_type": "stream",
     "text": [
      "{'London': {'London': 0, 'Manchester': 262, 'Birmingham': 162, 'Leeds': 272, 'Glasgow': 555}, 'Manchester': {'London': 262, 'Manchester': 0, 'Birmingham': 113, 'Leeds': 59, 'Glasgow': 295}, 'Birmingham': {'London': 162, 'Manchester': 113, 'Birmingham': 0, 'Leeds': 148, 'Glasgow': 407}, 'Leeds': {'London': 272, 'Manchester': 59, 'Birmingham': 148, 'Leeds': 0, 'Glasgow': 288}, 'Glasgow': {'London': 555, 'Manchester': 295, 'Birmingham': 407, 'Leeds': 288, 'Glasgow': 0}}\n"
     ]
    }
   ],
   "source": [
    "Cities = [\"London\", \"Manchester\", \"Birmingham\", \"Leeds\", \"Glasgow\"]\n",
    "\n",
    "distances = [[0,262,162,272,555], [262,0,113,59,295], [162,113,0,148,407], [272,59,148,0,288], [555,295,407,288,0]]\n",
    "\n",
    "# create a dictionary of cities\n",
    "cities_dict = {i : {} for i in Cities}\n",
    "\n",
    "# connect all cities with distances\n",
    "for e in Cities:  \n",
    "    cities_dict[e] = {i : distances[Cities.index(e)][Cities.index(i)] for i in Cities}\n",
    "\n",
    "print(cities_dict)"
   ]
  },
  {
   "cell_type": "code",
   "execution_count": 72,
   "id": "606a2f65",
   "metadata": {
    "tags": []
   },
   "outputs": [],
   "source": [
    "# maybe better: create a full mesh then disconnect one by one in a loop\n",
    "\n",
    "G=nx.Graph()\n",
    "G.add_nodes_from(Cities)\n",
    "for i in cities_dict:\n",
    "    for j in cities_dict[i]:\n",
    "        G.add_weighted_edges_from([(i,j,cities_dict[i][j])])\n",
    "        # G.add_edges_from([(i,j,{'distance':cities_dict[i][j]})])\n",
    "\n",
    "# remove self-edges\n",
    "G.remove_edges_from(nx.selfloop_edges(G))\n",
    "\n",
    "# add atrributes\n",
    "# G.edge['London']['Manchester']['attribute'] = 'value'"
   ]
  },
  {
   "cell_type": "code",
   "execution_count": 73,
   "id": "fcd3e161",
   "metadata": {
    "tags": []
   },
   "outputs": [
    {
     "data": {
      "text/plain": [
       "NodeView(('London', 'Manchester', 'Birmingham', 'Leeds', 'Glasgow'))"
      ]
     },
     "execution_count": 73,
     "metadata": {},
     "output_type": "execute_result"
    }
   ],
   "source": [
    "G.nodes()"
   ]
  },
  {
   "cell_type": "code",
   "execution_count": 74,
   "id": "9f97ff8f",
   "metadata": {
    "tags": []
   },
   "outputs": [
    {
     "data": {
      "text/plain": [
       "EdgeView([('London', 'Manchester'), ('London', 'Birmingham'), ('London', 'Leeds'), ('London', 'Glasgow'), ('Manchester', 'Birmingham'), ('Manchester', 'Leeds'), ('Manchester', 'Glasgow'), ('Birmingham', 'Leeds'), ('Birmingham', 'Glasgow'), ('Leeds', 'Glasgow')])"
      ]
     },
     "execution_count": 74,
     "metadata": {},
     "output_type": "execute_result"
    }
   ],
   "source": [
    "G.edges()"
   ]
  },
  {
   "cell_type": "code",
   "execution_count": 75,
   "id": "7fc62858",
   "metadata": {
    "tags": []
   },
   "outputs": [
    {
     "data": {
      "text/plain": [
       "AtlasView({'London': {'weight': 262}, 'Birmingham': {'weight': 113}, 'Leeds': {'weight': 59}, 'Glasgow': {'weight': 295}})"
      ]
     },
     "execution_count": 75,
     "metadata": {},
     "output_type": "execute_result"
    }
   ],
   "source": [
    "G['Manchester']"
   ]
  },
  {
   "cell_type": "code",
   "execution_count": 76,
   "id": "f7020759-6980-491c-8f65-1703f94cc91e",
   "metadata": {
    "tags": []
   },
   "outputs": [],
   "source": [
    "# ring topology\n",
    "G.remove_edge('Leeds','Manchester')\n",
    "G.remove_edge('Leeds','Birmingham')\n",
    "G.remove_edge('Manchester','London')\n",
    "G.remove_edge('Birmingham','Glasgow')\n",
    "G.remove_edge('London','Glasgow')"
   ]
  },
  {
   "cell_type": "code",
   "execution_count": 77,
   "id": "8d8409ec",
   "metadata": {
    "tags": []
   },
   "outputs": [
    {
     "data": {
      "text/plain": [
       "{'London': Text(0.9999999999999999, 2.38418583364819e-08, 'London'),\n",
       " 'Manchester': Text(0.30901696042448806, 0.9510565808604344, 'Manchester'),\n",
       " 'Birmingham': Text(-0.8090170945349412, 0.587785218735669, 'Birmingham'),\n",
       " 'Leeds': Text(-0.8090169753256495, -0.5877853498658898, 'Leeds'),\n",
       " 'Glasgow': Text(0.30901710943610267, -0.9510564735720718, 'Glasgow')}"
      ]
     },
     "execution_count": 77,
     "metadata": {},
     "output_type": "execute_result"
    },
    {
     "data": {
      "image/png": "[encoded data removed]",
      "text/plain": [
       "<Figure size 432x288 with 1 Axes>"
      ]
     },
     "metadata": {},
     "output_type": "display_data"
    }
   ],
   "source": [
    "nx.draw(G, pos=nx.circular_layout(G))\n",
    "nx.draw_networkx_labels(G,pos=nx.circular_layout(G))\n",
    "# nx.draw_networkx_edge_labels(G,pos=nx.circular_layout(G)) "
   ]
  },
  {
   "cell_type": "code",
   "execution_count": 65,
   "id": "79866967",
   "metadata": {
    "tags": []
   },
   "outputs": [
    {
     "name": "stdout",
     "output_type": "stream",
     "text": [
      "Birmingham\n",
      "Leeds\n",
      "Manchester\n",
      "Glasgow\n",
      "Birmingham\n",
      "Leeds\n",
      "Glasgow\n",
      "London\n"
     ]
    },
    {
     "ename": "RuntimeError",
     "evalue": "dictionary keys changed during iteration",
     "output_type": "error",
     "traceback": [
      "\u001b[0;31m---------------------------------------------------------------------------\u001b[0m",
      "\u001b[0;31mRuntimeError\u001b[0m                              Traceback (most recent call last)",
      "\u001b[0;32m/tmp/ipykernel_13577/3528166255.py\u001b[0m in \u001b[0;36m<module>\u001b[0;34m\u001b[0m\n\u001b[1;32m      3\u001b[0m \u001b[0;34m\u001b[0m\u001b[0m\n\u001b[1;32m      4\u001b[0m \u001b[0;32mfor\u001b[0m \u001b[0mi\u001b[0m \u001b[0;32min\u001b[0m \u001b[0mCities\u001b[0m\u001b[0;34m:\u001b[0m\u001b[0;34m\u001b[0m\u001b[0;34m\u001b[0m\u001b[0m\n\u001b[0;32m----> 5\u001b[0;31m     \u001b[0;32mfor\u001b[0m \u001b[0mj\u001b[0m \u001b[0;32min\u001b[0m \u001b[0mG\u001b[0m\u001b[0;34m.\u001b[0m\u001b[0mneighbors\u001b[0m\u001b[0;34m(\u001b[0m\u001b[0mi\u001b[0m\u001b[0;34m)\u001b[0m\u001b[0;34m:\u001b[0m\u001b[0;34m\u001b[0m\u001b[0;34m\u001b[0m\u001b[0m\n\u001b[0m\u001b[1;32m      6\u001b[0m         \u001b[0mprint\u001b[0m\u001b[0;34m(\u001b[0m\u001b[0mj\u001b[0m\u001b[0;34m)\u001b[0m\u001b[0;34m\u001b[0m\u001b[0;34m\u001b[0m\u001b[0m\n\u001b[1;32m      7\u001b[0m         \u001b[0mG\u001b[0m\u001b[0;34m.\u001b[0m\u001b[0mremove_edge\u001b[0m\u001b[0;34m(\u001b[0m\u001b[0mi\u001b[0m\u001b[0;34m,\u001b[0m\u001b[0mj\u001b[0m\u001b[0;34m)\u001b[0m\u001b[0;34m\u001b[0m\u001b[0;34m\u001b[0m\u001b[0m\n",
      "\u001b[0;31mRuntimeError\u001b[0m: dictionary keys changed during iteration"
     ]
    }
   ],
   "source": [
    "# develop a method to drop them out one by one in a loop through all possibilities and then pairwise and so \n",
    "# on until 5 at a time (max)\n",
    "\n",
    "# for i in Cities:\n",
    "#     for j in G.neighbors(i):\n",
    "#         G.remove_edge(i,j)\n",
    "#         # recalulate()\n",
    "#         G.add_weighted_edges_from([(i,j,cities_dict[i][j])])\n",
    "\n",
    "# calculate all 2-pairs of edges and then remove them, same with 3, 4 and 5s\n",
    "# 1. list edges 2. pair up in a list"
   ]
  },
  {
   "cell_type": "code",
   "execution_count": 124,
   "id": "ce4a5b97",
   "metadata": {
    "tags": []
   },
   "outputs": [
    {
     "name": "stdout",
     "output_type": "stream",
     "text": [
      "Diameter (shortest path between the most distanced nodes):  560\n",
      "Eccentricity (largest distance from a node to any other node):  {'London': 560, 'Manchester': 547, 'Birmingham': 434, 'Leeds': 547, 'Glasgow': 560}\n"
     ]
    }
   ],
   "source": [
    "# calculate values:\n",
    "\n",
    "# 1) shortest path between any two nodes\n",
    "path_lengths = dict(nx.all_pairs_dijkstra_path_length(G))\n",
    "paths = dict(nx.all_pairs_dijkstra_path(G))\n",
    "# for i in list(paths.keys()):\n",
    "#     for j in list(paths[i].keys()):\n",
    "#         print(f'The shortest connection between {i} and {j} is', paths[i][j], 'with length', path_lengths[i][j])\n",
    "        \n",
    "# dataframes of shortest path and their lengths\n",
    "paths_df = pd.DataFrame(dict(paths))\n",
    "path_lengths_df = pd.DataFrame((dict(path_lengths)))\n",
    "\n",
    "# 2) decide amplifier locations - these should be roughly equally spaced, calc mean and longest paths\n",
    "# above a certain loss value (?) so length need an amplifier, above another - two amplifiers\n",
    "shortest1 = nx.shortest_path_length(G, weight=\"weight\")\n",
    "ecc = nx.eccentricity(G, sp=dict(shortest1))\n",
    "diam = nx.diameter(G, e=ecc)\n",
    "print('Diameter (shortest path between the most distanced nodes): ', diam)\n",
    "print('Eccentricity (largest distance from a node to any other node): ', ecc)\n"
   ]
  },
  {
   "cell_type": "code",
   "execution_count": 125,
   "id": "d8bf6cff-d83e-4d0c-8b52-a08d43b337e5",
   "metadata": {
    "tags": []
   },
   "outputs": [
    {
     "data": {
      "text/html": [
       "<div>\n",
       "<style scoped>\n",
       "    .dataframe tbody tr th:only-of-type {\n",
       "        vertical-align: middle;\n",
       "    }\n",
       "\n",
       "    .dataframe tbody tr th {\n",
       "        vertical-align: top;\n",
       "    }\n",
       "\n",
       "    .dataframe thead th {\n",
       "        text-align: right;\n",
       "    }\n",
       "</style>\n",
       "<table border=\"1\" class=\"dataframe\">\n",
       "  <thead>\n",
       "    <tr style=\"text-align: right;\">\n",
       "      <th></th>\n",
       "      <th>London</th>\n",
       "      <th>Manchester</th>\n",
       "      <th>Birmingham</th>\n",
       "      <th>Leeds</th>\n",
       "      <th>Glasgow</th>\n",
       "    </tr>\n",
       "  </thead>\n",
       "  <tbody>\n",
       "    <tr>\n",
       "      <th>London</th>\n",
       "      <td>[London]</td>\n",
       "      <td>[Manchester, Birmingham, London]</td>\n",
       "      <td>[Birmingham, London]</td>\n",
       "      <td>[Leeds, London]</td>\n",
       "      <td>[Glasgow, Leeds, London]</td>\n",
       "    </tr>\n",
       "    <tr>\n",
       "      <th>Birmingham</th>\n",
       "      <td>[London, Birmingham]</td>\n",
       "      <td>[Manchester, Birmingham]</td>\n",
       "      <td>[Birmingham]</td>\n",
       "      <td>[Leeds, London, Birmingham]</td>\n",
       "      <td>[Glasgow, Manchester, Birmingham]</td>\n",
       "    </tr>\n",
       "    <tr>\n",
       "      <th>Leeds</th>\n",
       "      <td>[London, Leeds]</td>\n",
       "      <td>[Manchester, Birmingham, London, Leeds]</td>\n",
       "      <td>[Birmingham, London, Leeds]</td>\n",
       "      <td>[Leeds]</td>\n",
       "      <td>[Glasgow, Leeds]</td>\n",
       "    </tr>\n",
       "    <tr>\n",
       "      <th>Manchester</th>\n",
       "      <td>[London, Birmingham, Manchester]</td>\n",
       "      <td>[Manchester]</td>\n",
       "      <td>[Birmingham, Manchester]</td>\n",
       "      <td>[Leeds, London, Birmingham, Manchester]</td>\n",
       "      <td>[Glasgow, Manchester]</td>\n",
       "    </tr>\n",
       "    <tr>\n",
       "      <th>Glasgow</th>\n",
       "      <td>[London, Leeds, Glasgow]</td>\n",
       "      <td>[Manchester, Glasgow]</td>\n",
       "      <td>[Birmingham, Manchester, Glasgow]</td>\n",
       "      <td>[Leeds, Glasgow]</td>\n",
       "      <td>[Glasgow]</td>\n",
       "    </tr>\n",
       "  </tbody>\n",
       "</table>\n",
       "</div>"
      ],
      "text/plain": [
       "                                      London  \\\n",
       "London                              [London]   \n",
       "Birmingham              [London, Birmingham]   \n",
       "Leeds                        [London, Leeds]   \n",
       "Manchester  [London, Birmingham, Manchester]   \n",
       "Glasgow             [London, Leeds, Glasgow]   \n",
       "\n",
       "                                         Manchester  \\\n",
       "London             [Manchester, Birmingham, London]   \n",
       "Birmingham                 [Manchester, Birmingham]   \n",
       "Leeds       [Manchester, Birmingham, London, Leeds]   \n",
       "Manchester                             [Manchester]   \n",
       "Glasgow                       [Manchester, Glasgow]   \n",
       "\n",
       "                                   Birmingham  \\\n",
       "London                   [Birmingham, London]   \n",
       "Birmingham                       [Birmingham]   \n",
       "Leeds             [Birmingham, London, Leeds]   \n",
       "Manchester           [Birmingham, Manchester]   \n",
       "Glasgow     [Birmingham, Manchester, Glasgow]   \n",
       "\n",
       "                                              Leeds  \\\n",
       "London                              [Leeds, London]   \n",
       "Birmingham              [Leeds, London, Birmingham]   \n",
       "Leeds                                       [Leeds]   \n",
       "Manchester  [Leeds, London, Birmingham, Manchester]   \n",
       "Glasgow                            [Leeds, Glasgow]   \n",
       "\n",
       "                                      Glasgow  \n",
       "London               [Glasgow, Leeds, London]  \n",
       "Birmingham  [Glasgow, Manchester, Birmingham]  \n",
       "Leeds                        [Glasgow, Leeds]  \n",
       "Manchester              [Glasgow, Manchester]  \n",
       "Glasgow                             [Glasgow]  "
      ]
     },
     "execution_count": 125,
     "metadata": {},
     "output_type": "execute_result"
    }
   ],
   "source": [
    "paths_df"
   ]
  },
  {
   "cell_type": "code",
   "execution_count": 123,
   "id": "17c267ba-beca-4fdf-87e0-a9b216ff52c8",
   "metadata": {
    "tags": []
   },
   "outputs": [
    {
     "data": {
      "text/html": [
       "<div>\n",
       "<style scoped>\n",
       "    .dataframe tbody tr th:only-of-type {\n",
       "        vertical-align: middle;\n",
       "    }\n",
       "\n",
       "    .dataframe tbody tr th {\n",
       "        vertical-align: top;\n",
       "    }\n",
       "\n",
       "    .dataframe thead th {\n",
       "        text-align: right;\n",
       "    }\n",
       "</style>\n",
       "<table border=\"1\" class=\"dataframe\">\n",
       "  <thead>\n",
       "    <tr style=\"text-align: right;\">\n",
       "      <th></th>\n",
       "      <th>London</th>\n",
       "      <th>Manchester</th>\n",
       "      <th>Birmingham</th>\n",
       "      <th>Leeds</th>\n",
       "      <th>Glasgow</th>\n",
       "    </tr>\n",
       "  </thead>\n",
       "  <tbody>\n",
       "    <tr>\n",
       "      <th>London</th>\n",
       "      <td>0</td>\n",
       "      <td>275</td>\n",
       "      <td>162</td>\n",
       "      <td>272</td>\n",
       "      <td>560</td>\n",
       "    </tr>\n",
       "    <tr>\n",
       "      <th>Birmingham</th>\n",
       "      <td>162</td>\n",
       "      <td>113</td>\n",
       "      <td>0</td>\n",
       "      <td>434</td>\n",
       "      <td>408</td>\n",
       "    </tr>\n",
       "    <tr>\n",
       "      <th>Leeds</th>\n",
       "      <td>272</td>\n",
       "      <td>547</td>\n",
       "      <td>434</td>\n",
       "      <td>0</td>\n",
       "      <td>288</td>\n",
       "    </tr>\n",
       "    <tr>\n",
       "      <th>Manchester</th>\n",
       "      <td>275</td>\n",
       "      <td>0</td>\n",
       "      <td>113</td>\n",
       "      <td>547</td>\n",
       "      <td>295</td>\n",
       "    </tr>\n",
       "    <tr>\n",
       "      <th>Glasgow</th>\n",
       "      <td>560</td>\n",
       "      <td>295</td>\n",
       "      <td>408</td>\n",
       "      <td>288</td>\n",
       "      <td>0</td>\n",
       "    </tr>\n",
       "  </tbody>\n",
       "</table>\n",
       "</div>"
      ],
      "text/plain": [
       "            London  Manchester  Birmingham  Leeds  Glasgow\n",
       "London           0         275         162    272      560\n",
       "Birmingham     162         113           0    434      408\n",
       "Leeds          272         547         434      0      288\n",
       "Manchester     275           0         113    547      295\n",
       "Glasgow        560         295         408    288        0"
      ]
     },
     "execution_count": 123,
     "metadata": {},
     "output_type": "execute_result"
    }
   ],
   "source": [
    "path_lengths_df"
   ]
  },
  {
   "cell_type": "code",
   "execution_count": 126,
   "id": "8d97452f-d262-4282-bea1-8cce9c477b91",
   "metadata": {
    "tags": []
   },
   "outputs": [
    {
     "data": {
      "text/html": [
       "<div>\n",
       "<style scoped>\n",
       "    .dataframe tbody tr th:only-of-type {\n",
       "        vertical-align: middle;\n",
       "    }\n",
       "\n",
       "    .dataframe tbody tr th {\n",
       "        vertical-align: top;\n",
       "    }\n",
       "\n",
       "    .dataframe thead th {\n",
       "        text-align: right;\n",
       "    }\n",
       "</style>\n",
       "<table border=\"1\" class=\"dataframe\">\n",
       "  <thead>\n",
       "    <tr style=\"text-align: right;\">\n",
       "      <th></th>\n",
       "      <th>London</th>\n",
       "      <th>Manchester</th>\n",
       "      <th>Birmingham</th>\n",
       "      <th>Leeds</th>\n",
       "      <th>Glasgow</th>\n",
       "    </tr>\n",
       "  </thead>\n",
       "  <tbody>\n",
       "    <tr>\n",
       "      <th>London</th>\n",
       "      <td>0.0</td>\n",
       "      <td>0.0</td>\n",
       "      <td>162.0</td>\n",
       "      <td>272.0</td>\n",
       "      <td>0.0</td>\n",
       "    </tr>\n",
       "    <tr>\n",
       "      <th>Manchester</th>\n",
       "      <td>0.0</td>\n",
       "      <td>0.0</td>\n",
       "      <td>113.0</td>\n",
       "      <td>0.0</td>\n",
       "      <td>295.0</td>\n",
       "    </tr>\n",
       "    <tr>\n",
       "      <th>Birmingham</th>\n",
       "      <td>162.0</td>\n",
       "      <td>113.0</td>\n",
       "      <td>0.0</td>\n",
       "      <td>0.0</td>\n",
       "      <td>0.0</td>\n",
       "    </tr>\n",
       "    <tr>\n",
       "      <th>Leeds</th>\n",
       "      <td>272.0</td>\n",
       "      <td>0.0</td>\n",
       "      <td>0.0</td>\n",
       "      <td>0.0</td>\n",
       "      <td>288.0</td>\n",
       "    </tr>\n",
       "    <tr>\n",
       "      <th>Glasgow</th>\n",
       "      <td>0.0</td>\n",
       "      <td>295.0</td>\n",
       "      <td>0.0</td>\n",
       "      <td>288.0</td>\n",
       "      <td>0.0</td>\n",
       "    </tr>\n",
       "  </tbody>\n",
       "</table>\n",
       "</div>"
      ],
      "text/plain": [
       "            London  Manchester  Birmingham  Leeds  Glasgow\n",
       "London         0.0         0.0       162.0  272.0      0.0\n",
       "Manchester     0.0         0.0       113.0    0.0    295.0\n",
       "Birmingham   162.0       113.0         0.0    0.0      0.0\n",
       "Leeds        272.0         0.0         0.0    0.0    288.0\n",
       "Glasgow        0.0       295.0         0.0  288.0      0.0"
      ]
     },
     "execution_count": 126,
     "metadata": {},
     "output_type": "execute_result"
    }
   ],
   "source": [
    "adjacency = nx.to_pandas_adjacency(G)\n",
    "adjacency"
   ]
  },
  {
   "cell_type": "code",
   "execution_count": 24,
   "id": "b5f6cff5-9039-4ed3-aaee-584da1bda905",
   "metadata": {
    "tags": []
   },
   "outputs": [],
   "source": [
    "# for optimum launch power noise is increased by 50% so SNR reduced by 10*np.log10(3/2)\n",
    "# assuming 10^(aL/10) >> 1:\n",
    "def SNR(P_tx, NF, Ns, aL, v = 193.1e12, Rs=95e9):\n",
    "    h = scp.h\n",
    "    SNR_db = P_tx - NF -10*np.log10(Ns) - aL - 10*np.log10(Rs*h*v*1e3) # P_tx in dbm so 1e3 included\n",
    "    return SNR_db\n",
    "\n",
    "# convert to NSR and linear for easy addition"
   ]
  },
  {
   "cell_type": "code",
   "execution_count": 27,
   "id": "0846d7fa-caf4-4cd9-a3e4-d1f54e9eef2d",
   "metadata": {
    "tags": []
   },
   "outputs": [
    {
     "data": {
      "text/plain": [
       "-28.771212547196626"
      ]
     },
     "execution_count": 27,
     "metadata": {},
     "output_type": "execute_result"
    }
   ],
   "source": [
    "26-10*np.log10(300000)"
   ]
  },
  {
   "cell_type": "markdown",
   "id": "9d01c96d-b11a-4fc1-a1ba-f1f159d1a3ea",
   "metadata": {},
   "source": [
    "Notes:\n",
    "\n",
    "1. The NLI is associated with a particular span so you use the effective length associated with that particular span. Once you have calculated the NLI and ASE you can calculate the NSR for a span (and then sum these along a path through the network)\n",
    "\n",
    "2. Symbol rate doesn't change with number of channels but the total modulated optical bandwidth Bo that determines the NLI does. However from a design perspective since Bo is inside the logarithm the effect is reduced so for a conservative design you can assume Bo is the total possible modulated optical bandwidth corresponding to the bandwidth of the EDFA. As such to determine the SNR (or NSR) I would calculate both ASE and NLI assuming Bo is the bandwidth of the optical amplifier (e.g. about 4.5 THz).\n",
    "\n",
    "3. If the optimum PSD is  0.0192pJ = 0.0192 mW/GHz and the symbol rate is 95 GBd (occupying 95 GHz) then the optical power in 95 GHz is 95x0.0192=1.824 mW which converting to dBm gives 10log10(1.824)=2.6 dBm \n",
    "\n",
    "4. The gains are the nominal gains G_0 measured in dB. Typically this is an issue for a large output power (corresponding to many WDM channels). For example EDFA 2 has gain 23 dB and saturated output power of +17 dBm. This means when the output power is +17 dBm the gain will have reduced by 3 dBm (N.B. as detailed in the notes P_sat and saturated output power are slightly different). To give you an idea why this is important if you were using all 45 channels then the maximum launch power per channel would be +17 dBm - 10log10(45)= 0.5 dBm (and the gain of the amplifier would reduce to 20 dB)\n",
    "\n",
    "5. every time the signal goes through a ROADM it incurs a loss of 4 dB.\n",
    "\n",
    "6. From London to Birmingham the fibre loss is 162x0.18=29.16 dB but there will also be 4 dB loss from the ROADM at each node. You need to think carefully as to whether you are amplifying before the ROADM or after the ROADM to determine the effect of the loss...\n",
    "\n",
    "7. You might have an amplifier after the ROADM in your design, for example, in which case you will need to check the power levels of the received signals exceed the minimum power level for the given mode of the adaptive transceiver mode (including the 4 dB loss of the ROADM), also the gain of the output amplifier will need to compensate for the loss of the previous span + 4 dB. When losses are talked of adding - these are in the logarithmic domain, using decibels etc."
   ]
  },
  {
   "cell_type": "code",
   "execution_count": 3,
   "id": "0b8888a4",
   "metadata": {},
   "outputs": [
    {
     "name": "stdout",
     "output_type": "stream",
     "text": [
      "[['London', 'London'], ['Manchester', 'Manchester'], ['Birmingham', 'Birmingham'], ['Leeds', 'Leeds'], ['Glasgow', 'Glasgow']]\n"
     ]
    }
   ],
   "source": [
    "#now create all possible networks with nodes of degree >= 2 - how many possibilities?\n",
    "\n",
    "# connected_list = []\n",
    "# for i in Cities:\n",
    "#     for j in Cities:\n",
    "#         if j!=i:\n",
    "#             connected_list.append([i,j])\n",
    "\n",
    "repeated_list = [[a,b] for a,b in zip(Cities,Cities)]\n",
    "print(repeated_list)"
   ]
  },
  {
   "cell_type": "code",
   "execution_count": 8,
   "id": "8d2dfaf4",
   "metadata": {
    "tags": []
   },
   "outputs": [
    {
     "ename": "NameError",
     "evalue": "name 'Cities' is not defined",
     "output_type": "error",
     "traceback": [
      "\u001b[0;31m---------------------------------------------------------------------------\u001b[0m",
      "\u001b[0;31mNameError\u001b[0m                                 Traceback (most recent call last)",
      "\u001b[0;32m/tmp/ipykernel_13577/2258515761.py\u001b[0m in \u001b[0;36m<module>\u001b[0;34m\u001b[0m\n\u001b[1;32m      1\u001b[0m \u001b[0mconnection_list\u001b[0m \u001b[0;34m=\u001b[0m \u001b[0;34m[\u001b[0m\u001b[0;34m]\u001b[0m\u001b[0;34m\u001b[0m\u001b[0;34m\u001b[0m\u001b[0m\n\u001b[0;32m----> 2\u001b[0;31m \u001b[0mpermut\u001b[0m \u001b[0;34m=\u001b[0m \u001b[0mitertools\u001b[0m\u001b[0;34m.\u001b[0m\u001b[0mpermutations\u001b[0m\u001b[0;34m(\u001b[0m\u001b[0mCities\u001b[0m\u001b[0;34m,\u001b[0m \u001b[0mlen\u001b[0m\u001b[0;34m(\u001b[0m\u001b[0mCities\u001b[0m\u001b[0;34m)\u001b[0m\u001b[0;34m)\u001b[0m\u001b[0;34m\u001b[0m\u001b[0;34m\u001b[0m\u001b[0m\n\u001b[0m\u001b[1;32m      3\u001b[0m \u001b[0;34m\u001b[0m\u001b[0m\n\u001b[1;32m      4\u001b[0m \u001b[0;32mfor\u001b[0m \u001b[0mcomb\u001b[0m \u001b[0;32min\u001b[0m \u001b[0mpermut\u001b[0m\u001b[0;34m:\u001b[0m\u001b[0;34m\u001b[0m\u001b[0;34m\u001b[0m\u001b[0m\n\u001b[1;32m      5\u001b[0m     \u001b[0mzipped\u001b[0m \u001b[0;34m=\u001b[0m \u001b[0mzip\u001b[0m\u001b[0;34m(\u001b[0m\u001b[0mcomb\u001b[0m\u001b[0;34m,\u001b[0m \u001b[0mCities\u001b[0m\u001b[0;34m)\u001b[0m\u001b[0;34m\u001b[0m\u001b[0;34m\u001b[0m\u001b[0m\n",
      "\u001b[0;31mNameError\u001b[0m: name 'Cities' is not defined"
     ]
    }
   ],
   "source": [
    "connection_list = []\n",
    "permut = itertools.permutations(Cities, len(Cities))\n",
    "\n",
    "for comb in permut:\n",
    "    zipped = zip(comb, Cities)\n",
    "    connection_list.append(list(zipped))\n",
    "\n",
    "#filter out 1to1 connections\n",
    "\n",
    "remove = []\n",
    "\n",
    "for i in connection_list:\n",
    "    for j in i:\n",
    "        if j[0] == j[1]:\n",
    "            if i not in remove:\n",
    "                remove.append(i)\n",
    "                \n",
    "for i in remove:\n",
    "    connection_list.remove(i)\n",
    "\n",
    "print(connection_list)\n",
    "\n",
    "for i in connection_list:\n",
    "    seen = set()\n",
    "    result = []\n",
    "    for d in i:\n",
    "        if frozenset(d) not in seen:\n",
    "            result.append(d)\n",
    "            seen.add(frozenset(d))\n",
    "    if result != i:\n",
    "        print(i)\n",
    "        connection_list.remove(i)\n",
    "        \n",
    "# print(connection_list)"
   ]
  },
  {
   "cell_type": "code",
   "execution_count": 7,
   "id": "8f65202f-c5ef-4990-b01b-b6627f0408b6",
   "metadata": {
    "tags": []
   },
   "outputs": [],
   "source": [
    "# iterate through all graphs with 5 nodes of degree at least 2\n",
    "\n",
    "import itertools\n",
    "import networkx as nx\n",
    "\n",
    "# Define the number of nodes\n",
    "num_nodes = 5\n",
    "\n",
    "# Generate all possible edges\n",
    "possible_edges = list(itertools.combinations(range(num_nodes), 2))\n",
    "\n",
    "# Iterate through all possible graphs\n",
    "for edges in itertools.combinations(possible_edges, num_nodes - 1):\n",
    "    # Initialize the graph\n",
    "    G = nx.Graph()\n",
    "    G.add_nodes_from(range(num_nodes))\n",
    "    G.add_edges_from(edges)\n",
    "    \n",
    "    # Check if every node has a degree of at least 2\n",
    "    degrees = [deg for node, deg in G.degree()]\n",
    "    if min(degrees) >= 2:\n",
    "        # Do something with the graph\n",
    "        print(G.edges())"
   ]
  },
  {
   "cell_type": "code",
   "execution_count": null,
   "id": "c6587792-22a2-49e9-992f-cbd99672214e",
   "metadata": {},
   "outputs": [],
   "source": [
    "#disconnect an edge iteratively from the complete graph\n",
    "\n",
    "import networkx as nx\n",
    "\n",
    "# Create a complete graph with 5 nodes\n",
    "G = nx.complete_graph(5)\n",
    "\n",
    "# Iterate through all edges of the graph and remove one edge at a time\n",
    "for u, v in list(G.edges()):\n",
    "    # Make a copy of the graph\n",
    "    G_copy = G.copy()\n",
    "    # Remove the edge (u, v) from the graph\n",
    "    G_copy.remove_edge(u, v)\n",
    "    # Print the nodes and edges of the modified graph\n",
    "    print(\"Nodes:\", G_copy.nodes())\n",
    "    print(\"Edges:\", G_copy.edges())"
   ]
  },
  {
   "cell_type": "code",
   "execution_count": null,
   "id": "870e2a6b-79b2-41ce-a393-561ba83c2a57",
   "metadata": {},
   "outputs": [],
   "source": [
    "#same bubt with pairs \n",
    "\n",
    "import itertools\n",
    "import networkx as nx\n",
    "\n",
    "# Create a complete graph with 5 nodes\n",
    "G = nx.complete_graph(5)\n",
    "\n",
    "# Iterate through all pairs of edges in the graph\n",
    "for e1, e2 in itertools.combinations(G.edges(), 2):\n",
    "    # Make a copy of the graph\n",
    "    G_copy = G.copy()\n",
    "    # Remove the two edges from the graph\n",
    "    G_copy.remove_edge(*e1)\n",
    "    G_copy.remove_edge(*e2)\n",
    "    # Print the nodes and edges of the modified graph\n",
    "    print(\"Nodes:\", G_copy.nodes())\n",
    "    print(\"Edges:\", G_copy.edges())"
   ]
  }
 ],
 "metadata": {
  "kernelspec": {
   "display_name": "Python 3 (ipykernel)",
   "language": "python",
   "name": "python3"
  },
  "language_info": {
   "codemirror_mode": {
    "name": "ipython",
    "version": 3
   },
   "file_extension": ".py",
   "mimetype": "text/x-python",
   "name": "python",
   "nbconvert_exporter": "python",
   "pygments_lexer": "ipython3",
   "version": "3.10.6"
  }
 },
 "nbformat": 4,
 "nbformat_minor": 5
}
