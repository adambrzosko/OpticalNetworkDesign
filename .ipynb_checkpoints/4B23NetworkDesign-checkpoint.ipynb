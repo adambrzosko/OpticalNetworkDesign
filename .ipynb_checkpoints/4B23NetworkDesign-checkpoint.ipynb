{
 "cells": [
  {
   "cell_type": "code",
   "execution_count": 10,
   "id": "36523387",
   "metadata": {
    "tags": []
   },
   "outputs": [],
   "source": [
    "import numpy as np\n",
    "import networkx as nx\n",
    "import itertools\n",
    "from itertools import permutations\n",
    "from itertools import product\n",
    "import matplotlib.pyplot as plt\n",
    "import scipy.constants as scp\n",
    "import pandas as pd\n",
    "import statistics as stat\n",
    "import random\n",
    "import math\n",
    "from matplotlib.lines import Line2D\n",
    "from mpl_toolkits.basemap import Basemap as Basemap"
   ]
  },
  {
   "cell_type": "code",
   "execution_count": 11,
   "id": "fd01db74",
   "metadata": {
    "tags": []
   },
   "outputs": [
    {
     "data": {
      "text/html": [
       "<div>\n",
       "<style scoped>\n",
       "    .dataframe tbody tr th:only-of-type {\n",
       "        vertical-align: middle;\n",
       "    }\n",
       "\n",
       "    .dataframe tbody tr th {\n",
       "        vertical-align: top;\n",
       "    }\n",
       "\n",
       "    .dataframe thead th {\n",
       "        text-align: right;\n",
       "    }\n",
       "</style>\n",
       "<table border=\"1\" class=\"dataframe\">\n",
       "  <thead>\n",
       "    <tr style=\"text-align: right;\">\n",
       "      <th></th>\n",
       "      <th>London</th>\n",
       "      <th>Manchester</th>\n",
       "      <th>Birmingham</th>\n",
       "      <th>Leeds</th>\n",
       "      <th>Glasgow</th>\n",
       "    </tr>\n",
       "  </thead>\n",
       "  <tbody>\n",
       "    <tr>\n",
       "      <th>London</th>\n",
       "      <td>0</td>\n",
       "      <td>262</td>\n",
       "      <td>162</td>\n",
       "      <td>272</td>\n",
       "      <td>555</td>\n",
       "    </tr>\n",
       "    <tr>\n",
       "      <th>Manchester</th>\n",
       "      <td>262</td>\n",
       "      <td>0</td>\n",
       "      <td>113</td>\n",
       "      <td>59</td>\n",
       "      <td>295</td>\n",
       "    </tr>\n",
       "    <tr>\n",
       "      <th>Birmingham</th>\n",
       "      <td>162</td>\n",
       "      <td>113</td>\n",
       "      <td>0</td>\n",
       "      <td>148</td>\n",
       "      <td>407</td>\n",
       "    </tr>\n",
       "    <tr>\n",
       "      <th>Leeds</th>\n",
       "      <td>272</td>\n",
       "      <td>59</td>\n",
       "      <td>148</td>\n",
       "      <td>0</td>\n",
       "      <td>288</td>\n",
       "    </tr>\n",
       "    <tr>\n",
       "      <th>Glasgow</th>\n",
       "      <td>555</td>\n",
       "      <td>295</td>\n",
       "      <td>407</td>\n",
       "      <td>288</td>\n",
       "      <td>0</td>\n",
       "    </tr>\n",
       "  </tbody>\n",
       "</table>\n",
       "</div>"
      ],
      "text/plain": [
       "            London  Manchester  Birmingham  Leeds  Glasgow\n",
       "London           0         262         162    272      555\n",
       "Manchester     262           0         113     59      295\n",
       "Birmingham     162         113           0    148      407\n",
       "Leeds          272          59         148      0      288\n",
       "Glasgow        555         295         407    288        0"
      ]
     },
     "execution_count": 11,
     "metadata": {},
     "output_type": "execute_result"
    }
   ],
   "source": [
    "Cities = [\"London\", \"Manchester\", \"Birmingham\", \"Leeds\", \"Glasgow\"]\n",
    "Positions = [(0.1276, 51.5072), (-2.2426, 53.4808), (-1.8904, 52.4862), (-1.5491, 53.8008), (-4.2518, 55.8642)]\n",
    "\n",
    "distances = [[0,262,162,272,555], [262,0,113,59,295], [162,113,0,148,407], [272,59,148,0,288], [555,295,407,288,0]]\n",
    "traffic = [[0,12,12,8,7], [12,0,3,2,2], [12,3,0,2,1], [8,2,2,0,1], [7,2,1,1,0]]\n",
    "# create a dictionary of cities\n",
    "cities_dict = {i : {} for i in Cities}\n",
    "cities_traff = {i : {} for i in Cities}\n",
    "# connect all cities with distances\n",
    "for e in Cities:  \n",
    "    cities_dict[e] = {i : distances[Cities.index(e)][Cities.index(i)] for i in Cities}\n",
    "    cities_traff[e] = {i : traffic[Cities.index(e)][Cities.index(i)] for i in Cities}\n",
    "\n",
    "cities_df = pd.DataFrame(cities_dict)\n",
    "traffic_df = pd.DataFrame(cities_traff)\n",
    "cities_df"
   ]
  },
  {
   "cell_type": "code",
   "execution_count": 12,
   "id": "5259b2d7-10cc-4701-927f-96b34818bc4f",
   "metadata": {
    "tags": []
   },
   "outputs": [
    {
     "data": {
      "text/html": [
       "<div>\n",
       "<style scoped>\n",
       "    .dataframe tbody tr th:only-of-type {\n",
       "        vertical-align: middle;\n",
       "    }\n",
       "\n",
       "    .dataframe tbody tr th {\n",
       "        vertical-align: top;\n",
       "    }\n",
       "\n",
       "    .dataframe thead th {\n",
       "        text-align: right;\n",
       "    }\n",
       "</style>\n",
       "<table border=\"1\" class=\"dataframe\">\n",
       "  <thead>\n",
       "    <tr style=\"text-align: right;\">\n",
       "      <th></th>\n",
       "      <th>London</th>\n",
       "      <th>Manchester</th>\n",
       "      <th>Birmingham</th>\n",
       "      <th>Leeds</th>\n",
       "      <th>Glasgow</th>\n",
       "    </tr>\n",
       "  </thead>\n",
       "  <tbody>\n",
       "    <tr>\n",
       "      <th>London</th>\n",
       "      <td>0</td>\n",
       "      <td>12</td>\n",
       "      <td>12</td>\n",
       "      <td>8</td>\n",
       "      <td>7</td>\n",
       "    </tr>\n",
       "    <tr>\n",
       "      <th>Manchester</th>\n",
       "      <td>12</td>\n",
       "      <td>0</td>\n",
       "      <td>3</td>\n",
       "      <td>2</td>\n",
       "      <td>2</td>\n",
       "    </tr>\n",
       "    <tr>\n",
       "      <th>Birmingham</th>\n",
       "      <td>12</td>\n",
       "      <td>3</td>\n",
       "      <td>0</td>\n",
       "      <td>2</td>\n",
       "      <td>1</td>\n",
       "    </tr>\n",
       "    <tr>\n",
       "      <th>Leeds</th>\n",
       "      <td>8</td>\n",
       "      <td>2</td>\n",
       "      <td>2</td>\n",
       "      <td>0</td>\n",
       "      <td>1</td>\n",
       "    </tr>\n",
       "    <tr>\n",
       "      <th>Glasgow</th>\n",
       "      <td>7</td>\n",
       "      <td>2</td>\n",
       "      <td>1</td>\n",
       "      <td>1</td>\n",
       "      <td>0</td>\n",
       "    </tr>\n",
       "  </tbody>\n",
       "</table>\n",
       "</div>"
      ],
      "text/plain": [
       "            London  Manchester  Birmingham  Leeds  Glasgow\n",
       "London           0          12          12      8        7\n",
       "Manchester      12           0           3      2        2\n",
       "Birmingham      12           3           0      2        1\n",
       "Leeds            8           2           2      0        1\n",
       "Glasgow          7           2           1      1        0"
      ]
     },
     "execution_count": 12,
     "metadata": {},
     "output_type": "execute_result"
    }
   ],
   "source": [
    "traffic_df"
   ]
  },
  {
   "cell_type": "code",
   "execution_count": 13,
   "id": "606a2f65",
   "metadata": {
    "tags": []
   },
   "outputs": [],
   "source": [
    "# maybe better: create a full mesh then disconnect one by one in a loop\n",
    "\n",
    "G=nx.Graph()\n",
    "# G.add_nodes_from(Cities)\n",
    "for i in range(len(Cities)):\n",
    "    G.add_node(Cities[i], pos=Positions[i])\n",
    "for i in cities_dict:\n",
    "    for j in cities_dict[i]:\n",
    "        # G.add_weighted_edges_from([(i,j,cities_dict[i][j])])\n",
    "        G.add_edges_from([(i,j,{'weight':cities_dict[i][j]})])\n",
    "        \n",
    "# add a ROADM at every node (4dB) and amplifier (number)\n",
    "nx.set_node_attributes(G,4,'ROADM')\n",
    "nx.set_node_attributes(G,1,'EDFA')\n",
    "\n",
    "# remove self-edges\n",
    "G.remove_edges_from(nx.selfloop_edges(G))\n",
    "\n",
    "# add atrributes\n",
    "# G.edge['London']['Manchester']['attribute'] = 'value'"
   ]
  },
  {
   "cell_type": "code",
   "execution_count": 14,
   "id": "fcd3e161",
   "metadata": {
    "tags": []
   },
   "outputs": [
    {
     "data": {
      "text/plain": [
       "NodeView(('London', 'Manchester', 'Birmingham', 'Leeds', 'Glasgow'))"
      ]
     },
     "execution_count": 14,
     "metadata": {},
     "output_type": "execute_result"
    }
   ],
   "source": [
    "G.nodes()"
   ]
  },
  {
   "cell_type": "code",
   "execution_count": 15,
   "id": "9f97ff8f",
   "metadata": {
    "tags": []
   },
   "outputs": [
    {
     "data": {
      "text/plain": [
       "EdgeView([('London', 'Manchester'), ('London', 'Birmingham'), ('London', 'Leeds'), ('London', 'Glasgow'), ('Manchester', 'Birmingham'), ('Manchester', 'Leeds'), ('Manchester', 'Glasgow'), ('Birmingham', 'Leeds'), ('Birmingham', 'Glasgow'), ('Leeds', 'Glasgow')])"
      ]
     },
     "execution_count": 15,
     "metadata": {},
     "output_type": "execute_result"
    }
   ],
   "source": [
    "G.edges()"
   ]
  },
  {
   "cell_type": "code",
   "execution_count": 16,
   "id": "7fc62858",
   "metadata": {
    "tags": []
   },
   "outputs": [
    {
     "data": {
      "text/plain": [
       "AtlasView({'London': {'weight': 262}, 'Birmingham': {'weight': 113}, 'Leeds': {'weight': 59}, 'Glasgow': {'weight': 295}})"
      ]
     },
     "execution_count": 16,
     "metadata": {},
     "output_type": "execute_result"
    }
   ],
   "source": [
    "G['Manchester']"
   ]
  },
  {
   "cell_type": "code",
   "execution_count": 8,
   "id": "f7020759-6980-491c-8f65-1703f94cc91e",
   "metadata": {
    "tags": []
   },
   "outputs": [],
   "source": [
    "# ring topology\n",
    "G.remove_edge('Leeds','Manchester')\n",
    "G.remove_edge('Leeds','Birmingham')\n",
    "G.remove_edge('Manchester','London')\n",
    "G.remove_edge('Birmingham','Glasgow')\n",
    "G.remove_edge('London','Glasgow')"
   ]
  },
  {
   "cell_type": "code",
   "execution_count": 9,
   "id": "831c8dc6-7726-4eb2-bd24-a695c2f82c08",
   "metadata": {
    "tags": []
   },
   "outputs": [
    {
     "ename": "NetworkXError",
     "evalue": "The edge Leeds-Manchester is not in the graph",
     "output_type": "error",
     "traceback": [
      "\u001b[0;31m---------------------------------------------------------------------------\u001b[0m",
      "\u001b[0;31mKeyError\u001b[0m                                  Traceback (most recent call last)",
      "\u001b[0;32m/usr/local/lib/python3.10/dist-packages/networkx/classes/graph.py\u001b[0m in \u001b[0;36mremove_edge\u001b[0;34m(self, u, v)\u001b[0m\n\u001b[1;32m   1117\u001b[0m         \u001b[0;32mtry\u001b[0m\u001b[0;34m:\u001b[0m\u001b[0;34m\u001b[0m\u001b[0;34m\u001b[0m\u001b[0m\n\u001b[0;32m-> 1118\u001b[0;31m             \u001b[0;32mdel\u001b[0m \u001b[0mself\u001b[0m\u001b[0;34m.\u001b[0m\u001b[0m_adj\u001b[0m\u001b[0;34m[\u001b[0m\u001b[0mu\u001b[0m\u001b[0;34m]\u001b[0m\u001b[0;34m[\u001b[0m\u001b[0mv\u001b[0m\u001b[0;34m]\u001b[0m\u001b[0;34m\u001b[0m\u001b[0;34m\u001b[0m\u001b[0m\n\u001b[0m\u001b[1;32m   1119\u001b[0m             \u001b[0;32mif\u001b[0m \u001b[0mu\u001b[0m \u001b[0;34m!=\u001b[0m \u001b[0mv\u001b[0m\u001b[0;34m:\u001b[0m  \u001b[0;31m# self-loop needs only one entry removed\u001b[0m\u001b[0;34m\u001b[0m\u001b[0;34m\u001b[0m\u001b[0m\n",
      "\u001b[0;31mKeyError\u001b[0m: 'Manchester'",
      "\nThe above exception was the direct cause of the following exception:\n",
      "\u001b[0;31mNetworkXError\u001b[0m                             Traceback (most recent call last)",
      "\u001b[0;32m/tmp/ipykernel_18189/74487998.py\u001b[0m in \u001b[0;36m<module>\u001b[0;34m\u001b[0m\n\u001b[1;32m      1\u001b[0m \u001b[0;31m# ring topology with extra connection\u001b[0m\u001b[0;34m\u001b[0m\u001b[0;34m\u001b[0m\u001b[0m\n\u001b[0;32m----> 2\u001b[0;31m \u001b[0mG\u001b[0m\u001b[0;34m.\u001b[0m\u001b[0mremove_edge\u001b[0m\u001b[0;34m(\u001b[0m\u001b[0;34m'Leeds'\u001b[0m\u001b[0;34m,\u001b[0m\u001b[0;34m'Manchester'\u001b[0m\u001b[0;34m)\u001b[0m\u001b[0;34m\u001b[0m\u001b[0;34m\u001b[0m\u001b[0m\n\u001b[0m\u001b[1;32m      3\u001b[0m \u001b[0mG\u001b[0m\u001b[0;34m.\u001b[0m\u001b[0mremove_edge\u001b[0m\u001b[0;34m(\u001b[0m\u001b[0;34m'Leeds'\u001b[0m\u001b[0;34m,\u001b[0m\u001b[0;34m'Birmingham'\u001b[0m\u001b[0;34m)\u001b[0m\u001b[0;34m\u001b[0m\u001b[0;34m\u001b[0m\u001b[0m\n\u001b[1;32m      4\u001b[0m \u001b[0mG\u001b[0m\u001b[0;34m.\u001b[0m\u001b[0mremove_edge\u001b[0m\u001b[0;34m(\u001b[0m\u001b[0;34m'Birmingham'\u001b[0m\u001b[0;34m,\u001b[0m\u001b[0;34m'Glasgow'\u001b[0m\u001b[0;34m)\u001b[0m\u001b[0;34m\u001b[0m\u001b[0;34m\u001b[0m\u001b[0m\n\u001b[1;32m      5\u001b[0m \u001b[0mG\u001b[0m\u001b[0;34m.\u001b[0m\u001b[0mremove_edge\u001b[0m\u001b[0;34m(\u001b[0m\u001b[0;34m'London'\u001b[0m\u001b[0;34m,\u001b[0m\u001b[0;34m'Glasgow'\u001b[0m\u001b[0;34m)\u001b[0m\u001b[0;34m\u001b[0m\u001b[0;34m\u001b[0m\u001b[0m\n",
      "\u001b[0;32m/usr/local/lib/python3.10/dist-packages/networkx/classes/graph.py\u001b[0m in \u001b[0;36mremove_edge\u001b[0;34m(self, u, v)\u001b[0m\n\u001b[1;32m   1120\u001b[0m                 \u001b[0;32mdel\u001b[0m \u001b[0mself\u001b[0m\u001b[0;34m.\u001b[0m\u001b[0m_adj\u001b[0m\u001b[0;34m[\u001b[0m\u001b[0mv\u001b[0m\u001b[0;34m]\u001b[0m\u001b[0;34m[\u001b[0m\u001b[0mu\u001b[0m\u001b[0;34m]\u001b[0m\u001b[0;34m\u001b[0m\u001b[0;34m\u001b[0m\u001b[0m\n\u001b[1;32m   1121\u001b[0m         \u001b[0;32mexcept\u001b[0m \u001b[0mKeyError\u001b[0m \u001b[0;32mas\u001b[0m \u001b[0merr\u001b[0m\u001b[0;34m:\u001b[0m\u001b[0;34m\u001b[0m\u001b[0;34m\u001b[0m\u001b[0m\n\u001b[0;32m-> 1122\u001b[0;31m             \u001b[0;32mraise\u001b[0m \u001b[0mNetworkXError\u001b[0m\u001b[0;34m(\u001b[0m\u001b[0;34mf\"The edge {u}-{v} is not in the graph\"\u001b[0m\u001b[0;34m)\u001b[0m \u001b[0;32mfrom\u001b[0m \u001b[0merr\u001b[0m\u001b[0;34m\u001b[0m\u001b[0;34m\u001b[0m\u001b[0m\n\u001b[0m\u001b[1;32m   1123\u001b[0m \u001b[0;34m\u001b[0m\u001b[0m\n\u001b[1;32m   1124\u001b[0m     \u001b[0;32mdef\u001b[0m \u001b[0mremove_edges_from\u001b[0m\u001b[0;34m(\u001b[0m\u001b[0mself\u001b[0m\u001b[0;34m,\u001b[0m \u001b[0mebunch\u001b[0m\u001b[0;34m)\u001b[0m\u001b[0;34m:\u001b[0m\u001b[0;34m\u001b[0m\u001b[0;34m\u001b[0m\u001b[0m\n",
      "\u001b[0;31mNetworkXError\u001b[0m: The edge Leeds-Manchester is not in the graph"
     ]
    }
   ],
   "source": [
    "# ring topology with extra connection\n",
    "G.remove_edge('Leeds','Manchester')\n",
    "G.remove_edge('Leeds','Birmingham')\n",
    "G.remove_edge('Birmingham','Glasgow')\n",
    "G.remove_edge('London','Glasgow')"
   ]
  },
  {
   "cell_type": "code",
   "execution_count": 17,
   "id": "8d8409ec",
   "metadata": {
    "tags": []
   },
   "outputs": [
    {
     "data": {
      "image/png": "[encoded data removed]",
      "text/plain": [
       "<Figure size 432x288 with 1 Axes>"
      ]
     },
     "metadata": {},
     "output_type": "display_data"
    }
   ],
   "source": [
    "# nx.draw(G, pos=nx.circular_layout(G))\n",
    "# nx.draw_networkx_labels(G,pos=nx.circular_layout(G))\n",
    "# nx.draw_networkx_edge_labels(G,pos=nx.circular_layout(G)) \n",
    "nx.draw(G, nx.get_node_attributes(G, 'pos'), with_labels=True, node_size=0)"
   ]
  },
  {
   "cell_type": "code",
   "execution_count": 11,
   "id": "79866967",
   "metadata": {
    "tags": []
   },
   "outputs": [],
   "source": [
    "# develop a method to drop them out one by one in a loop through all possibilities and then pairwise and so \n",
    "# on until 5 at a time (max)\n",
    "\n",
    "# for i in Cities:\n",
    "#     for j in G.neighbors(i):\n",
    "#         G.remove_edge(i,j)\n",
    "#         # recalulate()\n",
    "#         G.add_weighted_edges_from([(i,j,cities_dict[i][j])])\n",
    "\n",
    "# calculate all 2-pairs of edges and then remove them, same with 3, 4 and 5s\n",
    "# 1. list edges 2. pair up in a list"
   ]
  },
  {
   "cell_type": "code",
   "execution_count": 18,
   "id": "ce4a5b97",
   "metadata": {
    "tags": []
   },
   "outputs": [
    {
     "name": "stdout",
     "output_type": "stream",
     "text": [
      "Diameter (shortest path between the most distanced nodes):  555\n",
      "Total attenuation on diameter will be  115.89999999999999\n",
      "Eccentricity (largest distance from a node to any other node):  {'London': 555, 'Manchester': 295, 'Birmingham': 407, 'Leeds': 288, 'Glasgow': 555}\n",
      "Average shortest path length is:  1.0\n",
      "Link distances are:  [262, 162, 272, 555, 113, 59, 295, 148, 407, 288]\n",
      "Of which average, d, is:  256.1\n",
      "So place m amplifiers if link longer than m * d/2, i.e. >= m * 128.05\n",
      "Also this allows for compensation of the total loss along the previous span (~113*0.18=20.34), has to be attenuated\n",
      "Total fibre deployed in km 5122 from total link length of  2561\n",
      "The number of amplifiers on every path:  {('London', 'Manchester'): 2, ('Manchester', 'London'): 2, ('London', 'Birmingham'): 1, ('Birmingham', 'London'): 1, ('London', 'Leeds'): 2, ('Leeds', 'London'): 2, ('London', 'Glasgow'): 4, ('Glasgow', 'London'): 4, ('Manchester', 'Birmingham'): 0, ('Birmingham', 'Manchester'): 0, ('Manchester', 'Leeds'): 0, ('Leeds', 'Manchester'): 0, ('Manchester', 'Glasgow'): 2, ('Glasgow', 'Manchester'): 2, ('Birmingham', 'Leeds'): 1, ('Leeds', 'Birmingham'): 1, ('Birmingham', 'Glasgow'): 3, ('Glasgow', 'Birmingham'): 3, ('Leeds', 'Glasgow'): 2, ('Glasgow', 'Leeds'): 2}\n",
      "The overall number of amplifiers:  17\n"
     ]
    }
   ],
   "source": [
    "# calculate values:\n",
    "\n",
    "# 1) shortest path between any two nodes\n",
    "path_lengths = dict(nx.all_pairs_dijkstra_path_length(G))\n",
    "paths = dict(nx.all_pairs_dijkstra_path(G))\n",
    "adjacency = nx.to_pandas_adjacency(G)\n",
    "\n",
    "link_flows = adjacency.copy()\n",
    "for col in link_flows.columns:\n",
    "    link_flows[col].values[:] = 0\n",
    "\n",
    "# 1.5 put traffic numbers (divided by 2 as each link has forward and back connections) \n",
    "# on each edge to show total capacity on each link -- here we assume all is going down shortest paths\n",
    "\n",
    "for i in list(paths.keys()):\n",
    "    for j in list(paths[i].keys()):\n",
    "        # print(f'The shortest connection between {i} and {j} is', paths[i][j], 'with length', path_lengths[i][j])\n",
    "        # add the traffic for i,j onto each segment from paths[i],[j] in link flows\n",
    "        if len(paths[i][j]) < 2:\n",
    "            link_flows[i][j] += traffic_df[i][j]\n",
    "        else:\n",
    "            for e in paths[i][j]:\n",
    "                if e != paths[i][j][-1]:\n",
    "                    link_flows[e][paths[i][j][paths[i][j].index(e)+1]] += traffic_df[i][j]\n",
    "        \n",
    "# dataframes of shortest path and their lengths\n",
    "paths_df = pd.DataFrame(paths)\n",
    "path_lengths_df = pd.DataFrame(path_lengths)\n",
    "\n",
    "\n",
    "\n",
    "# 2) decide amplifier locations - these should be roughly equally spaced, calc mean and longest paths\n",
    "# above a certain loss value (?) so length need an amplifier, above another - two amplifiers\n",
    "shortest1 = nx.shortest_path_length(G, weight=\"weight\")\n",
    "ecc = nx.eccentricity(G, sp=dict(shortest1))\n",
    "diam = nx.diameter(G, e=ecc)\n",
    "print('Diameter (shortest path between the most distanced nodes): ', diam)\n",
    "print('Total attenuation on diameter will be ', diam*0.18+16)\n",
    "print('Eccentricity (largest distance from a node to any other node): ', ecc)\n",
    "print('Average shortest path length is: ', nx.average_shortest_path_length(G))\n",
    "edge_weight_list = [G[u][v]['weight'] for (u,v) in G.edges()]\n",
    "mean = stat.mean(edge_weight_list)\n",
    "print('Link distances are: ', edge_weight_list)\n",
    "print('Of which average, d, is: ', mean)\n",
    "print('So place m amplifiers if link longer than m * d/2, i.e. >= m *', mean/2)\n",
    "print('Also this allows for compensation of the total loss along the previous span (~113*0.18=20.34), has to be attenuated')\n",
    "print('Total fibre deployed in km', 2*sum(edge_weight_list), 'from total link length of ',sum(edge_weight_list))\n",
    "\n",
    "# dict of amplifiers per edge; think of better choosing amplifier locations\n",
    "amplifiers = {}\n",
    "no_amplifiers = 0\n",
    "for i in G.edges():\n",
    "    m = math.floor(G[i[0]][i[1]]['weight']*2/mean)\n",
    "    j = (i[1],i[0])\n",
    "    amplifiers[i] = m\n",
    "    amplifiers[j] = m\n",
    "    no_amplifiers += m\n",
    "print('The number of amplifiers on every path: ', amplifiers)\n",
    "print('The overall number of amplifiers: ', no_amplifiers)"
   ]
  },
  {
   "cell_type": "markdown",
   "id": "86b3c9eb-418a-410b-aa0b-7951dd9a2630",
   "metadata": {},
   "source": [
    "Note: check if chromatic dispersion causing pulse broadening limits data rate. We have 100GHz spacing=2997924.58 nm\n",
    "17 ps/nm/km so for 560km we have: 9520 ps/nm"
   ]
  },
  {
   "cell_type": "code",
   "execution_count": 19,
   "id": "903835fb-4f79-42e5-a367-ddf231fadba8",
   "metadata": {
    "tags": []
   },
   "outputs": [
    {
     "data": {
      "text/html": [
       "<div>\n",
       "<style scoped>\n",
       "    .dataframe tbody tr th:only-of-type {\n",
       "        vertical-align: middle;\n",
       "    }\n",
       "\n",
       "    .dataframe tbody tr th {\n",
       "        vertical-align: top;\n",
       "    }\n",
       "\n",
       "    .dataframe thead th {\n",
       "        text-align: right;\n",
       "    }\n",
       "</style>\n",
       "<table border=\"1\" class=\"dataframe\">\n",
       "  <thead>\n",
       "    <tr style=\"text-align: right;\">\n",
       "      <th></th>\n",
       "      <th>London</th>\n",
       "      <th>Manchester</th>\n",
       "      <th>Birmingham</th>\n",
       "      <th>Leeds</th>\n",
       "      <th>Glasgow</th>\n",
       "    </tr>\n",
       "  </thead>\n",
       "  <tbody>\n",
       "    <tr>\n",
       "      <th>London</th>\n",
       "      <td>0.0</td>\n",
       "      <td>12.0</td>\n",
       "      <td>12.0</td>\n",
       "      <td>8.0</td>\n",
       "      <td>7.0</td>\n",
       "    </tr>\n",
       "    <tr>\n",
       "      <th>Manchester</th>\n",
       "      <td>12.0</td>\n",
       "      <td>0.0</td>\n",
       "      <td>3.0</td>\n",
       "      <td>2.0</td>\n",
       "      <td>2.0</td>\n",
       "    </tr>\n",
       "    <tr>\n",
       "      <th>Birmingham</th>\n",
       "      <td>12.0</td>\n",
       "      <td>3.0</td>\n",
       "      <td>0.0</td>\n",
       "      <td>2.0</td>\n",
       "      <td>1.0</td>\n",
       "    </tr>\n",
       "    <tr>\n",
       "      <th>Leeds</th>\n",
       "      <td>8.0</td>\n",
       "      <td>2.0</td>\n",
       "      <td>2.0</td>\n",
       "      <td>0.0</td>\n",
       "      <td>1.0</td>\n",
       "    </tr>\n",
       "    <tr>\n",
       "      <th>Glasgow</th>\n",
       "      <td>7.0</td>\n",
       "      <td>2.0</td>\n",
       "      <td>1.0</td>\n",
       "      <td>1.0</td>\n",
       "      <td>0.0</td>\n",
       "    </tr>\n",
       "  </tbody>\n",
       "</table>\n",
       "</div>"
      ],
      "text/plain": [
       "            London  Manchester  Birmingham  Leeds  Glasgow\n",
       "London         0.0        12.0        12.0    8.0      7.0\n",
       "Manchester    12.0         0.0         3.0    2.0      2.0\n",
       "Birmingham    12.0         3.0         0.0    2.0      1.0\n",
       "Leeds          8.0         2.0         2.0    0.0      1.0\n",
       "Glasgow        7.0         2.0         1.0    1.0      0.0"
      ]
     },
     "execution_count": 19,
     "metadata": {},
     "output_type": "execute_result"
    }
   ],
   "source": [
    "link_flows"
   ]
  },
  {
   "cell_type": "code",
   "execution_count": 20,
   "id": "d8bf6cff-d83e-4d0c-8b52-a08d43b337e5",
   "metadata": {
    "tags": []
   },
   "outputs": [
    {
     "data": {
      "text/html": [
       "<div>\n",
       "<style scoped>\n",
       "    .dataframe tbody tr th:only-of-type {\n",
       "        vertical-align: middle;\n",
       "    }\n",
       "\n",
       "    .dataframe tbody tr th {\n",
       "        vertical-align: top;\n",
       "    }\n",
       "\n",
       "    .dataframe thead th {\n",
       "        text-align: right;\n",
       "    }\n",
       "</style>\n",
       "<table border=\"1\" class=\"dataframe\">\n",
       "  <thead>\n",
       "    <tr style=\"text-align: right;\">\n",
       "      <th></th>\n",
       "      <th>London</th>\n",
       "      <th>Manchester</th>\n",
       "      <th>Birmingham</th>\n",
       "      <th>Leeds</th>\n",
       "      <th>Glasgow</th>\n",
       "    </tr>\n",
       "  </thead>\n",
       "  <tbody>\n",
       "    <tr>\n",
       "      <th>London</th>\n",
       "      <td>[London]</td>\n",
       "      <td>[Manchester, London]</td>\n",
       "      <td>[Birmingham, London]</td>\n",
       "      <td>[Leeds, London]</td>\n",
       "      <td>[Glasgow, London]</td>\n",
       "    </tr>\n",
       "    <tr>\n",
       "      <th>Manchester</th>\n",
       "      <td>[London, Manchester]</td>\n",
       "      <td>[Manchester]</td>\n",
       "      <td>[Birmingham, Manchester]</td>\n",
       "      <td>[Leeds, Manchester]</td>\n",
       "      <td>[Glasgow, Manchester]</td>\n",
       "    </tr>\n",
       "    <tr>\n",
       "      <th>Birmingham</th>\n",
       "      <td>[London, Birmingham]</td>\n",
       "      <td>[Manchester, Birmingham]</td>\n",
       "      <td>[Birmingham]</td>\n",
       "      <td>[Leeds, Birmingham]</td>\n",
       "      <td>[Glasgow, Birmingham]</td>\n",
       "    </tr>\n",
       "    <tr>\n",
       "      <th>Leeds</th>\n",
       "      <td>[London, Leeds]</td>\n",
       "      <td>[Manchester, Leeds]</td>\n",
       "      <td>[Birmingham, Leeds]</td>\n",
       "      <td>[Leeds]</td>\n",
       "      <td>[Glasgow, Leeds]</td>\n",
       "    </tr>\n",
       "    <tr>\n",
       "      <th>Glasgow</th>\n",
       "      <td>[London, Glasgow]</td>\n",
       "      <td>[Manchester, Glasgow]</td>\n",
       "      <td>[Birmingham, Glasgow]</td>\n",
       "      <td>[Leeds, Glasgow]</td>\n",
       "      <td>[Glasgow]</td>\n",
       "    </tr>\n",
       "  </tbody>\n",
       "</table>\n",
       "</div>"
      ],
      "text/plain": [
       "                          London                Manchester  \\\n",
       "London                  [London]      [Manchester, London]   \n",
       "Manchester  [London, Manchester]              [Manchester]   \n",
       "Birmingham  [London, Birmingham]  [Manchester, Birmingham]   \n",
       "Leeds            [London, Leeds]       [Manchester, Leeds]   \n",
       "Glasgow        [London, Glasgow]     [Manchester, Glasgow]   \n",
       "\n",
       "                          Birmingham                Leeds  \\\n",
       "London          [Birmingham, London]      [Leeds, London]   \n",
       "Manchester  [Birmingham, Manchester]  [Leeds, Manchester]   \n",
       "Birmingham              [Birmingham]  [Leeds, Birmingham]   \n",
       "Leeds            [Birmingham, Leeds]              [Leeds]   \n",
       "Glasgow        [Birmingham, Glasgow]     [Leeds, Glasgow]   \n",
       "\n",
       "                          Glasgow  \n",
       "London          [Glasgow, London]  \n",
       "Manchester  [Glasgow, Manchester]  \n",
       "Birmingham  [Glasgow, Birmingham]  \n",
       "Leeds            [Glasgow, Leeds]  \n",
       "Glasgow                 [Glasgow]  "
      ]
     },
     "execution_count": 20,
     "metadata": {},
     "output_type": "execute_result"
    }
   ],
   "source": [
    "paths_df"
   ]
  },
  {
   "cell_type": "code",
   "execution_count": 21,
   "id": "17c267ba-beca-4fdf-87e0-a9b216ff52c8",
   "metadata": {
    "tags": []
   },
   "outputs": [
    {
     "data": {
      "text/html": [
       "<div>\n",
       "<style scoped>\n",
       "    .dataframe tbody tr th:only-of-type {\n",
       "        vertical-align: middle;\n",
       "    }\n",
       "\n",
       "    .dataframe tbody tr th {\n",
       "        vertical-align: top;\n",
       "    }\n",
       "\n",
       "    .dataframe thead th {\n",
       "        text-align: right;\n",
       "    }\n",
       "</style>\n",
       "<table border=\"1\" class=\"dataframe\">\n",
       "  <thead>\n",
       "    <tr style=\"text-align: right;\">\n",
       "      <th></th>\n",
       "      <th>London</th>\n",
       "      <th>Manchester</th>\n",
       "      <th>Birmingham</th>\n",
       "      <th>Leeds</th>\n",
       "      <th>Glasgow</th>\n",
       "    </tr>\n",
       "  </thead>\n",
       "  <tbody>\n",
       "    <tr>\n",
       "      <th>London</th>\n",
       "      <td>0</td>\n",
       "      <td>262</td>\n",
       "      <td>162</td>\n",
       "      <td>272</td>\n",
       "      <td>555</td>\n",
       "    </tr>\n",
       "    <tr>\n",
       "      <th>Birmingham</th>\n",
       "      <td>162</td>\n",
       "      <td>113</td>\n",
       "      <td>0</td>\n",
       "      <td>148</td>\n",
       "      <td>407</td>\n",
       "    </tr>\n",
       "    <tr>\n",
       "      <th>Manchester</th>\n",
       "      <td>262</td>\n",
       "      <td>0</td>\n",
       "      <td>113</td>\n",
       "      <td>59</td>\n",
       "      <td>295</td>\n",
       "    </tr>\n",
       "    <tr>\n",
       "      <th>Leeds</th>\n",
       "      <td>272</td>\n",
       "      <td>59</td>\n",
       "      <td>148</td>\n",
       "      <td>0</td>\n",
       "      <td>288</td>\n",
       "    </tr>\n",
       "    <tr>\n",
       "      <th>Glasgow</th>\n",
       "      <td>555</td>\n",
       "      <td>295</td>\n",
       "      <td>407</td>\n",
       "      <td>288</td>\n",
       "      <td>0</td>\n",
       "    </tr>\n",
       "  </tbody>\n",
       "</table>\n",
       "</div>"
      ],
      "text/plain": [
       "            London  Manchester  Birmingham  Leeds  Glasgow\n",
       "London           0         262         162    272      555\n",
       "Birmingham     162         113           0    148      407\n",
       "Manchester     262           0         113     59      295\n",
       "Leeds          272          59         148      0      288\n",
       "Glasgow        555         295         407    288        0"
      ]
     },
     "execution_count": 21,
     "metadata": {},
     "output_type": "execute_result"
    }
   ],
   "source": [
    "path_lengths_df"
   ]
  },
  {
   "cell_type": "code",
   "execution_count": 22,
   "id": "8d97452f-d262-4282-bea1-8cce9c477b91",
   "metadata": {
    "tags": []
   },
   "outputs": [
    {
     "data": {
      "text/html": [
       "<div>\n",
       "<style scoped>\n",
       "    .dataframe tbody tr th:only-of-type {\n",
       "        vertical-align: middle;\n",
       "    }\n",
       "\n",
       "    .dataframe tbody tr th {\n",
       "        vertical-align: top;\n",
       "    }\n",
       "\n",
       "    .dataframe thead th {\n",
       "        text-align: right;\n",
       "    }\n",
       "</style>\n",
       "<table border=\"1\" class=\"dataframe\">\n",
       "  <thead>\n",
       "    <tr style=\"text-align: right;\">\n",
       "      <th></th>\n",
       "      <th>London</th>\n",
       "      <th>Manchester</th>\n",
       "      <th>Birmingham</th>\n",
       "      <th>Leeds</th>\n",
       "      <th>Glasgow</th>\n",
       "    </tr>\n",
       "  </thead>\n",
       "  <tbody>\n",
       "    <tr>\n",
       "      <th>London</th>\n",
       "      <td>0.0</td>\n",
       "      <td>262.0</td>\n",
       "      <td>162.0</td>\n",
       "      <td>272.0</td>\n",
       "      <td>555.0</td>\n",
       "    </tr>\n",
       "    <tr>\n",
       "      <th>Manchester</th>\n",
       "      <td>262.0</td>\n",
       "      <td>0.0</td>\n",
       "      <td>113.0</td>\n",
       "      <td>59.0</td>\n",
       "      <td>295.0</td>\n",
       "    </tr>\n",
       "    <tr>\n",
       "      <th>Birmingham</th>\n",
       "      <td>162.0</td>\n",
       "      <td>113.0</td>\n",
       "      <td>0.0</td>\n",
       "      <td>148.0</td>\n",
       "      <td>407.0</td>\n",
       "    </tr>\n",
       "    <tr>\n",
       "      <th>Leeds</th>\n",
       "      <td>272.0</td>\n",
       "      <td>59.0</td>\n",
       "      <td>148.0</td>\n",
       "      <td>0.0</td>\n",
       "      <td>288.0</td>\n",
       "    </tr>\n",
       "    <tr>\n",
       "      <th>Glasgow</th>\n",
       "      <td>555.0</td>\n",
       "      <td>295.0</td>\n",
       "      <td>407.0</td>\n",
       "      <td>288.0</td>\n",
       "      <td>0.0</td>\n",
       "    </tr>\n",
       "  </tbody>\n",
       "</table>\n",
       "</div>"
      ],
      "text/plain": [
       "            London  Manchester  Birmingham  Leeds  Glasgow\n",
       "London         0.0       262.0       162.0  272.0    555.0\n",
       "Manchester   262.0         0.0       113.0   59.0    295.0\n",
       "Birmingham   162.0       113.0         0.0  148.0    407.0\n",
       "Leeds        272.0        59.0       148.0    0.0    288.0\n",
       "Glasgow      555.0       295.0       407.0  288.0      0.0"
      ]
     },
     "execution_count": 22,
     "metadata": {},
     "output_type": "execute_result"
    }
   ],
   "source": [
    "adjacency"
   ]
  },
  {
   "cell_type": "code",
   "execution_count": 23,
   "id": "b5f6cff5-9039-4ed3-aaee-584da1bda905",
   "metadata": {
    "tags": []
   },
   "outputs": [],
   "source": [
    "# corrected method below, ignore above\n",
    "h = 6.63e-22 # pJHz^-1\n",
    "v = 193.414e12 # Hz for 1550nm, can modify for different channels\n",
    "gamma = 1.3 #W^-1 km^-1\n",
    "alpha = 0.0414 # km^-1\n",
    "beta2 = 21.6 # ps^2/nm/km \n",
    "B = 4.5 # THz - maybe easy to make dependent on the number of channels (B*number/45)?\n",
    "\n",
    "def C_NLI(L_eff, no_chan = 45): # in pJ\n",
    "    a = (8*gamma**2)*(alpha*L_eff**2)/(27*np.pi*beta2)\n",
    "    b = (beta2*np.pi**2)*(((B*no_chan/45)**2)/alpha)\n",
    "    return a*np.log(b)\n",
    "\n",
    "def N_ASE(G, NF = 5.5):  # in pJ, G lin nominal\n",
    "    return h*v*(G-1)*10**(NF/10)\n",
    "    \n",
    "def NSR(G_TX, C_NLI, N_ASE): \n",
    "    return C_NLI*(G_TX**2) + (N_ASE/G_TX)\n",
    "\n",
    "def NSR_opt(G_TX, N_ASE):\n",
    "    return 1.5*N_ASE/G_TX\n",
    "\n",
    "def G_opt(G_0, L_eff): # in pJ, G_0 in dB, L_eff in km\n",
    "    return (N_ASE(G_0)/2*C_NLI(L_eff))**(1/3)\n",
    "\n",
    "def db_to_lin(db_val):\n",
    "    return 10**(db_val/10)\n",
    "\n",
    "def lin_to_db(lin_val):\n",
    "    return 10*np.log10(lin_val) \n"
   ]
  },
  {
   "cell_type": "code",
   "execution_count": 24,
   "id": "bce8f703-d554-49a9-b9e2-77526a5fe365",
   "metadata": {
    "tags": []
   },
   "outputs": [
    {
     "data": {
      "text/plain": [
       "-12.383370079036307"
      ]
     },
     "execution_count": 24,
     "metadata": {},
     "output_type": "execute_result"
    }
   ],
   "source": [
    "a = NSR(G_opt(26, 80), C_NLI(80), N_ASE(db_to_lin(0.18*80)))\n",
    "lin_to_db(a)"
   ]
  },
  {
   "cell_type": "code",
   "execution_count": 25,
   "id": "4b254b70-4387-4327-9b81-7c496d879074",
   "metadata": {
    "tags": []
   },
   "outputs": [
    {
     "name": "stdout",
     "output_type": "stream",
     "text": [
      "27.542287033381662\n",
      "1.2076463594700271e-05\n",
      "2.088188897923076\n"
     ]
    }
   ],
   "source": [
    "print(db_to_lin(0.18*80))\n",
    "print(N_ASE(db_to_lin(0.18*80)))\n",
    "C_NLI(80)\n",
    "print(95*G_opt(26, 23))"
   ]
  },
  {
   "cell_type": "code",
   "execution_count": 26,
   "id": "e67fbbf6-53b9-4ba6-afdf-4eec97e296f6",
   "metadata": {
    "tags": []
   },
   "outputs": [
    {
     "name": "stdout",
     "output_type": "stream",
     "text": [
      "EDFA1&3 for 45 channels the max output per channel in dBm at saturation is  3.467874862246564 dBm\n",
      "EDFA2 for 45 channels the max output per channel in dBm at saturation is  0.46787486224656405 dBm\n"
     ]
    }
   ],
   "source": [
    "# EDFA for 45 channels the max output per channel in dBm at saturation is \n",
    "max_pwr_per_channel13 = 20 - 10*np.log10(45)\n",
    "max_pwr_per_channel2 = 17 - 10*np.log10(45)\n",
    "\n",
    "print('EDFA1&3 for 45 channels the max output per channel in dBm at saturation is ', max_pwr_per_channel13, 'dBm')\n",
    "print('EDFA2 for 45 channels the max output per channel in dBm at saturation is ', max_pwr_per_channel2, 'dBm')"
   ]
  },
  {
   "cell_type": "code",
   "execution_count": 27,
   "id": "c24c2eff-7bc2-4716-8d14-18ab6d9228c3",
   "metadata": {},
   "outputs": [
    {
     "name": "stdout",
     "output_type": "stream",
     "text": [
      "London London []\n",
      "0\n",
      "0\n",
      "0.022455970106263136\n",
      "0.022455970106263136\n",
      "0.04491194021252627\n",
      "0.04491194021252627\n",
      "0.06736791031878941\n",
      "London Manchester [2.280000000000001, 10.280000000000001, 10.280000000000001]\n",
      "0.06736791031878941\n",
      "0\n",
      "0.020396755344409646\n",
      "0.020396755344409646\n",
      "0.04079351068881929\n",
      "London Birmingham [3.4200000000000017, 11.42]\n",
      "0.04079351068881929\n",
      "0\n",
      "0.023602005210827767\n",
      "0.023602005210827767\n",
      "0.047204010421655535\n",
      "0.047204010421655535\n",
      "0.0708060156324833\n",
      "London Leeds [1.6799999999999997, 9.68, 9.68]\n",
      "0.0708060156324833\n",
      "0\n",
      "0.03152230961793595\n",
      "0.03152230961793595\n",
      "0.05326978430103261\n",
      "0.05326978430103261\n",
      "0.07501725898412927\n",
      "0.07501725898412927\n",
      "0.09676473366722593\n",
      "0.09676473366722593\n",
      "0.11851220835032258\n",
      "London Glasgow [0, 4.039999999999999, 6.02, 6.02, 6.02]\n",
      "0.11851220835032258\n",
      "Manchester Manchester []\n",
      "0\n",
      "0\n",
      "0.022455970106263136\n",
      "0.022455970106263136\n",
      "0.04491194021252627\n",
      "0.04491194021252627\n",
      "0.06736791031878941\n",
      "Manchester London [2.280000000000001, 10.280000000000001, 10.280000000000001]\n",
      "0.06736791031878941\n",
      "0\n",
      "0.03238763050587689\n",
      "Manchester Birmingham [0]\n",
      "0.03238763050587689\n",
      "0\n",
      "0.014447674239815717\n",
      "Manchester Leeds [7.380000000000003]\n",
      "0.014447674239815717\n",
      "0\n",
      "0.026400777457761725\n",
      "0.026400777457761725\n",
      "0.05280155491552345\n",
      "0.05280155491552345\n",
      "0.07920233237328517\n",
      "Manchester Glasgow [0.3000000000000007, 8.3, 8.3]\n",
      "0.07920233237328517\n",
      "Birmingham Birmingham []\n",
      "0\n",
      "0\n",
      "0.020396755344409646\n",
      "0.020396755344409646\n",
      "0.04079351068881929\n",
      "Birmingham London [3.4200000000000017, 11.42]\n",
      "0.04079351068881929\n",
      "0\n",
      "0.03238763050587689\n",
      "Birmingham Manchester [0]\n",
      "0.03238763050587689\n",
      "0\n",
      "0.018301056318927693\n",
      "0.018301056318927693\n",
      "0.036602112637855386\n",
      "Birmingham Leeds [4.68, 12.68]\n",
      "0.036602112637855386\n",
      "0\n",
      "0.027721199294471074\n",
      "0.027721199294471074\n",
      "0.053323196697613304\n",
      "0.053323196697613304\n",
      "0.07892519410075553\n",
      "0.07892519410075553\n",
      "0.10452719150389776\n",
      "Birmingham Glasgow [0, 7.3700000000000045, 7.685000000000002, 7.685000000000002]\n",
      "0.10452719150389776\n",
      "Leeds Leeds []\n",
      "0\n",
      "0\n",
      "0.023602005210827767\n",
      "0.023602005210827767\n",
      "0.047204010421655535\n",
      "0.047204010421655535\n",
      "0.0708060156324833\n",
      "Leeds London [1.6799999999999997, 9.68, 9.68]\n",
      "0.0708060156324833\n",
      "0\n",
      "0.014447674239815717\n",
      "Leeds Manchester [7.380000000000003]\n",
      "0.014447674239815717\n",
      "0\n",
      "0.018301056318927693\n",
      "0.018301056318927693\n",
      "0.036602112637855386\n",
      "Leeds Birmingham [4.68, 12.68]\n",
      "0.036602112637855386\n",
      "0\n",
      "0.025524940517363176\n",
      "0.025524940517363176\n",
      "0.05104988103472635\n",
      "0.05104988103472635\n",
      "0.07657482155208953\n",
      "Leeds Glasgow [0.7199999999999989, 8.719999999999999, 8.719999999999999]\n",
      "0.07657482155208953\n",
      "Glasgow Glasgow []\n",
      "0\n",
      "0\n",
      "0.03152230961793595\n",
      "0.03152230961793595\n",
      "0.05326978430103261\n",
      "0.05326978430103261\n",
      "0.07501725898412927\n",
      "0.07501725898412927\n",
      "0.09676473366722593\n",
      "0.09676473366722593\n",
      "0.11851220835032258\n",
      "Glasgow London [0, 4.039999999999999, 6.02, 6.02, 6.02]\n",
      "0.11851220835032258\n",
      "0\n",
      "0.026400777457761725\n",
      "0.026400777457761725\n",
      "0.05280155491552345\n",
      "0.05280155491552345\n",
      "0.07920233237328517\n",
      "Glasgow Manchester [0.3000000000000007, 8.3, 8.3]\n",
      "0.07920233237328517\n",
      "0\n",
      "0.027721199294471074\n",
      "0.027721199294471074\n",
      "0.053323196697613304\n",
      "0.053323196697613304\n",
      "0.07892519410075553\n",
      "0.07892519410075553\n",
      "0.10452719150389776\n",
      "Glasgow Birmingham [0, 7.3700000000000045, 7.685000000000002, 7.685000000000002]\n",
      "0.10452719150389776\n",
      "0\n",
      "0.025524940517363176\n",
      "0.025524940517363176\n",
      "0.05104988103472635\n",
      "0.05104988103472635\n",
      "0.07657482155208953\n",
      "Glasgow Leeds [0.7199999999999989, 8.719999999999999, 8.719999999999999]\n",
      "0.07657482155208953\n"
     ]
    },
    {
     "name": "stderr",
     "output_type": "stream",
     "text": [
      "/tmp/ipykernel_18189/33268302.py:30: RuntimeWarning: divide by zero encountered in log10\n",
      "  return 10*np.log10(lin_val)\n"
     ]
    }
   ],
   "source": [
    "# calculate SNR for each node pair without amplifiers first\n",
    "# place the amplifiers - produce a new graph, which is G with added amplifiers as nodes?\n",
    "# for now just execute the calculation, placing the amplifiers at equal distances according to the list\n",
    "\n",
    "connection_SNRs = adjacency.copy()\n",
    "for col in connection_SNRs.columns:\n",
    "    connection_SNRs[col].values[:] = 0\n",
    "\n",
    "connection_power = adjacency.copy()\n",
    "for col in connection_power.columns:\n",
    "    connection_power[col].values[:] = 0\n",
    "    \n",
    "launch_power = adjacency.copy()\n",
    "for col in launch_power.columns:\n",
    "    launch_power[col].values[:] = 0\n",
    "\n",
    "connection_attenuations = {}\n",
    "\n",
    "for i in list(paths.keys()):\n",
    "    for j in list(paths[i].keys()):\n",
    "        total_NSR = 0\n",
    "        total_loss = 0\n",
    "        launch_pwr = 0\n",
    "        attenuation_before_EDFAs = []\n",
    "        if len(paths[i][j]) >= 2:\n",
    "            total_loss += 4 # first ROADM \n",
    "            for e in paths[i][j]:\n",
    "                total_loss += 4 # ROADM at the end of a segment\n",
    "                if e != paths[i][j][-1]:\n",
    "                    # check how many spans and then total NSR = sum of spans (span+amplifier)\n",
    "                    n = amplifiers[(e,paths[i][j][paths[i][j].index(e)+1])]\n",
    "                    L = G[e][paths[i][j][paths[i][j].index(e)+1]]['weight'] # weigth of the connection\n",
    "                    L_span = L/(n+1)\n",
    "                    span_loss = 0.18*L_span \n",
    "                    if e == paths[i][j][0]:\n",
    "                        # no gain saturation\n",
    "#                         opti_PSD = G_opt(26,L_span) # in pJ\n",
    "#                         opti_pwr = opti_PSD*95\n",
    "#                         opti_pwr_dbm = lin_to_db(opti_pwr)\n",
    "#                         launch_pwr = opti_pwr_dbm\n",
    "#                         current_pwr = launch_pwr \n",
    "                        # gain saturation\n",
    "                        # launch_pwr = 20 - 10*np.log10(channels_per_edge[e][paths[i][j][paths[i][j].index(e)+1]])\n",
    "                        launch_pwr = 20 - 10*np.log10(45)\n",
    "                        current_pwr = launch_pwr\n",
    "                    for span in range(n+1):\n",
    "                        total_loss += span_loss\n",
    "                        #total_NSR += NSR_opt(db_to_lin(current_pwr)/95, N_ASE(db_to_lin(26)))\n",
    "                        print(total_NSR)\n",
    "                        total_NSR += NSR((db_to_lin(current_pwr))/95, C_NLI(L_span), N_ASE(db_to_lin(26)))\n",
    "                        print(total_NSR)\n",
    "                        if total_loss < 26: #gain of EDFA1\n",
    "                            attenuation_before_EDFAs.append(26-total_loss)\n",
    "                            total_loss = 0 #add enough attenuation\n",
    "                        else:\n",
    "                            total_loss -= 26 #add enough attenuation\n",
    "                            attenuation_before_EDFAs.append(0)\n",
    "                            current_pwr -= total_loss\n",
    "        connection_SNRs[i][j] = -(lin_to_db(total_NSR))\n",
    "        connection_power[i][j] = launch_pwr-total_loss\n",
    "        launch_power[i][j] = launch_pwr\n",
    "        print(i,j,attenuation_before_EDFAs)\n",
    "        print(total_NSR)"
   ]
  },
  {
   "cell_type": "code",
   "execution_count": 28,
   "id": "276d957e-db20-43de-80ff-8773b2402cba",
   "metadata": {
    "tags": []
   },
   "outputs": [
    {
     "data": {
      "text/html": [
       "<div>\n",
       "<style scoped>\n",
       "    .dataframe tbody tr th:only-of-type {\n",
       "        vertical-align: middle;\n",
       "    }\n",
       "\n",
       "    .dataframe tbody tr th {\n",
       "        vertical-align: top;\n",
       "    }\n",
       "\n",
       "    .dataframe thead th {\n",
       "        text-align: right;\n",
       "    }\n",
       "</style>\n",
       "<table border=\"1\" class=\"dataframe\">\n",
       "  <thead>\n",
       "    <tr style=\"text-align: right;\">\n",
       "      <th></th>\n",
       "      <th>London</th>\n",
       "      <th>Manchester</th>\n",
       "      <th>Birmingham</th>\n",
       "      <th>Leeds</th>\n",
       "      <th>Glasgow</th>\n",
       "    </tr>\n",
       "  </thead>\n",
       "  <tbody>\n",
       "    <tr>\n",
       "      <th>London</th>\n",
       "      <td>inf</td>\n",
       "      <td>11.715469</td>\n",
       "      <td>13.894089</td>\n",
       "      <td>11.499298</td>\n",
       "      <td>9.262369</td>\n",
       "    </tr>\n",
       "    <tr>\n",
       "      <th>Manchester</th>\n",
       "      <td>11.715469</td>\n",
       "      <td>inf</td>\n",
       "      <td>14.896208</td>\n",
       "      <td>18.402021</td>\n",
       "      <td>11.012620</td>\n",
       "    </tr>\n",
       "    <tr>\n",
       "      <th>Birmingham</th>\n",
       "      <td>13.894089</td>\n",
       "      <td>14.896208</td>\n",
       "      <td>inf</td>\n",
       "      <td>14.364938</td>\n",
       "      <td>9.807707</td>\n",
       "    </tr>\n",
       "    <tr>\n",
       "      <th>Leeds</th>\n",
       "      <td>11.499298</td>\n",
       "      <td>18.402021</td>\n",
       "      <td>14.364938</td>\n",
       "      <td>inf</td>\n",
       "      <td>11.159140</td>\n",
       "    </tr>\n",
       "    <tr>\n",
       "      <th>Glasgow</th>\n",
       "      <td>9.262369</td>\n",
       "      <td>11.012620</td>\n",
       "      <td>9.807707</td>\n",
       "      <td>11.159140</td>\n",
       "      <td>inf</td>\n",
       "    </tr>\n",
       "  </tbody>\n",
       "</table>\n",
       "</div>"
      ],
      "text/plain": [
       "               London  Manchester  Birmingham      Leeds    Glasgow\n",
       "London            inf   11.715469   13.894089  11.499298   9.262369\n",
       "Manchester  11.715469         inf   14.896208  18.402021  11.012620\n",
       "Birmingham  13.894089   14.896208         inf  14.364938   9.807707\n",
       "Leeds       11.499298   18.402021   14.364938        inf  11.159140\n",
       "Glasgow      9.262369   11.012620    9.807707  11.159140        inf"
      ]
     },
     "execution_count": 28,
     "metadata": {},
     "output_type": "execute_result"
    }
   ],
   "source": [
    "connection_SNRs"
   ]
  },
  {
   "cell_type": "code",
   "execution_count": 29,
   "id": "262354af-1d1b-469a-ade3-02a18bc02d80",
   "metadata": {
    "tags": []
   },
   "outputs": [
    {
     "data": {
      "text/html": [
       "<div>\n",
       "<style scoped>\n",
       "    .dataframe tbody tr th:only-of-type {\n",
       "        vertical-align: middle;\n",
       "    }\n",
       "\n",
       "    .dataframe tbody tr th {\n",
       "        vertical-align: top;\n",
       "    }\n",
       "\n",
       "    .dataframe thead th {\n",
       "        text-align: right;\n",
       "    }\n",
       "</style>\n",
       "<table border=\"1\" class=\"dataframe\">\n",
       "  <thead>\n",
       "    <tr style=\"text-align: right;\">\n",
       "      <th></th>\n",
       "      <th>London</th>\n",
       "      <th>Manchester</th>\n",
       "      <th>Birmingham</th>\n",
       "      <th>Leeds</th>\n",
       "      <th>Glasgow</th>\n",
       "    </tr>\n",
       "  </thead>\n",
       "  <tbody>\n",
       "    <tr>\n",
       "      <th>London</th>\n",
       "      <td>0.000000</td>\n",
       "      <td>-0.532125</td>\n",
       "      <td>-0.532125</td>\n",
       "      <td>-0.532125</td>\n",
       "      <td>-0.532125</td>\n",
       "    </tr>\n",
       "    <tr>\n",
       "      <th>Manchester</th>\n",
       "      <td>-0.532125</td>\n",
       "      <td>0.000000</td>\n",
       "      <td>-2.872125</td>\n",
       "      <td>-0.532125</td>\n",
       "      <td>-0.532125</td>\n",
       "    </tr>\n",
       "    <tr>\n",
       "      <th>Birmingham</th>\n",
       "      <td>-0.532125</td>\n",
       "      <td>-2.872125</td>\n",
       "      <td>0.000000</td>\n",
       "      <td>-0.532125</td>\n",
       "      <td>-0.532125</td>\n",
       "    </tr>\n",
       "    <tr>\n",
       "      <th>Leeds</th>\n",
       "      <td>-0.532125</td>\n",
       "      <td>-0.532125</td>\n",
       "      <td>-0.532125</td>\n",
       "      <td>0.000000</td>\n",
       "      <td>-0.532125</td>\n",
       "    </tr>\n",
       "    <tr>\n",
       "      <th>Glasgow</th>\n",
       "      <td>-0.532125</td>\n",
       "      <td>-0.532125</td>\n",
       "      <td>-0.532125</td>\n",
       "      <td>-0.532125</td>\n",
       "      <td>0.000000</td>\n",
       "    </tr>\n",
       "  </tbody>\n",
       "</table>\n",
       "</div>"
      ],
      "text/plain": [
       "              London  Manchester  Birmingham     Leeds   Glasgow\n",
       "London      0.000000   -0.532125   -0.532125 -0.532125 -0.532125\n",
       "Manchester -0.532125    0.000000   -2.872125 -0.532125 -0.532125\n",
       "Birmingham -0.532125   -2.872125    0.000000 -0.532125 -0.532125\n",
       "Leeds      -0.532125   -0.532125   -0.532125  0.000000 -0.532125\n",
       "Glasgow    -0.532125   -0.532125   -0.532125 -0.532125  0.000000"
      ]
     },
     "execution_count": 29,
     "metadata": {},
     "output_type": "execute_result"
    }
   ],
   "source": [
    "connection_power"
   ]
  },
  {
   "cell_type": "code",
   "execution_count": 30,
   "id": "64e48748-fb74-4d43-a9e3-677d0fcc3fd9",
   "metadata": {
    "tags": []
   },
   "outputs": [
    {
     "data": {
      "text/html": [
       "<div>\n",
       "<style scoped>\n",
       "    .dataframe tbody tr th:only-of-type {\n",
       "        vertical-align: middle;\n",
       "    }\n",
       "\n",
       "    .dataframe tbody tr th {\n",
       "        vertical-align: top;\n",
       "    }\n",
       "\n",
       "    .dataframe thead th {\n",
       "        text-align: right;\n",
       "    }\n",
       "</style>\n",
       "<table border=\"1\" class=\"dataframe\">\n",
       "  <thead>\n",
       "    <tr style=\"text-align: right;\">\n",
       "      <th></th>\n",
       "      <th>London</th>\n",
       "      <th>Manchester</th>\n",
       "      <th>Birmingham</th>\n",
       "      <th>Leeds</th>\n",
       "      <th>Glasgow</th>\n",
       "    </tr>\n",
       "  </thead>\n",
       "  <tbody>\n",
       "    <tr>\n",
       "      <th>London</th>\n",
       "      <td>0.000000</td>\n",
       "      <td>3.467875</td>\n",
       "      <td>3.467875</td>\n",
       "      <td>3.467875</td>\n",
       "      <td>3.467875</td>\n",
       "    </tr>\n",
       "    <tr>\n",
       "      <th>Manchester</th>\n",
       "      <td>3.467875</td>\n",
       "      <td>0.000000</td>\n",
       "      <td>3.467875</td>\n",
       "      <td>3.467875</td>\n",
       "      <td>3.467875</td>\n",
       "    </tr>\n",
       "    <tr>\n",
       "      <th>Birmingham</th>\n",
       "      <td>3.467875</td>\n",
       "      <td>3.467875</td>\n",
       "      <td>0.000000</td>\n",
       "      <td>3.467875</td>\n",
       "      <td>3.467875</td>\n",
       "    </tr>\n",
       "    <tr>\n",
       "      <th>Leeds</th>\n",
       "      <td>3.467875</td>\n",
       "      <td>3.467875</td>\n",
       "      <td>3.467875</td>\n",
       "      <td>0.000000</td>\n",
       "      <td>3.467875</td>\n",
       "    </tr>\n",
       "    <tr>\n",
       "      <th>Glasgow</th>\n",
       "      <td>3.467875</td>\n",
       "      <td>3.467875</td>\n",
       "      <td>3.467875</td>\n",
       "      <td>3.467875</td>\n",
       "      <td>0.000000</td>\n",
       "    </tr>\n",
       "  </tbody>\n",
       "</table>\n",
       "</div>"
      ],
      "text/plain": [
       "              London  Manchester  Birmingham     Leeds   Glasgow\n",
       "London      0.000000    3.467875    3.467875  3.467875  3.467875\n",
       "Manchester  3.467875    0.000000    3.467875  3.467875  3.467875\n",
       "Birmingham  3.467875    3.467875    0.000000  3.467875  3.467875\n",
       "Leeds       3.467875    3.467875    3.467875  0.000000  3.467875\n",
       "Glasgow     3.467875    3.467875    3.467875  3.467875  0.000000"
      ]
     },
     "execution_count": 30,
     "metadata": {},
     "output_type": "execute_result"
    }
   ],
   "source": [
    "launch_power"
   ]
  },
  {
   "cell_type": "code",
   "execution_count": 43,
   "id": "c3ba79e4-73f7-4779-bb75-1707f6a0f287",
   "metadata": {
    "tags": []
   },
   "outputs": [
    {
     "data": {
      "text/html": [
       "<div>\n",
       "<style scoped>\n",
       "    .dataframe tbody tr th:only-of-type {\n",
       "        vertical-align: middle;\n",
       "    }\n",
       "\n",
       "    .dataframe tbody tr th {\n",
       "        vertical-align: top;\n",
       "    }\n",
       "\n",
       "    .dataframe thead th {\n",
       "        text-align: right;\n",
       "    }\n",
       "</style>\n",
       "<table border=\"1\" class=\"dataframe\">\n",
       "  <thead>\n",
       "    <tr style=\"text-align: right;\">\n",
       "      <th></th>\n",
       "      <th>London</th>\n",
       "      <th>Manchester</th>\n",
       "      <th>Birmingham</th>\n",
       "      <th>Leeds</th>\n",
       "      <th>Glasgow</th>\n",
       "    </tr>\n",
       "  </thead>\n",
       "  <tbody>\n",
       "    <tr>\n",
       "      <th>London</th>\n",
       "      <td>0.00</td>\n",
       "      <td>-61.50</td>\n",
       "      <td>-37.16</td>\n",
       "      <td>-56.96</td>\n",
       "      <td>-112.80</td>\n",
       "    </tr>\n",
       "    <tr>\n",
       "      <th>Manchester</th>\n",
       "      <td>-61.50</td>\n",
       "      <td>0.00</td>\n",
       "      <td>-28.34</td>\n",
       "      <td>-114.46</td>\n",
       "      <td>-61.10</td>\n",
       "    </tr>\n",
       "    <tr>\n",
       "      <th>Birmingham</th>\n",
       "      <td>-37.16</td>\n",
       "      <td>-28.34</td>\n",
       "      <td>0.00</td>\n",
       "      <td>-90.12</td>\n",
       "      <td>-85.44</td>\n",
       "    </tr>\n",
       "    <tr>\n",
       "      <th>Leeds</th>\n",
       "      <td>-56.96</td>\n",
       "      <td>-114.46</td>\n",
       "      <td>-90.12</td>\n",
       "      <td>0.00</td>\n",
       "      <td>-59.84</td>\n",
       "    </tr>\n",
       "    <tr>\n",
       "      <th>Glasgow</th>\n",
       "      <td>-112.80</td>\n",
       "      <td>-61.10</td>\n",
       "      <td>-85.44</td>\n",
       "      <td>-59.84</td>\n",
       "      <td>0.00</td>\n",
       "    </tr>\n",
       "  </tbody>\n",
       "</table>\n",
       "</div>"
      ],
      "text/plain": [
       "            London  Manchester  Birmingham   Leeds  Glasgow\n",
       "London        0.00      -61.50      -37.16  -56.96  -112.80\n",
       "Manchester  -61.50        0.00      -28.34 -114.46   -61.10\n",
       "Birmingham  -37.16      -28.34        0.00  -90.12   -85.44\n",
       "Leeds       -56.96     -114.46      -90.12    0.00   -59.84\n",
       "Glasgow    -112.80      -61.10      -85.44  -59.84     0.00"
      ]
     },
     "execution_count": 43,
     "metadata": {},
     "output_type": "execute_result"
    }
   ],
   "source": [
    "connection_power"
   ]
  },
  {
   "cell_type": "code",
   "execution_count": 31,
   "id": "7164d8b8-5df2-4954-9323-6684518d2b8a",
   "metadata": {
    "tags": []
   },
   "outputs": [
    {
     "name": "stdout",
     "output_type": "stream",
     "text": [
      "Minimum SNR is 9.26 Min power is -2.87\n",
      "Chosen mode for all transceivers based on most restrictive criterion  {'Mode': 'C', 'DataRate': 400, 'MinReqPwr': -27.8, 'MinReqSNR': 8.0}\n"
     ]
    }
   ],
   "source": [
    "# assume the mode of all transceivers based on most restrictive values of SNR and loss - to be adjusted later\n",
    "# can also vary the amplifier numbers if SNR too low/high for given loss and vice versa to optimise transmission mode\n",
    "\n",
    "Transceivers = {}\n",
    "MinReqSNR = [21.0, 13.8, 8.0, 2.6]\n",
    "MinReqPwr = [-24.8, -26.0, -27.8, -30.8]\n",
    "DataRate = [800, 600, 400, 200]\n",
    "Mode = ['A', 'B', 'C', 'D']\n",
    "for i in range(len(DataRate)):\n",
    "    Transceivers[f'{DataRate[i]}Gb'] = {'Mode':Mode[i],'DataRate': DataRate[i], 'MinReqPwr': MinReqPwr[i], 'MinReqSNR': MinReqSNR[i]} \n",
    "\n",
    "minimumSNR = np.inf\n",
    "minPwr = 0\n",
    "for i in connection_SNRs.values:\n",
    "    if min(i) < minimumSNR:\n",
    "        minimumSNR = min(i)\n",
    "for i in connection_power.values:\n",
    "    if min(i) < minPwr:\n",
    "        minPwr = min(i)\n",
    "\n",
    "print('Minimum SNR is %.2f' % minimumSNR, 'Min power is %.2f' % minPwr)\n",
    "\n",
    "Transceiver = None\n",
    "if MinReqPwr[0] < minPwr and MinReqSNR[0] < minimumSNR:\n",
    "    Transceiver = Transceivers[f'{DataRate[0]}Gb']\n",
    "    print('top')\n",
    "else:\n",
    "    for i in range(len(MinReqSNR)):\n",
    "        if MinReqSNR[i+1] < minimumSNR and MinReqSNR[i] > minimumSNR:\n",
    "            Transceiver = Transceivers[f'{DataRate[i+1]}Gb']\n",
    "            break\n",
    "        if MinReqPwr[i+1] < minPwr and MinReqPwr[i] > minPwr:\n",
    "            Transceiver = Transceivers[f'{DataRate[i+1]}Gb']\n",
    "            break\n",
    "        \n",
    "print('Chosen mode for all transceivers based on most restrictive criterion ', Transceiver) # This should be done for each channel"
   ]
  },
  {
   "cell_type": "code",
   "execution_count": 32,
   "id": "0d6f7259-497d-469d-8c65-78949b37eceb",
   "metadata": {
    "tags": []
   },
   "outputs": [
    {
     "name": "stdout",
     "output_type": "stream",
     "text": [
      "The most loaded link has  12.0 % of the total flow\n",
      "Assuming the transmitted determined, this gives max capacity there at 27.00 Tb/s\n",
      "So total network capacity is 225.00 Tb/s\n",
      "Corresponding to  375.0 transceivers (rounded down)\n",
      "Actual number of transceivers used  374 for an actual capacity of  224.4 Tb/s\n"
     ]
    }
   ],
   "source": [
    "# calculate the capacities\n",
    "Transceiver = Transceivers[f'600Gb']\n",
    "# largest flow in percentages is \n",
    "maxFlow = 0\n",
    "for i in link_flows.values:\n",
    "    if maxFlow < max(i):\n",
    "        maxFlow = max(i)\n",
    "print('The most loaded link has ', maxFlow, '% of the total flow')\n",
    "max_cap_loaded_link = (45 * Transceiver['DataRate'])/1000\n",
    "print('Assuming the transmitted determined, this gives max capacity there at %.2f Tb/s' % max_cap_loaded_link)\n",
    "total_capacity = max_cap_loaded_link/(maxFlow/100)\n",
    "print('So total network capacity is %.2f Tb/s' % total_capacity)\n",
    "estim_transceivers = ((total_capacity * 1000)/Transceiver['DataRate'])\n",
    "print('Corresponding to ', estim_transceivers, 'transceivers (rounded down)')\n",
    "no_transceivers = round(estim_transceivers) \n",
    "if (no_transceivers % 2) == 1:\n",
    "    no_transceivers = no_transceivers - 1\n",
    "actual_capacity = (no_transceivers*Transceiver['DataRate'])/1000\n",
    "print('Actual number of transceivers used ', no_transceivers,'for an actual capacity of ', actual_capacity, 'Tb/s')#"
   ]
  },
  {
   "cell_type": "code",
   "execution_count": 33,
   "id": "2c9cb0bb-e386-4cde-95e6-c07580802654",
   "metadata": {
    "tags": []
   },
   "outputs": [
    {
     "name": "stdout",
     "output_type": "stream",
     "text": [
      "            London  Manchester  Birmingham  Leeds  Glasgow\n",
      "London           0          45          45     30       26\n",
      "Manchester      45           0          11      7        7\n",
      "Birmingham      45          11           0      7        4\n",
      "Leeds           30           7           7      0        4\n",
      "Glasgow         26           7           4      4        0\n",
      "The number of transceivers at London is 146\n",
      "The number of transceivers at Manchester is 70\n",
      "The number of transceivers at Birmingham is 67\n",
      "The number of transceivers at Leeds is 48\n",
      "The number of transceivers at Glasgow is 41\n"
     ]
    },
    {
     "data": {
      "text/html": [
       "<div>\n",
       "<style scoped>\n",
       "    .dataframe tbody tr th:only-of-type {\n",
       "        vertical-align: middle;\n",
       "    }\n",
       "\n",
       "    .dataframe tbody tr th {\n",
       "        vertical-align: top;\n",
       "    }\n",
       "\n",
       "    .dataframe thead th {\n",
       "        text-align: right;\n",
       "    }\n",
       "</style>\n",
       "<table border=\"1\" class=\"dataframe\">\n",
       "  <thead>\n",
       "    <tr style=\"text-align: right;\">\n",
       "      <th></th>\n",
       "      <th>London</th>\n",
       "      <th>Manchester</th>\n",
       "      <th>Birmingham</th>\n",
       "      <th>Leeds</th>\n",
       "      <th>Glasgow</th>\n",
       "    </tr>\n",
       "  </thead>\n",
       "  <tbody>\n",
       "    <tr>\n",
       "      <th>London</th>\n",
       "      <td>0.0</td>\n",
       "      <td>45.0</td>\n",
       "      <td>45.0</td>\n",
       "      <td>30.0</td>\n",
       "      <td>26.0</td>\n",
       "    </tr>\n",
       "    <tr>\n",
       "      <th>Manchester</th>\n",
       "      <td>45.0</td>\n",
       "      <td>0.0</td>\n",
       "      <td>11.0</td>\n",
       "      <td>7.0</td>\n",
       "      <td>7.0</td>\n",
       "    </tr>\n",
       "    <tr>\n",
       "      <th>Birmingham</th>\n",
       "      <td>45.0</td>\n",
       "      <td>11.0</td>\n",
       "      <td>0.0</td>\n",
       "      <td>7.0</td>\n",
       "      <td>4.0</td>\n",
       "    </tr>\n",
       "    <tr>\n",
       "      <th>Leeds</th>\n",
       "      <td>30.0</td>\n",
       "      <td>7.0</td>\n",
       "      <td>7.0</td>\n",
       "      <td>0.0</td>\n",
       "      <td>4.0</td>\n",
       "    </tr>\n",
       "    <tr>\n",
       "      <th>Glasgow</th>\n",
       "      <td>26.0</td>\n",
       "      <td>7.0</td>\n",
       "      <td>4.0</td>\n",
       "      <td>4.0</td>\n",
       "      <td>0.0</td>\n",
       "    </tr>\n",
       "  </tbody>\n",
       "</table>\n",
       "</div>"
      ],
      "text/plain": [
       "            London  Manchester  Birmingham  Leeds  Glasgow\n",
       "London         0.0        45.0        45.0   30.0     26.0\n",
       "Manchester    45.0         0.0        11.0    7.0      7.0\n",
       "Birmingham    45.0        11.0         0.0    7.0      4.0\n",
       "Leeds         30.0         7.0         7.0    0.0      4.0\n",
       "Glasgow       26.0         7.0         4.0    4.0      0.0"
      ]
     },
     "execution_count": 33,
     "metadata": {},
     "output_type": "execute_result"
    }
   ],
   "source": [
    "#### now number of channels per link, how many transceivers at each node and channels on each edge?\n",
    "\n",
    "channels = traffic_df.copy()\n",
    "channel_multiplier = no_transceivers/100\n",
    "for col in channels.columns:\n",
    "    channels[col].values[:] = [round(i * channel_multiplier) for i in channels[col].values[:]]\n",
    "print(channels)\n",
    "\n",
    "for i in channels.keys():\n",
    "    print(f'The number of transceivers at {i} is', sum(channels[i]))\n",
    "\n",
    "channels_per_edge = adjacency.copy()\n",
    "for col in channels_per_edge.columns:\n",
    "    channels_per_edge[col].values[:] = 0\n",
    "    \n",
    "for i in list(paths.keys()):\n",
    "    for j in list(paths[i].keys()):\n",
    "        # add the channels for i,j onto each segment from paths[i],[j] in link f\n",
    "        if len(paths[i][j]) < 2:\n",
    "            channels_per_edge[i][j] += channels[i][j]\n",
    "        else:\n",
    "            for e in paths[i][j]:\n",
    "                if e != paths[i][j][-1]:\n",
    "                    channels_per_edge[e][paths[i][j][paths[i][j].index(e)+1]] += channels[i][j]\n",
    "    \n",
    "channels_per_edge"
   ]
  },
  {
   "cell_type": "code",
   "execution_count": 34,
   "id": "e0673e73-edd4-460e-9905-4686186df6ce",
   "metadata": {
    "tags": []
   },
   "outputs": [
    {
     "data": {
      "image/png": "[encoded data removed]",
      "text/plain": [
       "<Figure size 720x648 with 2 Axes>"
      ]
     },
     "metadata": {
      "needs_background": "light"
     },
     "output_type": "display_data"
    }
   ],
   "source": [
    "edge_labels = {(u,v):link_flows[u][v] for (u,v) in G.edges()}\n",
    "plt.figure(figsize = (10,9))\n",
    "m = Basemap(\n",
    "         projection='merc',\n",
    "         llcrnrlon=-6, # -5\n",
    "         llcrnrlat=51, # 50\n",
    "         urcrnrlon=2, # 5\n",
    "         urcrnrlat=56, # 60\n",
    "         resolution='l',\n",
    "         suppress_ticks=True)\n",
    "pos = {}\n",
    "for i in range(len(Cities)):\n",
    "    pos[Cities[i]] = m(Positions[i][0], Positions[i][1])\n",
    "\n",
    "# manually adjusting labels\n",
    "pos_labels = pos.copy()\n",
    "pos_labels['London'] = (pos['London'][0],pos['London'][1]-20000)\n",
    "pos_labels['Manchester'] = (pos['Manchester'][0]-100000,pos['Manchester'][1]-50000)\n",
    "pos_labels['Leeds'] = (pos['Leeds'][0]+35000,pos['Leeds'][1]+20000)\n",
    "pos_labels['Glasgow'] = (pos['Glasgow'][0]+70000,pos['Glasgow'][1])\n",
    "pos_labels['Birmingham'] = (pos['Birmingham'][0]-50000,pos['Birmingham'][1]-20000)\n",
    "\n",
    "nx.draw_networkx_nodes(G, pos = pos, node_color = 'r', alpha = 0.8, node_size = 100)\n",
    "# colormap plasma? coolwarm? Reds?\n",
    "Edges = nx.draw_networkx_edges(G, pos=pos, edge_color=edge_labels.values(), alpha=0.8, edge_cmap=plt.cm.coolwarm, width=8, edge_vmin=0, edge_vmax=30)\n",
    "# nx.draw_networkx_edge_labels(G, pos,edge_labels=edge_labels,label_pos=0.4,font_color='black',font_size=8)#, font_weight='bold')\n",
    "nx.draw_networkx_labels(G, pos_labels, font_size=12)#, font_weight='bold')\n",
    "m.drawcountries(linewidth=1)\n",
    "m.drawcoastlines(linewidth=1)\n",
    "\n",
    "# add a colorbar \n",
    "# add a legend with the edge labels\n",
    "\n",
    "# def make_proxy(clr, mappable, **kwargs):\n",
    "#     return Line2D([0, 1], [0, 1], color=clr, **kwargs)\n",
    "# # generate proxies with the above function\n",
    "# proxies = [make_proxy(clr, h2, lw=5) for clr in clrs]\n",
    "# # and some text for the legend -- you should use something from df.\n",
    "labels = [\"{}->{}\".format(fr, to) for (fr, to) in G.edges()]\n",
    "text = [f'{i}: {j}%' for i,j in zip(labels,edge_labels.values())]\n",
    "# labels = [\"{}<->{}\".format(i[0], i[1]) for i in edge_labels.keys()]\n",
    "# plt.legend(labels=edge_labels.values(), handles=labels)\n",
    "\n",
    "#from matplotlib.offsetbox import AnchoredText\n",
    "# anchored_text = [AnchoredText(i+f' {j}', loc=2) for i,j in zip(labels,edge_labels.values())]\n",
    "# ax.add_artist(anchored_text)\n",
    "plt.text(685000, 780000, \"\\n\".join(text), ha='center', va='center', bbox=dict(facecolor='white', alpha=0.7), fontsize=12)\n",
    "plt.colorbar(Edges, extend='max')\n",
    "plt.savefig('Ring.png')\n",
    "plt.show()"
   ]
  },
  {
   "cell_type": "code",
   "execution_count": 189,
   "id": "3398028d-3186-4a15-a28d-67c512c8a70e",
   "metadata": {
    "tags": []
   },
   "outputs": [
    {
     "data": {
      "text/plain": [
       "{'London': 0.16666666666666666,\n",
       " 'Manchester': 0.16666666666666666,\n",
       " 'Birmingham': 0.16666666666666666,\n",
       " 'Leeds': 0.16666666666666666,\n",
       " 'Glasgow': 0.16666666666666666}"
      ]
     },
     "execution_count": 189,
     "metadata": {},
     "output_type": "execute_result"
    }
   ],
   "source": [
    "# nx.communicability(G)\n",
    "# nx.edge_load(G)\n",
    "# nx.load_centrality(G)"
   ]
  },
  {
   "cell_type": "code",
   "execution_count": 3,
   "id": "0b8888a4",
   "metadata": {},
   "outputs": [
    {
     "name": "stdout",
     "output_type": "stream",
     "text": [
      "[['London', 'London'], ['Manchester', 'Manchester'], ['Birmingham', 'Birmingham'], ['Leeds', 'Leeds'], ['Glasgow', 'Glasgow']]\n"
     ]
    }
   ],
   "source": [
    "#now create all possible networks with nodes of degree >= 2 - how many possibilities?\n",
    "\n",
    "# connected_list = []\n",
    "# for i in Cities:\n",
    "#     for j in Cities:\n",
    "#         if j!=i:\n",
    "#             connected_list.append([i,j])\n",
    "\n",
    "repeated_list = [[a,b] for a,b in zip(Cities,Cities)]\n",
    "print(repeated_list)"
   ]
  },
  {
   "cell_type": "code",
   "execution_count": 8,
   "id": "8d2dfaf4",
   "metadata": {
    "tags": []
   },
   "outputs": [
    {
     "ename": "NameError",
     "evalue": "name 'Cities' is not defined",
     "output_type": "error",
     "traceback": [
      "\u001b[0;31m---------------------------------------------------------------------------\u001b[0m",
      "\u001b[0;31mNameError\u001b[0m                                 Traceback (most recent call last)",
      "\u001b[0;32m/tmp/ipykernel_13577/2258515761.py\u001b[0m in \u001b[0;36m<module>\u001b[0;34m\u001b[0m\n\u001b[1;32m      1\u001b[0m \u001b[0mconnection_list\u001b[0m \u001b[0;34m=\u001b[0m \u001b[0;34m[\u001b[0m\u001b[0;34m]\u001b[0m\u001b[0;34m\u001b[0m\u001b[0;34m\u001b[0m\u001b[0m\n\u001b[0;32m----> 2\u001b[0;31m \u001b[0mpermut\u001b[0m \u001b[0;34m=\u001b[0m \u001b[0mitertools\u001b[0m\u001b[0;34m.\u001b[0m\u001b[0mpermutations\u001b[0m\u001b[0;34m(\u001b[0m\u001b[0mCities\u001b[0m\u001b[0;34m,\u001b[0m \u001b[0mlen\u001b[0m\u001b[0;34m(\u001b[0m\u001b[0mCities\u001b[0m\u001b[0;34m)\u001b[0m\u001b[0;34m)\u001b[0m\u001b[0;34m\u001b[0m\u001b[0;34m\u001b[0m\u001b[0m\n\u001b[0m\u001b[1;32m      3\u001b[0m \u001b[0;34m\u001b[0m\u001b[0m\n\u001b[1;32m      4\u001b[0m \u001b[0;32mfor\u001b[0m \u001b[0mcomb\u001b[0m \u001b[0;32min\u001b[0m \u001b[0mpermut\u001b[0m\u001b[0;34m:\u001b[0m\u001b[0;34m\u001b[0m\u001b[0;34m\u001b[0m\u001b[0m\n\u001b[1;32m      5\u001b[0m     \u001b[0mzipped\u001b[0m \u001b[0;34m=\u001b[0m \u001b[0mzip\u001b[0m\u001b[0;34m(\u001b[0m\u001b[0mcomb\u001b[0m\u001b[0;34m,\u001b[0m \u001b[0mCities\u001b[0m\u001b[0;34m)\u001b[0m\u001b[0;34m\u001b[0m\u001b[0;34m\u001b[0m\u001b[0m\n",
      "\u001b[0;31mNameError\u001b[0m: name 'Cities' is not defined"
     ]
    }
   ],
   "source": [
    "connection_list = []\n",
    "permut = itertools.permutations(Cities, len(Cities))\n",
    "\n",
    "for comb in permut:\n",
    "    zipped = zip(comb, Cities)\n",
    "    connection_list.append(list(zipped))\n",
    "\n",
    "#filter out 1to1 connections\n",
    "\n",
    "remove = []\n",
    "\n",
    "for i in connection_list:\n",
    "    for j in i:\n",
    "        if j[0] == j[1]:\n",
    "            if i not in remove:\n",
    "                remove.append(i)\n",
    "                \n",
    "for i in remove:\n",
    "    connection_list.remove(i)\n",
    "\n",
    "print(connection_list)\n",
    "\n",
    "for i in connection_list:\n",
    "    seen = set()\n",
    "    result = []\n",
    "    for d in i:\n",
    "        if frozenset(d) not in seen:\n",
    "            result.append(d)\n",
    "            seen.add(frozenset(d))\n",
    "    if result != i:\n",
    "        print(i)\n",
    "        connection_list.remove(i)\n",
    "        \n",
    "# print(connection_list)"
   ]
  },
  {
   "cell_type": "code",
   "execution_count": 7,
   "id": "8f65202f-c5ef-4990-b01b-b6627f0408b6",
   "metadata": {
    "tags": []
   },
   "outputs": [],
   "source": [
    "# iterate through all graphs with 5 nodes of degree at least 2\n",
    "\n",
    "import itertools\n",
    "import networkx as nx\n",
    "\n",
    "# Define the number of nodes\n",
    "num_nodes = 5\n",
    "\n",
    "# Generate all possible edges\n",
    "possible_edges = list(itertools.combinations(range(num_nodes), 2))\n",
    "\n",
    "# Iterate through all possible graphs\n",
    "for edges in itertools.combinations(possible_edges, num_nodes - 1):\n",
    "    # Initialize the graph\n",
    "    G = nx.Graph()\n",
    "    G.add_nodes_from(range(num_nodes))\n",
    "    G.add_edges_from(edges)\n",
    "    \n",
    "    # Check if every node has a degree of at least 2\n",
    "    degrees = [deg for node, deg in G.degree()]\n",
    "    if min(degrees) >= 2:\n",
    "        # Do something with the graph\n",
    "        print(G.edges())"
   ]
  },
  {
   "cell_type": "code",
   "execution_count": null,
   "id": "c6587792-22a2-49e9-992f-cbd99672214e",
   "metadata": {},
   "outputs": [],
   "source": [
    "#disconnect an edge iteratively from the complete graph\n",
    "# Create a complete graph with 5 nodes\n",
    "G = nx.complete_graph(5)\n",
    "\n",
    "# Iterate through all edges of the graph and remove one edge at a time\n",
    "for u, v in list(G.edges()):\n",
    "    # Make a copy of the graph\n",
    "    G_copy = G.copy()\n",
    "    # Remove the edge (u, v) from the graph\n",
    "    G_copy.remove_edge(u, v)\n",
    "    # Print the nodes and edges of the modified graph\n",
    "    print(\"Nodes:\", G_copy.nodes())\n",
    "    print(\"Edges:\", G_copy.edges())"
   ]
  },
  {
   "cell_type": "code",
   "execution_count": null,
   "id": "870e2a6b-79b2-41ce-a393-561ba83c2a57",
   "metadata": {},
   "outputs": [],
   "source": [
    "#same but with pairs \n",
    "\n",
    "# Create a complete graph with 5 nodes\n",
    "G = nx.complete_graph(5)\n",
    "\n",
    "# Iterate through all pairs of edges in the graph\n",
    "for e1, e2 in itertools.combinations(G.edges(), 2):\n",
    "    # Make a copy of the graph\n",
    "    G_copy = G.copy()\n",
    "    # Remove the two edges from the graph\n",
    "    G_copy.remove_edge(*e1)\n",
    "    G_copy.remove_edge(*e2)\n",
    "    # Print the nodes and edges of the modified graph\n",
    "    print(\"Nodes:\", G_copy.nodes())\n",
    "    print(\"Edges:\", G_copy.edges())"
   ]
  }
 ],
 "metadata": {
  "kernelspec": {
   "display_name": "Python 3 (ipykernel)",
   "language": "python",
   "name": "python3"
  },
  "language_info": {
   "codemirror_mode": {
    "name": "ipython",
    "version": 3
   },
   "file_extension": ".py",
   "mimetype": "text/x-python",
   "name": "python",
   "nbconvert_exporter": "python",
   "pygments_lexer": "ipython3",
   "version": "3.10.6"
  }
 },
 "nbformat": 4,
 "nbformat_minor": 5
}
