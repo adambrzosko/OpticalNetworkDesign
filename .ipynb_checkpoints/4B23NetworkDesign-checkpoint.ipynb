{
 "cells": [
  {
   "cell_type": "code",
   "execution_count": 117,
   "id": "36523387",
   "metadata": {
    "tags": []
   },
   "outputs": [],
   "source": [
    "import numpy as np\n",
    "import networkx as nx\n",
    "import itertools\n",
    "from itertools import permutations\n",
    "from itertools import product\n",
    "import matplotlib.pyplot as plt\n",
    "import scipy.constants as scp\n",
    "import pandas as pd\n",
    "import statistics as stat\n",
    "import random\n",
    "import math\n",
    "from matplotlib.lines import Line2D\n",
    "from mpl_toolkits.basemap import Basemap as Basemap"
   ]
  },
  {
   "cell_type": "code",
   "execution_count": 118,
   "id": "fd01db74",
   "metadata": {
    "tags": []
   },
   "outputs": [
    {
     "data": {
      "text/html": [
       "<div>\n",
       "<style scoped>\n",
       "    .dataframe tbody tr th:only-of-type {\n",
       "        vertical-align: middle;\n",
       "    }\n",
       "\n",
       "    .dataframe tbody tr th {\n",
       "        vertical-align: top;\n",
       "    }\n",
       "\n",
       "    .dataframe thead th {\n",
       "        text-align: right;\n",
       "    }\n",
       "</style>\n",
       "<table border=\"1\" class=\"dataframe\">\n",
       "  <thead>\n",
       "    <tr style=\"text-align: right;\">\n",
       "      <th></th>\n",
       "      <th>London</th>\n",
       "      <th>Manchester</th>\n",
       "      <th>Birmingham</th>\n",
       "      <th>Leeds</th>\n",
       "      <th>Glasgow</th>\n",
       "    </tr>\n",
       "  </thead>\n",
       "  <tbody>\n",
       "    <tr>\n",
       "      <th>London</th>\n",
       "      <td>0</td>\n",
       "      <td>262</td>\n",
       "      <td>162</td>\n",
       "      <td>272</td>\n",
       "      <td>555</td>\n",
       "    </tr>\n",
       "    <tr>\n",
       "      <th>Manchester</th>\n",
       "      <td>262</td>\n",
       "      <td>0</td>\n",
       "      <td>113</td>\n",
       "      <td>59</td>\n",
       "      <td>295</td>\n",
       "    </tr>\n",
       "    <tr>\n",
       "      <th>Birmingham</th>\n",
       "      <td>162</td>\n",
       "      <td>113</td>\n",
       "      <td>0</td>\n",
       "      <td>148</td>\n",
       "      <td>407</td>\n",
       "    </tr>\n",
       "    <tr>\n",
       "      <th>Leeds</th>\n",
       "      <td>278</td>\n",
       "      <td>59</td>\n",
       "      <td>148</td>\n",
       "      <td>0</td>\n",
       "      <td>288</td>\n",
       "    </tr>\n",
       "    <tr>\n",
       "      <th>Glasgow</th>\n",
       "      <td>555</td>\n",
       "      <td>295</td>\n",
       "      <td>407</td>\n",
       "      <td>288</td>\n",
       "      <td>0</td>\n",
       "    </tr>\n",
       "  </tbody>\n",
       "</table>\n",
       "</div>"
      ],
      "text/plain": [
       "            London  Manchester  Birmingham  Leeds  Glasgow\n",
       "London           0         262         162    272      555\n",
       "Manchester     262           0         113     59      295\n",
       "Birmingham     162         113           0    148      407\n",
       "Leeds          278          59         148      0      288\n",
       "Glasgow        555         295         407    288        0"
      ]
     },
     "execution_count": 118,
     "metadata": {},
     "output_type": "execute_result"
    }
   ],
   "source": [
    "Cities = [\"London\", \"Manchester\", \"Birmingham\", \"Leeds\", \"Glasgow\"]\n",
    "Positions = [(0.1276, 51.5072), (-2.2426, 53.4808), (-1.8904, 52.4862), (-1.5491, 53.8008), (-4.2518, 55.8642)]\n",
    "\n",
    "distances = [[0,262,162,278,555], [262,0,113,59,295], [162,113,0,148,407], [272,59,148,0,288], [555,295,407,288,0]]\n",
    "traffic = [[0,12,12,8,7], [12,0,3,2,2], [12,3,0,2,1], [8,2,2,0,1], [7,2,1,1,0]]\n",
    "# create a dictionary of cities\n",
    "cities_dict = {i : {} for i in Cities}\n",
    "cities_traff = {i : {} for i in Cities}\n",
    "# connect all cities with distances\n",
    "for e in Cities:  \n",
    "    cities_dict[e] = {i : distances[Cities.index(e)][Cities.index(i)] for i in Cities}\n",
    "    cities_traff[e] = {i : traffic[Cities.index(e)][Cities.index(i)] for i in Cities}\n",
    "\n",
    "cities_df = pd.DataFrame(cities_dict)\n",
    "traffic_df = pd.DataFrame(cities_traff)\n",
    "cities_df"
   ]
  },
  {
   "cell_type": "code",
   "execution_count": 119,
   "id": "5259b2d7-10cc-4701-927f-96b34818bc4f",
   "metadata": {
    "tags": []
   },
   "outputs": [
    {
     "data": {
      "text/html": [
       "<div>\n",
       "<style scoped>\n",
       "    .dataframe tbody tr th:only-of-type {\n",
       "        vertical-align: middle;\n",
       "    }\n",
       "\n",
       "    .dataframe tbody tr th {\n",
       "        vertical-align: top;\n",
       "    }\n",
       "\n",
       "    .dataframe thead th {\n",
       "        text-align: right;\n",
       "    }\n",
       "</style>\n",
       "<table border=\"1\" class=\"dataframe\">\n",
       "  <thead>\n",
       "    <tr style=\"text-align: right;\">\n",
       "      <th></th>\n",
       "      <th>London</th>\n",
       "      <th>Manchester</th>\n",
       "      <th>Birmingham</th>\n",
       "      <th>Leeds</th>\n",
       "      <th>Glasgow</th>\n",
       "    </tr>\n",
       "  </thead>\n",
       "  <tbody>\n",
       "    <tr>\n",
       "      <th>London</th>\n",
       "      <td>0</td>\n",
       "      <td>12</td>\n",
       "      <td>12</td>\n",
       "      <td>8</td>\n",
       "      <td>7</td>\n",
       "    </tr>\n",
       "    <tr>\n",
       "      <th>Manchester</th>\n",
       "      <td>12</td>\n",
       "      <td>0</td>\n",
       "      <td>3</td>\n",
       "      <td>2</td>\n",
       "      <td>2</td>\n",
       "    </tr>\n",
       "    <tr>\n",
       "      <th>Birmingham</th>\n",
       "      <td>12</td>\n",
       "      <td>3</td>\n",
       "      <td>0</td>\n",
       "      <td>2</td>\n",
       "      <td>1</td>\n",
       "    </tr>\n",
       "    <tr>\n",
       "      <th>Leeds</th>\n",
       "      <td>8</td>\n",
       "      <td>2</td>\n",
       "      <td>2</td>\n",
       "      <td>0</td>\n",
       "      <td>1</td>\n",
       "    </tr>\n",
       "    <tr>\n",
       "      <th>Glasgow</th>\n",
       "      <td>7</td>\n",
       "      <td>2</td>\n",
       "      <td>1</td>\n",
       "      <td>1</td>\n",
       "      <td>0</td>\n",
       "    </tr>\n",
       "  </tbody>\n",
       "</table>\n",
       "</div>"
      ],
      "text/plain": [
       "            London  Manchester  Birmingham  Leeds  Glasgow\n",
       "London           0          12          12      8        7\n",
       "Manchester      12           0           3      2        2\n",
       "Birmingham      12           3           0      2        1\n",
       "Leeds            8           2           2      0        1\n",
       "Glasgow          7           2           1      1        0"
      ]
     },
     "execution_count": 119,
     "metadata": {},
     "output_type": "execute_result"
    }
   ],
   "source": [
    "traffic_df"
   ]
  },
  {
   "cell_type": "code",
   "execution_count": 120,
   "id": "606a2f65",
   "metadata": {
    "tags": []
   },
   "outputs": [],
   "source": [
    "# maybe better: create a full mesh then disconnect one by one in a loop\n",
    "\n",
    "G=nx.Graph()\n",
    "# G.add_nodes_from(Cities)\n",
    "for i in range(len(Cities)):\n",
    "    G.add_node(Cities[i], pos=Positions[i])\n",
    "for i in cities_dict:\n",
    "    for j in cities_dict[i]:\n",
    "        # G.add_weighted_edges_from([(i,j,cities_dict[i][j])])\n",
    "        G.add_edges_from([(i,j,{'weight':cities_dict[i][j]})])\n",
    "        \n",
    "# add a ROADM at every node (4dB) and amplifier (number)\n",
    "nx.set_node_attributes(G,4,'ROADM')\n",
    "nx.set_node_attributes(G,1,'EDFA')\n",
    "\n",
    "# remove self-edges\n",
    "G.remove_edges_from(nx.selfloop_edges(G))\n",
    "\n",
    "# add atrributes\n",
    "# G.edge['London']['Manchester']['attribute'] = 'value'"
   ]
  },
  {
   "cell_type": "code",
   "execution_count": 121,
   "id": "fcd3e161",
   "metadata": {
    "tags": []
   },
   "outputs": [
    {
     "data": {
      "text/plain": [
       "NodeView(('London', 'Manchester', 'Birmingham', 'Leeds', 'Glasgow'))"
      ]
     },
     "execution_count": 121,
     "metadata": {},
     "output_type": "execute_result"
    }
   ],
   "source": [
    "G.nodes()"
   ]
  },
  {
   "cell_type": "code",
   "execution_count": 122,
   "id": "9f97ff8f",
   "metadata": {
    "tags": []
   },
   "outputs": [
    {
     "data": {
      "text/plain": [
       "EdgeView([('London', 'Manchester'), ('London', 'Birmingham'), ('London', 'Leeds'), ('London', 'Glasgow'), ('Manchester', 'Birmingham'), ('Manchester', 'Leeds'), ('Manchester', 'Glasgow'), ('Birmingham', 'Leeds'), ('Birmingham', 'Glasgow'), ('Leeds', 'Glasgow')])"
      ]
     },
     "execution_count": 122,
     "metadata": {},
     "output_type": "execute_result"
    }
   ],
   "source": [
    "G.edges()"
   ]
  },
  {
   "cell_type": "code",
   "execution_count": 123,
   "id": "7fc62858",
   "metadata": {
    "tags": []
   },
   "outputs": [
    {
     "data": {
      "text/plain": [
       "AtlasView({'London': {'weight': 262}, 'Birmingham': {'weight': 113}, 'Leeds': {'weight': 59}, 'Glasgow': {'weight': 295}})"
      ]
     },
     "execution_count": 123,
     "metadata": {},
     "output_type": "execute_result"
    }
   ],
   "source": [
    "G['Manchester']"
   ]
  },
  {
   "cell_type": "code",
   "execution_count": 91,
   "id": "f7020759-6980-491c-8f65-1703f94cc91e",
   "metadata": {
    "tags": []
   },
   "outputs": [],
   "source": [
    "# ring topology\n",
    "G.remove_edge('Leeds','Manchester')\n",
    "G.remove_edge('Leeds','Birmingham')\n",
    "G.remove_edge('Manchester','London')\n",
    "G.remove_edge('Birmingham','Glasgow')\n",
    "G.remove_edge('London','Glasgow')"
   ]
  },
  {
   "cell_type": "code",
   "execution_count": 124,
   "id": "8d8409ec",
   "metadata": {
    "tags": []
   },
   "outputs": [
    {
     "data": {
      "image/png": "[encoded data removed]",
      "text/plain": [
       "<Figure size 432x288 with 1 Axes>"
      ]
     },
     "metadata": {},
     "output_type": "display_data"
    }
   ],
   "source": [
    "# nx.draw(G, pos=nx.circular_layout(G))\n",
    "# nx.draw_networkx_labels(G,pos=nx.circular_layout(G))\n",
    "# nx.draw_networkx_edge_labels(G,pos=nx.circular_layout(G)) \n",
    "nx.draw(G, nx.get_node_attributes(G, 'pos'), with_labels=True, node_size=0)"
   ]
  },
  {
   "cell_type": "code",
   "execution_count": 125,
   "id": "79866967",
   "metadata": {
    "tags": []
   },
   "outputs": [],
   "source": [
    "# develop a method to drop them out one by one in a loop through all possibilities and then pairwise and so \n",
    "# on until 5 at a time (max)\n",
    "\n",
    "# for i in Cities:\n",
    "#     for j in G.neighbors(i):\n",
    "#         G.remove_edge(i,j)\n",
    "#         # recalulate()\n",
    "#         G.add_weighted_edges_from([(i,j,cities_dict[i][j])])\n",
    "\n",
    "# calculate all 2-pairs of edges and then remove them, same with 3, 4 and 5s\n",
    "# 1. list edges 2. pair up in a list"
   ]
  },
  {
   "cell_type": "code",
   "execution_count": 126,
   "id": "ce4a5b97",
   "metadata": {
    "tags": []
   },
   "outputs": [
    {
     "name": "stdout",
     "output_type": "stream",
     "text": [
      "Diameter (shortest path between the most distanced nodes):  555\n",
      "Eccentricity (largest distance from a node to any other node):  {'London': 555, 'Manchester': 295, 'Birmingham': 407, 'Leeds': 288, 'Glasgow': 555}\n",
      "Average shortest path length is:  1.0\n",
      "Link distances are:  [262, 162, 272, 555, 113, 59, 295, 148, 407, 288]\n",
      "Of which average, $d$, is:  256.1\n",
      "So place $m$ amplifiers if link longer than $m \\cdot d/2$, i.e. eq m \\cdot$ 128.05\n",
      "Also this allows for compensation of the total loss along the previous span (~113*0.18=20.34), has to be attenuated\n",
      "Total fibre deployed (2x link length) in km 5122\n",
      "{('London', 'Manchester'): 2, ('Manchester', 'London'): 2, ('London', 'Birmingham'): 1, ('Birmingham', 'London'): 1, ('London', 'Leeds'): 2, ('Leeds', 'London'): 2, ('London', 'Glasgow'): 4, ('Glasgow', 'London'): 4, ('Manchester', 'Birmingham'): 0, ('Birmingham', 'Manchester'): 0, ('Manchester', 'Leeds'): 0, ('Leeds', 'Manchester'): 0, ('Manchester', 'Glasgow'): 2, ('Glasgow', 'Manchester'): 2, ('Birmingham', 'Leeds'): 1, ('Leeds', 'Birmingham'): 1, ('Birmingham', 'Glasgow'): 3, ('Glasgow', 'Birmingham'): 3, ('Leeds', 'Glasgow'): 2, ('Glasgow', 'Leeds'): 2}\n"
     ]
    }
   ],
   "source": [
    "# calculate values:\n",
    "\n",
    "# 1) shortest path between any two nodes\n",
    "path_lengths = dict(nx.all_pairs_dijkstra_path_length(G))\n",
    "paths = dict(nx.all_pairs_dijkstra_path(G))\n",
    "adjacency = nx.to_pandas_adjacency(G)\n",
    "\n",
    "link_capacities = adjacency.copy()\n",
    "for col in link_capacities.columns:\n",
    "    link_capacities[col].values[:] = 0\n",
    "\n",
    "# 1.5 put traffic numbers (divided by 2 as each link has forward and back connections) \n",
    "# on each edge to show total capacity on each link -- here we assume all is going down shortest paths\n",
    "\n",
    "for i in list(paths.keys()):\n",
    "    for j in list(paths[i].keys()):\n",
    "        # print(f'The shortest connection between {i} and {j} is', paths[i][j], 'with length', path_lengths[i][j])\n",
    "        # add the traffic for i,j onto each segment from paths[i],[j] in link capacities\n",
    "        if len(paths[i][j]) < 2:\n",
    "            link_capacities[i][j] += traffic_df[i][j]\n",
    "        else:\n",
    "            for e in paths[i][j]:\n",
    "                if e != paths[i][j][-1]:\n",
    "                    link_capacities[e][paths[i][j][paths[i][j].index(e)+1]] += traffic_df[i][j]\n",
    "        \n",
    "# dataframes of shortest path and their lengths\n",
    "paths_df = pd.DataFrame(paths)\n",
    "path_lengths_df = pd.DataFrame(path_lengths)\n",
    "\n",
    "\n",
    "\n",
    "# 2) decide amplifier locations - these should be roughly equally spaced, calc mean and longest paths\n",
    "# above a certain loss value (?) so length need an amplifier, above another - two amplifiers\n",
    "shortest1 = nx.shortest_path_length(G, weight=\"weight\")\n",
    "ecc = nx.eccentricity(G, sp=dict(shortest1))\n",
    "diam = nx.diameter(G, e=ecc)\n",
    "print('Diameter (shortest path between the most distanced nodes): ', diam)\n",
    "print('Eccentricity (largest distance from a node to any other node): ', ecc)\n",
    "print('Average shortest path length is: ', nx.average_shortest_path_length(G))\n",
    "edge_weight_list = [G[u][v]['weight'] for (u,v) in G.edges()]\n",
    "mean = stat.mean(edge_weight_list)\n",
    "print('Link distances are: ', edge_weight_list)\n",
    "print('Of which average, $d$, is: ', mean)\n",
    "print('So place $m$ amplifiers if link longer than $m \\cdot d/2$, i.e. $\\beq m \\cdot$', mean/2)\n",
    "print('Also this allows for compensation of the total loss along the previous span (~113*0.18=20.34), has to be attenuated')\n",
    "print('Total fibre deployed (2x link length) in km', 2*sum(edge_weight_list))\n",
    "\n",
    "# dict of amplifiers per edge; think of better choosing amplifier locations\n",
    "amplifiers = {}\n",
    "for i in G.edges():\n",
    "    m = math.floor(G[i[0]][i[1]]['weight']*2/mean)\n",
    "    j = (i[1],i[0])\n",
    "    amplifiers[i] = m\n",
    "    amplifiers[j] = m\n",
    "print(amplifiers)"
   ]
  },
  {
   "cell_type": "code",
   "execution_count": 231,
   "id": "e0673e73-edd4-460e-9905-4686186df6ce",
   "metadata": {
    "tags": []
   },
   "outputs": [
    {
     "data": {
      "image/png": "[encoded data removed]",
      "text/plain": [
       "<Figure size 720x648 with 2 Axes>"
      ]
     },
     "metadata": {
      "needs_background": "light"
     },
     "output_type": "display_data"
    }
   ],
   "source": [
    "edge_labels = {(u,v):link_capacities[u][v] for (u,v) in G.edges()}\n",
    "plt.figure(figsize = (10,9))\n",
    "m = Basemap(\n",
    "         projection='merc',\n",
    "         llcrnrlon=-6, # -5\n",
    "         llcrnrlat=51, # 50\n",
    "         urcrnrlon=2, # 5\n",
    "         urcrnrlat=56, # 60\n",
    "         resolution='l',\n",
    "         suppress_ticks=True)\n",
    "pos = {}\n",
    "for i in range(len(Cities)):\n",
    "    pos[Cities[i]] = m(Positions[i][0], Positions[i][1])\n",
    "nx.draw_networkx_nodes(G, pos = pos, node_color = 'r', alpha = 0.8, node_size = 100)\n",
    "Edges = nx.draw_networkx_edges(G, pos = pos, edge_color=edge_labels.values(), alpha=0.8, edge_cmap=plt.cm.plasma, width=10)\n",
    "# nx.draw_networkx_edge_labels(G, pos,edge_labels=edge_labels,label_pos=0.4,font_color='black',font_size=8)#, font_weight='bold')\n",
    "nx.draw_networkx_labels(G, pos, font_size=12)#, font_weight='bold')\n",
    "m.drawcountries(linewidth=1)\n",
    "m.drawcoastlines(linewidth=1)\n",
    "\n",
    "# add a colorbar \n",
    "# add a legend with the edge labels\n",
    "\n",
    "# def make_proxy(clr, mappable, **kwargs):\n",
    "#     return Line2D([0, 1], [0, 1], color=clr, **kwargs)\n",
    "# # generate proxies with the above function\n",
    "# proxies = [make_proxy(clr, h2, lw=5) for clr in clrs]\n",
    "# # and some text for the legend -- you should use something from df.\n",
    "labels = [\"{}->{}\".format(fr, to) for (fr, to) in G.edges()]\n",
    "text = [f'{i}: {j}%' for i,j in zip(labels,edge_labels.values())]\n",
    "# labels = [\"{}<->{}\".format(i[0], i[1]) for i in edge_labels.keys()]\n",
    "# plt.legend(labels=edge_labels.values(), handles=labels)\n",
    "\n",
    "#from matplotlib.offsetbox import AnchoredText\n",
    "# anchored_text = [AnchoredText(i+f' {j}', loc=2) for i,j in zip(labels,edge_labels.values())]\n",
    "# ax.add_artist(anchored_text)\n",
    "plt.text(690000, 780000, \"\\n\".join(text), ha='center', va='center', bbox=dict(facecolor='white', alpha=0.7), fontsize=12)\n",
    "plt.colorbar(Edges)\n",
    "plt.savefig('Ring.png')\n",
    "plt.show()"
   ]
  },
  {
   "cell_type": "code",
   "execution_count": 151,
   "id": "cb120219-dc4c-4b23-8f7b-5a9cb34b4ad1",
   "metadata": {
    "tags": []
   },
   "outputs": [
    {
     "name": "stdout",
     "output_type": "stream",
     "text": [
      "[12. 12.  8.  7.  3.  2.  2.  2.  1.  1.]\n"
     ]
    }
   ],
   "source": [
    "print(np.array(list(edge_labels.values())))"
   ]
  },
  {
   "cell_type": "markdown",
   "id": "86b3c9eb-418a-410b-aa0b-7951dd9a2630",
   "metadata": {},
   "source": [
    "Note: check if chromatic dispersion causing pulse broadening limits data rate. We have 100GHz spacing=2997924.58 nm\n",
    "17 ps/nm/km so for 560km we have: 9520 ps/nm"
   ]
  },
  {
   "cell_type": "code",
   "execution_count": 64,
   "id": "903835fb-4f79-42e5-a367-ddf231fadba8",
   "metadata": {
    "tags": []
   },
   "outputs": [
    {
     "data": {
      "text/html": [
       "<div>\n",
       "<style scoped>\n",
       "    .dataframe tbody tr th:only-of-type {\n",
       "        vertical-align: middle;\n",
       "    }\n",
       "\n",
       "    .dataframe tbody tr th {\n",
       "        vertical-align: top;\n",
       "    }\n",
       "\n",
       "    .dataframe thead th {\n",
       "        text-align: right;\n",
       "    }\n",
       "</style>\n",
       "<table border=\"1\" class=\"dataframe\">\n",
       "  <thead>\n",
       "    <tr style=\"text-align: right;\">\n",
       "      <th></th>\n",
       "      <th>London</th>\n",
       "      <th>Manchester</th>\n",
       "      <th>Birmingham</th>\n",
       "      <th>Leeds</th>\n",
       "      <th>Glasgow</th>\n",
       "    </tr>\n",
       "  </thead>\n",
       "  <tbody>\n",
       "    <tr>\n",
       "      <th>London</th>\n",
       "      <td>0.0</td>\n",
       "      <td>12.0</td>\n",
       "      <td>12.0</td>\n",
       "      <td>8.0</td>\n",
       "      <td>7.0</td>\n",
       "    </tr>\n",
       "    <tr>\n",
       "      <th>Manchester</th>\n",
       "      <td>12.0</td>\n",
       "      <td>0.0</td>\n",
       "      <td>3.0</td>\n",
       "      <td>2.0</td>\n",
       "      <td>2.0</td>\n",
       "    </tr>\n",
       "    <tr>\n",
       "      <th>Birmingham</th>\n",
       "      <td>12.0</td>\n",
       "      <td>3.0</td>\n",
       "      <td>0.0</td>\n",
       "      <td>2.0</td>\n",
       "      <td>1.0</td>\n",
       "    </tr>\n",
       "    <tr>\n",
       "      <th>Leeds</th>\n",
       "      <td>8.0</td>\n",
       "      <td>2.0</td>\n",
       "      <td>2.0</td>\n",
       "      <td>0.0</td>\n",
       "      <td>1.0</td>\n",
       "    </tr>\n",
       "    <tr>\n",
       "      <th>Glasgow</th>\n",
       "      <td>7.0</td>\n",
       "      <td>2.0</td>\n",
       "      <td>1.0</td>\n",
       "      <td>1.0</td>\n",
       "      <td>0.0</td>\n",
       "    </tr>\n",
       "  </tbody>\n",
       "</table>\n",
       "</div>"
      ],
      "text/plain": [
       "            London  Manchester  Birmingham  Leeds  Glasgow\n",
       "London         0.0        12.0        12.0    8.0      7.0\n",
       "Manchester    12.0         0.0         3.0    2.0      2.0\n",
       "Birmingham    12.0         3.0         0.0    2.0      1.0\n",
       "Leeds          8.0         2.0         2.0    0.0      1.0\n",
       "Glasgow        7.0         2.0         1.0    1.0      0.0"
      ]
     },
     "execution_count": 64,
     "metadata": {},
     "output_type": "execute_result"
    }
   ],
   "source": [
    "link_capacities"
   ]
  },
  {
   "cell_type": "code",
   "execution_count": 65,
   "id": "d8bf6cff-d83e-4d0c-8b52-a08d43b337e5",
   "metadata": {
    "tags": []
   },
   "outputs": [
    {
     "data": {
      "text/html": [
       "<div>\n",
       "<style scoped>\n",
       "    .dataframe tbody tr th:only-of-type {\n",
       "        vertical-align: middle;\n",
       "    }\n",
       "\n",
       "    .dataframe tbody tr th {\n",
       "        vertical-align: top;\n",
       "    }\n",
       "\n",
       "    .dataframe thead th {\n",
       "        text-align: right;\n",
       "    }\n",
       "</style>\n",
       "<table border=\"1\" class=\"dataframe\">\n",
       "  <thead>\n",
       "    <tr style=\"text-align: right;\">\n",
       "      <th></th>\n",
       "      <th>London</th>\n",
       "      <th>Manchester</th>\n",
       "      <th>Birmingham</th>\n",
       "      <th>Leeds</th>\n",
       "      <th>Glasgow</th>\n",
       "    </tr>\n",
       "  </thead>\n",
       "  <tbody>\n",
       "    <tr>\n",
       "      <th>London</th>\n",
       "      <td>[London]</td>\n",
       "      <td>[Manchester, London]</td>\n",
       "      <td>[Birmingham, London]</td>\n",
       "      <td>[Leeds, London]</td>\n",
       "      <td>[Glasgow, London]</td>\n",
       "    </tr>\n",
       "    <tr>\n",
       "      <th>Manchester</th>\n",
       "      <td>[London, Manchester]</td>\n",
       "      <td>[Manchester]</td>\n",
       "      <td>[Birmingham, Manchester]</td>\n",
       "      <td>[Leeds, Manchester]</td>\n",
       "      <td>[Glasgow, Manchester]</td>\n",
       "    </tr>\n",
       "    <tr>\n",
       "      <th>Birmingham</th>\n",
       "      <td>[London, Birmingham]</td>\n",
       "      <td>[Manchester, Birmingham]</td>\n",
       "      <td>[Birmingham]</td>\n",
       "      <td>[Leeds, Birmingham]</td>\n",
       "      <td>[Glasgow, Birmingham]</td>\n",
       "    </tr>\n",
       "    <tr>\n",
       "      <th>Leeds</th>\n",
       "      <td>[London, Leeds]</td>\n",
       "      <td>[Manchester, Leeds]</td>\n",
       "      <td>[Birmingham, Leeds]</td>\n",
       "      <td>[Leeds]</td>\n",
       "      <td>[Glasgow, Leeds]</td>\n",
       "    </tr>\n",
       "    <tr>\n",
       "      <th>Glasgow</th>\n",
       "      <td>[London, Glasgow]</td>\n",
       "      <td>[Manchester, Glasgow]</td>\n",
       "      <td>[Birmingham, Glasgow]</td>\n",
       "      <td>[Leeds, Glasgow]</td>\n",
       "      <td>[Glasgow]</td>\n",
       "    </tr>\n",
       "  </tbody>\n",
       "</table>\n",
       "</div>"
      ],
      "text/plain": [
       "                          London                Manchester  \\\n",
       "London                  [London]      [Manchester, London]   \n",
       "Manchester  [London, Manchester]              [Manchester]   \n",
       "Birmingham  [London, Birmingham]  [Manchester, Birmingham]   \n",
       "Leeds            [London, Leeds]       [Manchester, Leeds]   \n",
       "Glasgow        [London, Glasgow]     [Manchester, Glasgow]   \n",
       "\n",
       "                          Birmingham                Leeds  \\\n",
       "London          [Birmingham, London]      [Leeds, London]   \n",
       "Manchester  [Birmingham, Manchester]  [Leeds, Manchester]   \n",
       "Birmingham              [Birmingham]  [Leeds, Birmingham]   \n",
       "Leeds            [Birmingham, Leeds]              [Leeds]   \n",
       "Glasgow        [Birmingham, Glasgow]     [Leeds, Glasgow]   \n",
       "\n",
       "                          Glasgow  \n",
       "London          [Glasgow, London]  \n",
       "Manchester  [Glasgow, Manchester]  \n",
       "Birmingham  [Glasgow, Birmingham]  \n",
       "Leeds            [Glasgow, Leeds]  \n",
       "Glasgow                 [Glasgow]  "
      ]
     },
     "execution_count": 65,
     "metadata": {},
     "output_type": "execute_result"
    }
   ],
   "source": [
    "paths_df"
   ]
  },
  {
   "cell_type": "code",
   "execution_count": 43,
   "id": "17c267ba-beca-4fdf-87e0-a9b216ff52c8",
   "metadata": {
    "tags": []
   },
   "outputs": [
    {
     "data": {
      "text/html": [
       "<div>\n",
       "<style scoped>\n",
       "    .dataframe tbody tr th:only-of-type {\n",
       "        vertical-align: middle;\n",
       "    }\n",
       "\n",
       "    .dataframe tbody tr th {\n",
       "        vertical-align: top;\n",
       "    }\n",
       "\n",
       "    .dataframe thead th {\n",
       "        text-align: right;\n",
       "    }\n",
       "</style>\n",
       "<table border=\"1\" class=\"dataframe\">\n",
       "  <thead>\n",
       "    <tr style=\"text-align: right;\">\n",
       "      <th></th>\n",
       "      <th>London</th>\n",
       "      <th>Manchester</th>\n",
       "      <th>Birmingham</th>\n",
       "      <th>Leeds</th>\n",
       "      <th>Glasgow</th>\n",
       "    </tr>\n",
       "  </thead>\n",
       "  <tbody>\n",
       "    <tr>\n",
       "      <th>London</th>\n",
       "      <td>0</td>\n",
       "      <td>275</td>\n",
       "      <td>162</td>\n",
       "      <td>272</td>\n",
       "      <td>560</td>\n",
       "    </tr>\n",
       "    <tr>\n",
       "      <th>Birmingham</th>\n",
       "      <td>162</td>\n",
       "      <td>113</td>\n",
       "      <td>0</td>\n",
       "      <td>434</td>\n",
       "      <td>408</td>\n",
       "    </tr>\n",
       "    <tr>\n",
       "      <th>Leeds</th>\n",
       "      <td>272</td>\n",
       "      <td>547</td>\n",
       "      <td>434</td>\n",
       "      <td>0</td>\n",
       "      <td>288</td>\n",
       "    </tr>\n",
       "    <tr>\n",
       "      <th>Manchester</th>\n",
       "      <td>275</td>\n",
       "      <td>0</td>\n",
       "      <td>113</td>\n",
       "      <td>547</td>\n",
       "      <td>295</td>\n",
       "    </tr>\n",
       "    <tr>\n",
       "      <th>Glasgow</th>\n",
       "      <td>560</td>\n",
       "      <td>295</td>\n",
       "      <td>408</td>\n",
       "      <td>288</td>\n",
       "      <td>0</td>\n",
       "    </tr>\n",
       "  </tbody>\n",
       "</table>\n",
       "</div>"
      ],
      "text/plain": [
       "            London  Manchester  Birmingham  Leeds  Glasgow\n",
       "London           0         275         162    272      560\n",
       "Birmingham     162         113           0    434      408\n",
       "Leeds          272         547         434      0      288\n",
       "Manchester     275           0         113    547      295\n",
       "Glasgow        560         295         408    288        0"
      ]
     },
     "execution_count": 43,
     "metadata": {},
     "output_type": "execute_result"
    }
   ],
   "source": [
    "path_lengths_df"
   ]
  },
  {
   "cell_type": "code",
   "execution_count": 44,
   "id": "8d97452f-d262-4282-bea1-8cce9c477b91",
   "metadata": {
    "tags": []
   },
   "outputs": [
    {
     "data": {
      "text/html": [
       "<div>\n",
       "<style scoped>\n",
       "    .dataframe tbody tr th:only-of-type {\n",
       "        vertical-align: middle;\n",
       "    }\n",
       "\n",
       "    .dataframe tbody tr th {\n",
       "        vertical-align: top;\n",
       "    }\n",
       "\n",
       "    .dataframe thead th {\n",
       "        text-align: right;\n",
       "    }\n",
       "</style>\n",
       "<table border=\"1\" class=\"dataframe\">\n",
       "  <thead>\n",
       "    <tr style=\"text-align: right;\">\n",
       "      <th></th>\n",
       "      <th>London</th>\n",
       "      <th>Manchester</th>\n",
       "      <th>Birmingham</th>\n",
       "      <th>Leeds</th>\n",
       "      <th>Glasgow</th>\n",
       "    </tr>\n",
       "  </thead>\n",
       "  <tbody>\n",
       "    <tr>\n",
       "      <th>London</th>\n",
       "      <td>0.0</td>\n",
       "      <td>0.0</td>\n",
       "      <td>162.0</td>\n",
       "      <td>272.0</td>\n",
       "      <td>0.0</td>\n",
       "    </tr>\n",
       "    <tr>\n",
       "      <th>Manchester</th>\n",
       "      <td>0.0</td>\n",
       "      <td>0.0</td>\n",
       "      <td>113.0</td>\n",
       "      <td>0.0</td>\n",
       "      <td>295.0</td>\n",
       "    </tr>\n",
       "    <tr>\n",
       "      <th>Birmingham</th>\n",
       "      <td>162.0</td>\n",
       "      <td>113.0</td>\n",
       "      <td>0.0</td>\n",
       "      <td>0.0</td>\n",
       "      <td>0.0</td>\n",
       "    </tr>\n",
       "    <tr>\n",
       "      <th>Leeds</th>\n",
       "      <td>272.0</td>\n",
       "      <td>0.0</td>\n",
       "      <td>0.0</td>\n",
       "      <td>0.0</td>\n",
       "      <td>288.0</td>\n",
       "    </tr>\n",
       "    <tr>\n",
       "      <th>Glasgow</th>\n",
       "      <td>0.0</td>\n",
       "      <td>295.0</td>\n",
       "      <td>0.0</td>\n",
       "      <td>288.0</td>\n",
       "      <td>0.0</td>\n",
       "    </tr>\n",
       "  </tbody>\n",
       "</table>\n",
       "</div>"
      ],
      "text/plain": [
       "            London  Manchester  Birmingham  Leeds  Glasgow\n",
       "London         0.0         0.0       162.0  272.0      0.0\n",
       "Manchester     0.0         0.0       113.0    0.0    295.0\n",
       "Birmingham   162.0       113.0         0.0    0.0      0.0\n",
       "Leeds        272.0         0.0         0.0    0.0    288.0\n",
       "Glasgow        0.0       295.0         0.0  288.0      0.0"
      ]
     },
     "execution_count": 44,
     "metadata": {},
     "output_type": "execute_result"
    }
   ],
   "source": [
    "adjacency"
   ]
  },
  {
   "cell_type": "code",
   "execution_count": 45,
   "id": "b5f6cff5-9039-4ed3-aaee-584da1bda905",
   "metadata": {
    "tags": []
   },
   "outputs": [],
   "source": [
    "# for optimum launch power noise is increased by 50% so SNR reduced by 10*np.log10(3/2)\n",
    "# assuming 10^(aL/10) >> 1:\n",
    "def SNR(P_tx, L, NF, Ns=1, v = 193.1e12, Rs=95e9):\n",
    "    a = 0.18\n",
    "    h = scp.h\n",
    "    SNR_db = P_tx - NF -10*np.log10(Ns) - a*L - 10*np.log10(1.5*Rs*h*v*1e3) # P_tx in dbm so 1e3 included\n",
    "    return SNR_db\n",
    "\n",
    "# convert to NSR and linear for easy addition and then abck to SNR in dB (1/NSR)\n",
    "def SNR_out_EDFA(SNR_in, NF=5.5):\n",
    "    F = 10**(NF/10) # this is a linear value, SNR_in is in dB\n",
    "    SNR_lin = 10**(SNR_in/10)    \n",
    "    return 10*np.log10(SNR_lin/F) # this should be done in the linear domain\n",
    "\n",
    "def SNRdb_to_NSRdb(SNRdb):\n",
    "    return -SNRdb\n",
    "\n",
    "def NSRdb_to_lin(NSR_db):\n",
    "    return 10**(NSR_db/10)\n",
    "\n",
    "def NSRlin_to_db(NSR_lin):\n",
    "    return 10*np.log10(NSR_lin)"
   ]
  },
  {
   "cell_type": "code",
   "execution_count": 46,
   "id": "c24c2eff-7bc2-4716-8d14-18ab6d9228c3",
   "metadata": {},
   "outputs": [
    {
     "name": "stderr",
     "output_type": "stream",
     "text": [
      "/tmp/ipykernel_62723/2596666081.py:22: RuntimeWarning: divide by zero encountered in log10\n",
      "  return 10*np.log10(NSR_lin)\n"
     ]
    }
   ],
   "source": [
    "# calculate SNR for each node pair without amplifiers first\n",
    "# place the amplifiers - produce a new graph, which is G with added amplifiers as nodes?\n",
    "# for now just execute the calculation, placing the amplifiers at equal distances according to the list\n",
    "\n",
    "connection_SNRs = adjacency.copy()\n",
    "for col in connection_SNRs.columns:\n",
    "    connection_SNRs[col].values[:] = 0\n",
    "\n",
    "connection_loss = adjacency.copy()\n",
    "for col in connection_loss.columns:\n",
    "    connection_loss[col].values[:] = 0\n",
    "\n",
    "for i in list(paths.keys()):\n",
    "    for j in list(paths[i].keys()):\n",
    "        total_NSR = 0\n",
    "        total_loss = 0\n",
    "        if len(paths[i][j]) >= 2:\n",
    "            for e in paths[i][j]:\n",
    "                total_loss += 4 # ROADM\n",
    "                if e != paths[i][j][-1]:\n",
    "                    # check how many spans and then total NSR = sum of spans (span+amplifier)\n",
    "                    n = amplifiers[(e,paths[i][j][paths[i][j].index(e)+1])]\n",
    "                    L = G[e][paths[i][j][paths[i][j].index(e)+1]]['weight'] # weigth of the connection\n",
    "                    L_span = L/(n+1)\n",
    "                    P = 2.6 # out of transceiver, will it be the same after amplifier?\n",
    "                    NF = 5.5 # is this just the amplifier? same for transceiver? why does it apply there?\n",
    "                    SNR_in_EDFA = SNR(P_tx=P, L=L_span, NF=NF) # this is only calculated once and then propagated\n",
    "                    # print(SNR_in_EDFA)\n",
    "                    for x in range(n+1): \n",
    "                        total_NSR += NSRdb_to_lin(SNRdb_to_NSRdb(SNR_in_EDFA)) # fibre (NLI)\n",
    "                        # print(total_NSR)\n",
    "                        total_NSR += NSRdb_to_lin(SNRdb_to_NSRdb(SNR_out_EDFA(SNR_in_EDFA))) # amplifier (ASE)\n",
    "                        # print(total_NSR)\n",
    "                    total_loss += 0.18*L\n",
    "                    total_loss -= 26*n # gain_of_amplifiers\n",
    "                    if e == paths[i][j][-2]:\n",
    "                        # if last segment of the path, subtract the amplification at the end as it will just be received\n",
    "                        total_NSR -= NSRdb_to_lin(SNRdb_to_NSRdb(SNR_out_EDFA(SNR_in_EDFA))) # amplifier\n",
    "        # print(f'Connection {i,j} NSR', total_NSR)\n",
    "        # print('Converted to db', NSRlin_to_db(total_NSR))\n",
    "        connection_SNRs[i][j] = SNRdb_to_NSRdb(NSRlin_to_db(total_NSR))\n",
    "        connection_loss[i][j] = total_loss"
   ]
  },
  {
   "cell_type": "code",
   "execution_count": 47,
   "id": "276d957e-db20-43de-80ff-8773b2402cba",
   "metadata": {
    "tags": []
   },
   "outputs": [
    {
     "data": {
      "text/html": [
       "<div>\n",
       "<style scoped>\n",
       "    .dataframe tbody tr th:only-of-type {\n",
       "        vertical-align: middle;\n",
       "    }\n",
       "\n",
       "    .dataframe tbody tr th {\n",
       "        vertical-align: top;\n",
       "    }\n",
       "\n",
       "    .dataframe thead th {\n",
       "        text-align: right;\n",
       "    }\n",
       "</style>\n",
       "<table border=\"1\" class=\"dataframe\">\n",
       "  <thead>\n",
       "    <tr style=\"text-align: right;\">\n",
       "      <th></th>\n",
       "      <th>London</th>\n",
       "      <th>Manchester</th>\n",
       "      <th>Birmingham</th>\n",
       "      <th>Leeds</th>\n",
       "      <th>Glasgow</th>\n",
       "    </tr>\n",
       "  </thead>\n",
       "  <tbody>\n",
       "    <tr>\n",
       "      <th>London</th>\n",
       "      <td>inf</td>\n",
       "      <td>20.445377</td>\n",
       "      <td>22.469999</td>\n",
       "      <td>18.129860</td>\n",
       "      <td>13.839201</td>\n",
       "    </tr>\n",
       "    <tr>\n",
       "      <th>Manchester</th>\n",
       "      <td>19.455876</td>\n",
       "      <td>inf</td>\n",
       "      <td>26.879999</td>\n",
       "      <td>14.931904</td>\n",
       "      <td>16.749860</td>\n",
       "    </tr>\n",
       "    <tr>\n",
       "      <th>Birmingham</th>\n",
       "      <td>22.469999</td>\n",
       "      <td>26.879999</td>\n",
       "      <td>inf</td>\n",
       "      <td>15.775718</td>\n",
       "      <td>15.140740</td>\n",
       "    </tr>\n",
       "    <tr>\n",
       "      <th>Leeds</th>\n",
       "      <td>18.129860</td>\n",
       "      <td>15.523992</td>\n",
       "      <td>16.079076</td>\n",
       "      <td>inf</td>\n",
       "      <td>17.169860</td>\n",
       "    </tr>\n",
       "    <tr>\n",
       "      <th>Glasgow</th>\n",
       "      <td>13.982108</td>\n",
       "      <td>16.749860</td>\n",
       "      <td>16.108606</td>\n",
       "      <td>17.169860</td>\n",
       "      <td>inf</td>\n",
       "    </tr>\n",
       "  </tbody>\n",
       "</table>\n",
       "</div>"
      ],
      "text/plain": [
       "               London  Manchester  Birmingham      Leeds    Glasgow\n",
       "London            inf   20.445377   22.469999  18.129860  13.839201\n",
       "Manchester  19.455876         inf   26.879999  14.931904  16.749860\n",
       "Birmingham  22.469999   26.879999         inf  15.775718  15.140740\n",
       "Leeds       18.129860   15.523992   16.079076        inf  17.169860\n",
       "Glasgow     13.982108   16.749860   16.108606  17.169860        inf"
      ]
     },
     "execution_count": 47,
     "metadata": {},
     "output_type": "execute_result"
    }
   ],
   "source": [
    "connection_SNRs"
   ]
  },
  {
   "cell_type": "code",
   "execution_count": 48,
   "id": "c3ba79e4-73f7-4779-bb75-1707f6a0f287",
   "metadata": {
    "tags": []
   },
   "outputs": [
    {
     "data": {
      "text/html": [
       "<div>\n",
       "<style scoped>\n",
       "    .dataframe tbody tr th:only-of-type {\n",
       "        vertical-align: middle;\n",
       "    }\n",
       "\n",
       "    .dataframe tbody tr th {\n",
       "        vertical-align: top;\n",
       "    }\n",
       "\n",
       "    .dataframe thead th {\n",
       "        text-align: right;\n",
       "    }\n",
       "</style>\n",
       "<table border=\"1\" class=\"dataframe\">\n",
       "  <thead>\n",
       "    <tr style=\"text-align: right;\">\n",
       "      <th></th>\n",
       "      <th>London</th>\n",
       "      <th>Manchester</th>\n",
       "      <th>Birmingham</th>\n",
       "      <th>Leeds</th>\n",
       "      <th>Glasgow</th>\n",
       "    </tr>\n",
       "  </thead>\n",
       "  <tbody>\n",
       "    <tr>\n",
       "      <th>London</th>\n",
       "      <td>0.00</td>\n",
       "      <td>9.50</td>\n",
       "      <td>11.16</td>\n",
       "      <td>4.96</td>\n",
       "      <td>8.80</td>\n",
       "    </tr>\n",
       "    <tr>\n",
       "      <th>Manchester</th>\n",
       "      <td>9.50</td>\n",
       "      <td>0.00</td>\n",
       "      <td>2.34</td>\n",
       "      <td>10.46</td>\n",
       "      <td>9.10</td>\n",
       "    </tr>\n",
       "    <tr>\n",
       "      <th>Birmingham</th>\n",
       "      <td>11.16</td>\n",
       "      <td>2.34</td>\n",
       "      <td>0.00</td>\n",
       "      <td>12.12</td>\n",
       "      <td>7.44</td>\n",
       "    </tr>\n",
       "    <tr>\n",
       "      <th>Leeds</th>\n",
       "      <td>4.96</td>\n",
       "      <td>10.46</td>\n",
       "      <td>12.12</td>\n",
       "      <td>0.00</td>\n",
       "      <td>7.84</td>\n",
       "    </tr>\n",
       "    <tr>\n",
       "      <th>Glasgow</th>\n",
       "      <td>8.80</td>\n",
       "      <td>9.10</td>\n",
       "      <td>7.44</td>\n",
       "      <td>7.84</td>\n",
       "      <td>0.00</td>\n",
       "    </tr>\n",
       "  </tbody>\n",
       "</table>\n",
       "</div>"
      ],
      "text/plain": [
       "            London  Manchester  Birmingham  Leeds  Glasgow\n",
       "London        0.00        9.50       11.16   4.96     8.80\n",
       "Manchester    9.50        0.00        2.34  10.46     9.10\n",
       "Birmingham   11.16        2.34        0.00  12.12     7.44\n",
       "Leeds         4.96       10.46       12.12   0.00     7.84\n",
       "Glasgow       8.80        9.10        7.44   7.84     0.00"
      ]
     },
     "execution_count": 48,
     "metadata": {},
     "output_type": "execute_result"
    }
   ],
   "source": [
    "connection_loss"
   ]
  },
  {
   "cell_type": "markdown",
   "id": "9d01c96d-b11a-4fc1-a1ba-f1f159d1a3ea",
   "metadata": {},
   "source": [
    "Notes:\n",
    "\n",
    "1. The NLI is associated with a particular span so you use the effective length associated with that particular span. Once you have calculated the NLI and ASE you can calculate the NSR for a span (and then sum these along a path through the network)\n",
    "\n",
    "2. Symbol rate doesn't change with number of channels but the total modulated optical bandwidth Bo that determines the NLI does. However from a design perspective since Bo is inside the logarithm the effect is reduced so for a conservative design you can assume Bo is the total possible modulated optical bandwidth corresponding to the bandwidth of the EDFA. As such to determine the SNR (or NSR) I would calculate both ASE and NLI assuming Bo is the bandwidth of the optical amplifier (e.g. about 4.5 THz).\n",
    "\n",
    "3. If the optimum PSD is  0.0192pJ = 0.0192 mW/GHz and the symbol rate is 95 GBd (occupying 95 GHz) then the optical power in 95 GHz is 95x0.0192=1.824 mW which converting to dBm gives 10log10(1.824)=2.6 dBm \n",
    "\n",
    "4. The gains are the nominal gains G_0 measured in dB. Typically this is an issue for a large output power (corresponding to many WDM channels). For example EDFA 2 has gain 23 dB and saturated output power of +17 dBm. This means when the output power is +17 dBm the gain will have reduced by 3 dBm (N.B. as detailed in the notes P_sat and saturated output power are slightly different). To give you an idea why this is important if you were using all 45 channels then the maximum launch power per channel would be +17 dBm - 10log10(45)= 0.5 dBm (and the gain of the amplifier would reduce to 20 dB)\n",
    "\n",
    "5. every time the signal goes through a ROADM it incurs a loss of 4 dB.\n",
    "\n",
    "6. From London to Birmingham the fibre loss is 162x0.18=29.16 dB but there will also be 4 dB loss from the ROADM at each node. You need to think carefully as to whether you are amplifying before the ROADM or after the ROADM to determine the effect of the loss...\n",
    "\n",
    "7. You might have an amplifier after the ROADM in your design, for example, in which case you will need to check the power levels of the received signals exceed the minimum power level for the given mode of the adaptive transceiver mode (including the 4 dB loss of the ROADM), also the gain of the output amplifier will need to compensate for the loss of the previous span + 4 dB. When losses are talked of adding - these are in the logarithmic domain, using decibels etc."
   ]
  },
  {
   "cell_type": "code",
   "execution_count": 189,
   "id": "3398028d-3186-4a15-a28d-67c512c8a70e",
   "metadata": {
    "tags": []
   },
   "outputs": [
    {
     "data": {
      "text/plain": [
       "{'London': 0.16666666666666666,\n",
       " 'Manchester': 0.16666666666666666,\n",
       " 'Birmingham': 0.16666666666666666,\n",
       " 'Leeds': 0.16666666666666666,\n",
       " 'Glasgow': 0.16666666666666666}"
      ]
     },
     "execution_count": 189,
     "metadata": {},
     "output_type": "execute_result"
    }
   ],
   "source": [
    "# nx.communicability(G)\n",
    "# nx.edge_load(G)\n",
    "# nx.load_centrality(G)"
   ]
  },
  {
   "cell_type": "code",
   "execution_count": 3,
   "id": "0b8888a4",
   "metadata": {},
   "outputs": [
    {
     "name": "stdout",
     "output_type": "stream",
     "text": [
      "[['London', 'London'], ['Manchester', 'Manchester'], ['Birmingham', 'Birmingham'], ['Leeds', 'Leeds'], ['Glasgow', 'Glasgow']]\n"
     ]
    }
   ],
   "source": [
    "#now create all possible networks with nodes of degree >= 2 - how many possibilities?\n",
    "\n",
    "# connected_list = []\n",
    "# for i in Cities:\n",
    "#     for j in Cities:\n",
    "#         if j!=i:\n",
    "#             connected_list.append([i,j])\n",
    "\n",
    "repeated_list = [[a,b] for a,b in zip(Cities,Cities)]\n",
    "print(repeated_list)"
   ]
  },
  {
   "cell_type": "code",
   "execution_count": 8,
   "id": "8d2dfaf4",
   "metadata": {
    "tags": []
   },
   "outputs": [
    {
     "ename": "NameError",
     "evalue": "name 'Cities' is not defined",
     "output_type": "error",
     "traceback": [
      "\u001b[0;31m---------------------------------------------------------------------------\u001b[0m",
      "\u001b[0;31mNameError\u001b[0m                                 Traceback (most recent call last)",
      "\u001b[0;32m/tmp/ipykernel_13577/2258515761.py\u001b[0m in \u001b[0;36m<module>\u001b[0;34m\u001b[0m\n\u001b[1;32m      1\u001b[0m \u001b[0mconnection_list\u001b[0m \u001b[0;34m=\u001b[0m \u001b[0;34m[\u001b[0m\u001b[0;34m]\u001b[0m\u001b[0;34m\u001b[0m\u001b[0;34m\u001b[0m\u001b[0m\n\u001b[0;32m----> 2\u001b[0;31m \u001b[0mpermut\u001b[0m \u001b[0;34m=\u001b[0m \u001b[0mitertools\u001b[0m\u001b[0;34m.\u001b[0m\u001b[0mpermutations\u001b[0m\u001b[0;34m(\u001b[0m\u001b[0mCities\u001b[0m\u001b[0;34m,\u001b[0m \u001b[0mlen\u001b[0m\u001b[0;34m(\u001b[0m\u001b[0mCities\u001b[0m\u001b[0;34m)\u001b[0m\u001b[0;34m)\u001b[0m\u001b[0;34m\u001b[0m\u001b[0;34m\u001b[0m\u001b[0m\n\u001b[0m\u001b[1;32m      3\u001b[0m \u001b[0;34m\u001b[0m\u001b[0m\n\u001b[1;32m      4\u001b[0m \u001b[0;32mfor\u001b[0m \u001b[0mcomb\u001b[0m \u001b[0;32min\u001b[0m \u001b[0mpermut\u001b[0m\u001b[0;34m:\u001b[0m\u001b[0;34m\u001b[0m\u001b[0;34m\u001b[0m\u001b[0m\n\u001b[1;32m      5\u001b[0m     \u001b[0mzipped\u001b[0m \u001b[0;34m=\u001b[0m \u001b[0mzip\u001b[0m\u001b[0;34m(\u001b[0m\u001b[0mcomb\u001b[0m\u001b[0;34m,\u001b[0m \u001b[0mCities\u001b[0m\u001b[0;34m)\u001b[0m\u001b[0;34m\u001b[0m\u001b[0;34m\u001b[0m\u001b[0m\n",
      "\u001b[0;31mNameError\u001b[0m: name 'Cities' is not defined"
     ]
    }
   ],
   "source": [
    "connection_list = []\n",
    "permut = itertools.permutations(Cities, len(Cities))\n",
    "\n",
    "for comb in permut:\n",
    "    zipped = zip(comb, Cities)\n",
    "    connection_list.append(list(zipped))\n",
    "\n",
    "#filter out 1to1 connections\n",
    "\n",
    "remove = []\n",
    "\n",
    "for i in connection_list:\n",
    "    for j in i:\n",
    "        if j[0] == j[1]:\n",
    "            if i not in remove:\n",
    "                remove.append(i)\n",
    "                \n",
    "for i in remove:\n",
    "    connection_list.remove(i)\n",
    "\n",
    "print(connection_list)\n",
    "\n",
    "for i in connection_list:\n",
    "    seen = set()\n",
    "    result = []\n",
    "    for d in i:\n",
    "        if frozenset(d) not in seen:\n",
    "            result.append(d)\n",
    "            seen.add(frozenset(d))\n",
    "    if result != i:\n",
    "        print(i)\n",
    "        connection_list.remove(i)\n",
    "        \n",
    "# print(connection_list)"
   ]
  },
  {
   "cell_type": "code",
   "execution_count": 7,
   "id": "8f65202f-c5ef-4990-b01b-b6627f0408b6",
   "metadata": {
    "tags": []
   },
   "outputs": [],
   "source": [
    "# iterate through all graphs with 5 nodes of degree at least 2\n",
    "\n",
    "import itertools\n",
    "import networkx as nx\n",
    "\n",
    "# Define the number of nodes\n",
    "num_nodes = 5\n",
    "\n",
    "# Generate all possible edges\n",
    "possible_edges = list(itertools.combinations(range(num_nodes), 2))\n",
    "\n",
    "# Iterate through all possible graphs\n",
    "for edges in itertools.combinations(possible_edges, num_nodes - 1):\n",
    "    # Initialize the graph\n",
    "    G = nx.Graph()\n",
    "    G.add_nodes_from(range(num_nodes))\n",
    "    G.add_edges_from(edges)\n",
    "    \n",
    "    # Check if every node has a degree of at least 2\n",
    "    degrees = [deg for node, deg in G.degree()]\n",
    "    if min(degrees) >= 2:\n",
    "        # Do something with the graph\n",
    "        print(G.edges())"
   ]
  },
  {
   "cell_type": "code",
   "execution_count": null,
   "id": "c6587792-22a2-49e9-992f-cbd99672214e",
   "metadata": {},
   "outputs": [],
   "source": [
    "#disconnect an edge iteratively from the complete graph\n",
    "# Create a complete graph with 5 nodes\n",
    "G = nx.complete_graph(5)\n",
    "\n",
    "# Iterate through all edges of the graph and remove one edge at a time\n",
    "for u, v in list(G.edges()):\n",
    "    # Make a copy of the graph\n",
    "    G_copy = G.copy()\n",
    "    # Remove the edge (u, v) from the graph\n",
    "    G_copy.remove_edge(u, v)\n",
    "    # Print the nodes and edges of the modified graph\n",
    "    print(\"Nodes:\", G_copy.nodes())\n",
    "    print(\"Edges:\", G_copy.edges())"
   ]
  },
  {
   "cell_type": "code",
   "execution_count": null,
   "id": "870e2a6b-79b2-41ce-a393-561ba83c2a57",
   "metadata": {},
   "outputs": [],
   "source": [
    "#same but with pairs \n",
    "\n",
    "# Create a complete graph with 5 nodes\n",
    "G = nx.complete_graph(5)\n",
    "\n",
    "# Iterate through all pairs of edges in the graph\n",
    "for e1, e2 in itertools.combinations(G.edges(), 2):\n",
    "    # Make a copy of the graph\n",
    "    G_copy = G.copy()\n",
    "    # Remove the two edges from the graph\n",
    "    G_copy.remove_edge(*e1)\n",
    "    G_copy.remove_edge(*e2)\n",
    "    # Print the nodes and edges of the modified graph\n",
    "    print(\"Nodes:\", G_copy.nodes())\n",
    "    print(\"Edges:\", G_copy.edges())"
   ]
  }
 ],
 "metadata": {
  "kernelspec": {
   "display_name": "Python 3 (ipykernel)",
   "language": "python",
   "name": "python3"
  },
  "language_info": {
   "codemirror_mode": {
    "name": "ipython",
    "version": 3
   },
   "file_extension": ".py",
   "mimetype": "text/x-python",
   "name": "python",
   "nbconvert_exporter": "python",
   "pygments_lexer": "ipython3",
   "version": "3.10.6"
  }
 },
 "nbformat": 4,
 "nbformat_minor": 5
}
